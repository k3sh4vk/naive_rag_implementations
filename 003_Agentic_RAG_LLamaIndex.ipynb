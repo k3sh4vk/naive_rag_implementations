{
  "cells": [
    {
      "cell_type": "markdown",
      "metadata": {
        "id": "hAyhVeyKai2T"
      },
      "source": [
        "# We are going to use unstructured and structured data in our data stores to answer our query\n",
        "# This is possible via an entity called an **agent**.\n",
        "\n",
        "In simplest terms, agents are `LLM Powered Knowledge workers`"
      ]
    },
    {
      "cell_type": "markdown",
      "metadata": {
        "id": "ZjoNcLCGa99w"
      },
      "source": [
        "We are going to get the unstructured data from **wikipedia** and unstructured from the database (which will contain ratings and other quantitative stuff) we will create using a csv."
      ]
    },
    {
      "cell_type": "markdown",
      "metadata": {
        "id": "3NCFTOe8aRGb"
      },
      "source": [
        "Install Pre-requisites"
      ]
    },
    {
      "cell_type": "code",
      "execution_count": null,
      "metadata": {
        "collapsed": true,
        "id": "9PJDi61WaRmr"
      },
      "outputs": [],
      "source": [
        "!pip install -U -q nest_asyncio openai llama-index llama-index-embeddings-nomic llama-index-readers-wikipedia llama-index-llms-gradient nltk tiktoken sentence-transformers pydantic wikipedia sqlalchemy pandas python-dotenv"
      ]
    },
    {
      "cell_type": "markdown",
      "metadata": {
        "id": "-nTWwzPgaGLy"
      },
      "source": [
        "Notebook doesn't allow async operations to complete properly when applied in a loop. So we will use nest_asyncio for it"
      ]
    },
    {
      "cell_type": "code",
      "execution_count": null,
      "metadata": {
        "id": "o-yVudNdY3Fh"
      },
      "outputs": [],
      "source": [
        "import nest_asyncio\n",
        "import logging\n",
        "import sys\n",
        "\n",
        "nest_asyncio.apply()\n",
        "\n",
        "logging.basicConfig(stream=sys.stdout, level=logging.INFO)\n",
        "logging.getLogger().addHandler(logging.StreamHandler(stream=sys.stdout))"
      ]
    },
    {
      "cell_type": "markdown",
      "metadata": {
        "id": "xhsTOLfNck3x"
      },
      "source": [
        "INITIATE OPENAI KEYS"
      ]
    },
    {
      "cell_type": "code",
      "execution_count": null,
      "metadata": {
        "id": "Evc2oI_jco88"
      },
      "outputs": [],
      "source": [
        "import os\n",
        "from pprint import pformat\n",
        "from dotenv import dotenv_values\n",
        "env_file_path = \"env.txt\"\n",
        "\n",
        "env_dict = dotenv_values(env_file_path)"
      ]
    },
    {
      "cell_type": "markdown",
      "metadata": {
        "id": "N2me-uvSfxs_"
      },
      "source": [
        "WE ARE GOING TO USE NOMIC EMBEDDING MODEL FOR THIS TASK FOR WHICH A VERY NICE [CONNECTOR IS PROVIDED BY llama-index team](https://docs.llamaindex.ai/en/latest/examples/embeddings/nomic/)."
      ]
    },
    {
      "cell_type": "code",
      "execution_count": null,
      "metadata": {
        "id": "nj-OPXnydAOw"
      },
      "outputs": [],
      "source": [
        "from llama_index.embeddings.nomic import NomicEmbedding\n",
        "\n",
        "\n",
        "# Nomic has released two models. v1 has fixed dimensionality and v1.5 supports variable dimen\n",
        "# - nomic-embed-text-v1   | fixed dimensionality\n",
        "# - nomic-embed-text-v1.5 | variable length dimensionality via matryoshka learning | size range : 64 to 768\n",
        "\n",
        "embedding_model = NomicEmbedding(\n",
        "    model_name=\"nomic-embed-text-v1\",\n",
        "    api_key=env_dict['NOMIC_API_KEY']\n",
        ")"
      ]
    },
    {
      "cell_type": "markdown",
      "metadata": {
        "id": "rYO_R-otmKWj"
      },
      "source": [
        "Lets test the embedding model"
      ]
    },
    {
      "cell_type": "code",
      "execution_count": null,
      "metadata": {
        "colab": {
          "base_uri": "https://localhost:8080/"
        },
        "collapsed": true,
        "id": "gq-MEzZxmIkW",
        "outputId": "3514cdc5-6267-4245-ca9a-215a7b216a4b"
      },
      "outputs": [],
      "source": [
        "embedding_model.get_text_embedding(\"Nomic Embedding !\")"
      ]
    },
    {
      "cell_type": "markdown",
      "metadata": {
        "id": "iyjX3NeDmiwn"
      },
      "source": [
        "#### Core Settings | Configurations\n",
        "\n",
        "LlamaIndex has the ability to set `Settings` (Successor of `ServiceContext`). The basic idea here is that we use this to establish some core properties and then can pass it to various services.\n",
        "\n",
        "While we could set this up as a global, we're going to leave it as `Settings` so we can see where it's applied.\n",
        "\n",
        "We'll set a few significant contexts:\n",
        "\n",
        "- `chunk_size` - this is what it says on the tin\n",
        "- `llm` - this is where we can set what model we wish to use as our primary LLM when we're making `QueryEngine`s and more\n",
        "- `embed_model` - this will help us keep our embedding model consistent across use cases\n",
        "\n",
        "\n",
        "We'll also create some resources we're going to keep consistent across all of our indices today.\n",
        "\n",
        "- `text_splitter` - This is what we'll use to split our text, feel free to experiment here\n",
        "- `SimpleNodeParser` - This is what will work in tandem with the `text_splitter` to parse our full sized documents into nodes."
      ]
    },
    {
      "cell_type": "code",
      "execution_count": null,
      "metadata": {
        "id": "Q3lZcvOXmVuU"
      },
      "outputs": [],
      "source": [
        "from llama_index.llms.gradient import GradientBaseModelLLM  # import Model\n",
        "from llama_index.core import Settings                       # import Settings\n",
        "from llama_index.core.node_parser import SentenceSplitter   # import nodeparser variant\n",
        "from llama_index.core.llms import ChatMessage\n",
        "from llama_index.core.callbacks import CallbackManager, LlamaDebugHandler\n",
        "from llama_index.core.output_parsers import PydanticOutputParser\n",
        "from pprint import pformat\n",
        "\n",
        "# using llama3-bb-chat as openai api proxy not working anymore\n",
        "gradient_handler = LlamaDebugHandler()\n",
        "gradient_callback = CallbackManager([gradient_handler])\n",
        "\n",
        "base_model_slug = \"llama3-8b-chat\"\n",
        "language_model = GradientBaseModelLLM(\n",
        "    workspace_id=env_dict['GRADIENT_WORKSPACE_ID'],\n",
        "    access_token=env_dict['GRADIENT_ACCESS_TOKEN'],\n",
        "    base_model_slug=base_model_slug,\n",
        "    max_tokens=300, is_chat_model=True,\n",
        "    callback_manager=gradient_callback\n",
        ")\n",
        "\n",
        "# configure Settings\n",
        "Settings.llm = language_model\n",
        "Settings.embed_model = embedding_model\n",
        "Settings.node_parser = SentenceSplitter(chunk_size=512, chunk_overlap=20)\n",
        "Settings.context_window = 3900\n"
      ]
    },
    {
      "cell_type": "markdown",
      "metadata": {
        "id": "mokpQowT6bAo"
      },
      "source": [
        "LETS INITIATE A VECTOR STORE FOR OUR DOCS\n",
        "\n",
        "- We will get the documents from wikipedia, chunk them and store them in\n",
        "our vector store"
      ]
    },
    {
      "cell_type": "code",
      "execution_count": null,
      "metadata": {
        "id": "JBb2gj_VnxXk"
      },
      "outputs": [],
      "source": [
        "from llama_index.core import VectorStoreIndex\n",
        "\n",
        "index = VectorStoreIndex.from_documents([])"
      ]
    },
    {
      "cell_type": "markdown",
      "metadata": {
        "id": "lF59Yzwe7KEZ"
      },
      "source": [
        "READ DATA FROM Wikipedia\n",
        "\n",
        "Setting `auto_suggest=False` ensures we run into fewer auto-correct based errors."
      ]
    },
    {
      "cell_type": "code",
      "execution_count": null,
      "metadata": {
        "id": "uliwbVrx6-8Q"
      },
      "outputs": [],
      "source": [
        "from llama_index.readers.wikipedia import WikipediaReader\n",
        "\n",
        "movie_list = [\"Barbie (film)\", \"Oppenheimer (film)\"]\n",
        "\n",
        "wiki_docs = WikipediaReader().load_data(pages=movie_list, auto_suggest=False)"
      ]
    },
    {
      "cell_type": "markdown",
      "metadata": {
        "id": "sVtXIdye8BEO"
      },
      "source": [
        "Now we will loop through our documents and metadata and construct nodes (associated with particular metadata for easy filtration later)."
      ]
    },
    {
      "cell_type": "code",
      "execution_count": null,
      "metadata": {
        "id": "y-L7GHnr73zb"
      },
      "outputs": [],
      "source": [
        "for movie, wiki_doc in zip(movie_list, wiki_docs):\n",
        "    nodes = Settings.node_parser.get_nodes_from_documents([wiki_doc])\n",
        "\n",
        "    # add metadata to each node\n",
        "    for node in nodes:\n",
        "        node.metadata = {\"title\": movie}\n",
        "    index.insert_nodes(nodes=nodes)"
      ]
    },
    {
      "cell_type": "markdown",
      "metadata": {
        "id": "YOuur2Lt-1Xx"
      },
      "source": [
        "#### Auto Retriever Functional Tool\n",
        "\n",
        "This tool will leverage OpenAI's functional endpoint to select the correct metadata filter and query the filtered index - only looking at nodes with the desired metadata.\n",
        "\n",
        "A simplified diagram: ![image](https://i.imgur.com/AICDPav.png)"
      ]
    },
    {
      "cell_type": "markdown",
      "metadata": {
        "id": "JD6FIb4H--IL"
      },
      "source": [
        "First, we need to create our `VectoreStoreInfo` object which will hold all the relevant metadata we need for each component (in this case title metadata).\n",
        "\n",
        "Notice that you need to include it in a text list.\n",
        "\n",
        "Then we will define a retriever `VectorIndexAutoRetriever` which will retrieve relevant info from index.\n",
        "And finally we will create a retriever_query_engine `RetieverQueryEngine` which will act as us communication point between query and retriever."
      ]
    },
    {
      "cell_type": "code",
      "execution_count": null,
      "metadata": {
        "id": "2h85mCOq9_Z7"
      },
      "outputs": [],
      "source": [
        "from llama_index.core.tools import FunctionTool\n",
        "from llama_index.core.vector_stores.types import (\n",
        "    VectorStoreInfo, MetadataInfo, ExactMatchFilter, MetadataFilters\n",
        ")\n",
        "from llama_index.core.retrievers import VectorIndexAutoRetriever\n",
        "from llama_index.core.query_engine import RetrieverQueryEngine\n",
        "\n",
        "top_k = 6\n",
        "\n",
        "# provide vector store information\n",
        "vector_store_info = VectorStoreInfo(\n",
        "    content_info=\"semantic information about movies\",\n",
        "    metadata_info=[MetadataInfo(\n",
        "        name=\"title\",\n",
        "        type=\"str\",\n",
        "        description=\"one of the movie from the list [Barbie (film), Oppenheimer (film)]\"\n",
        "    )]\n",
        ")\n",
        "\n",
        "# make sure that filter terms are an exact match\n",
        "filter_key_list = [\"title\"]\n",
        "filter_value_list = movie_list.copy()\n",
        "\n",
        "exact_match_filters = [\n",
        "    ExactMatchFilter(key=k, value=v)\n",
        "    for k, v in zip(filter_key_list, filter_value_list)\n",
        "]\n",
        "\n",
        "# design a retriever which will check index, get top_k while applying filters\n",
        "vector_auto_retriever = VectorIndexAutoRetriever(\n",
        "    index=index, vector_store_info=vector_store_info, similarity_top_k=top_k,\n",
        "    extra_filters=MetadataFilters(filters=exact_match_filters),\n",
        "    verbose=True\n",
        ")\n",
        "\n",
        "# create an engine which will receive the input from the tool\n",
        "retriever_query_engine = RetrieverQueryEngine.from_args(\n",
        "    retriever=vector_auto_retriever\n",
        ")"
      ]
    },
    {
      "cell_type": "markdown",
      "metadata": {
        "id": "9_Og93J7EhHW"
      },
      "source": [
        "Here we will define the `QueryEngineTool` for our vector_query_engine which will be provided to our `Agent` as a tool"
      ]
    },
    {
      "cell_type": "code",
      "execution_count": null,
      "metadata": {
        "id": "MpQMQdJMCj3u"
      },
      "outputs": [],
      "source": [
        "from llama_index.core.tools import QueryEngineTool\n",
        "\n",
        "\n",
        "# vector_tool detailed information\n",
        "vector_tool_description = f\"\"\"\n",
        "Use this tool to look up semantic information about films.\n",
        "The vector database schema is given below:\n",
        "{vector_store_info.json()}\n",
        "\"\"\"\n",
        "vector_tool = QueryEngineTool.from_defaults(\n",
        "    query_engine=retriever_query_engine,\n",
        "    name=\"vector_tool\",\n",
        "    description=vector_tool_description\n",
        ")"
      ]
    },
    {
      "cell_type": "markdown",
      "metadata": {
        "id": "XPjVM1fjE2S9"
      },
      "source": [
        "#### Now we will work to create a `QueryEngineTool` for our vector indexed data"
      ]
    },
    {
      "cell_type": "code",
      "execution_count": null,
      "metadata": {
        "id": "wlbdT1E5EfGG"
      },
      "outputs": [],
      "source": [
        "from llama_index.agent.openai import OpenAIAgent\n",
        "from llama_index.core.agent import ReActAgent\n",
        "\n",
        "vector_agent = ReActAgent.from_tools(\n",
        "    tools=[vector_tool],\n",
        "    verbose=True,\n",
        "    max_iterations=20\n",
        ")"
      ]
    },
    {
      "cell_type": "code",
      "execution_count": null,
      "metadata": {
        "colab": {
          "base_uri": "https://localhost:8080/"
        },
        "id": "TVp30hytFpZY",
        "outputId": "c9f54b2c-4139-4db2-bab2-3e77a88ffd7e"
      },
      "outputs": [
        {
          "name": "stdout",
          "output_type": "stream",
          "text": [
            "\u001b[1;3;38;5;200mThought: The current language of the user is: English. I need to use a tool to help me answer the question.\n",
            "Action: vector_tool\n",
            "Action Input: {'input': 'Barbie (film)'}\n",
            "\u001b[0m"
          ]
        },
        {
          "name": "stderr",
          "output_type": "stream",
          "text": [
            "WARNING:llama_index.core.indices.vector_store.retrievers.auto_retriever.auto_retriever:Failed to parse query spec, using defaults as fallback.\n"
          ]
        },
        {
          "name": "stdout",
          "output_type": "stream",
          "text": [
            "Failed to parse query spec, using defaults as fallback.\n",
            "Using query str: Barbie (film)\n",
            "Using filters: []\n",
            "\u001b[1;3;34mObservation: The 2023 fantasy comedy film directed by Greta Gerwig, starring Margot Robbie as Barbie and Ryan Gosling as Ken, has received widespread critical acclaim and has become a commercial success. The film's marketing campaign was extensive, with partnerships and collaborations with various brands, and it premiered at the Shrine Auditorium in Los Angeles before being released in the United States and the United Kingdom on July 21, 2023. The film has grossed over $1.446 billion worldwide, making it the highest-grossing film of 2023 and the highest-grossing film ever released by Warner Bros. It has also become the highest-grossing live-action comedy film of all time, surpassing the domestic and worldwide records previously held by Home Alone (1990) and The Hangover Part II (2011) respectively.\n",
            "\u001b[0m\u001b[1;3;38;5;200mThought: The current language of the user is: English. I need to use a tool to help me answer the question.\n",
            "Action: vector_tool\n",
            "Action Input: {'input': 'Oppenheimer (film)'}\n",
            "\u001b[0m"
          ]
        },
        {
          "name": "stderr",
          "output_type": "stream",
          "text": [
            "WARNING:llama_index.core.indices.vector_store.retrievers.auto_retriever.auto_retriever:Failed to parse query spec, using defaults as fallback.\n"
          ]
        },
        {
          "name": "stdout",
          "output_type": "stream",
          "text": [
            "Failed to parse query spec, using defaults as fallback.\n",
            "Using query str: Oppenheimer (film)\n",
            "Using filters: []\n",
            "\u001b[1;3;34mObservation: The film Oppenheimer, a biographical film about J. Robert Oppenheimer, was released on the same day as Barbie, a fantasy comedy film. The two films appealed to different audiences, leading to a trend dubbed \"Barbenheimer.\"\n",
            "\u001b[0m\u001b[1;3;38;5;200mThought: The current language of the user is: English. I need to use a tool to help me answer the question.\n",
            "Action: vector_tool\n",
            "Action Input: {'input': 'Tell me the story of the Barbie movie in 200 words.'}\n",
            "\u001b[0m"
          ]
        },
        {
          "name": "stderr",
          "output_type": "stream",
          "text": [
            "WARNING:llama_index.core.indices.vector_store.retrievers.auto_retriever.auto_retriever:Failed to parse query spec, using defaults as fallback.\n"
          ]
        },
        {
          "name": "stdout",
          "output_type": "stream",
          "text": [
            "Failed to parse query spec, using defaults as fallback.\n",
            "Using query str: Tell me the story of the Barbie movie in 200 words.\n",
            "Using filters: []\n",
            "\u001b[1;3;34mObservation: In a world where Barbie dolls come to life, the iconic fashion doll, Barbie, played by Margot Robbie, is on a journey of self-discovery. She and her partner, Ken, played by Ryan Gosling, navigate the fantastical world of Barbieland and the real world, grappling with existential crises and societal pressures. The film is a commentary on patriarchy and the effects of feminism, as Barbie and her friends, including America Ferrera, Michael Cera, and Kate McKinnon, challenge the norms of their society.\n",
            "\n",
            "As Barbie struggles to find her identity, she meets the spirit of Ruth Handler, the creator of Barbie, who encourages her to forge her own path. Along the way, Barbie and Ken confront their own biases and learn to appreciate each other's autonomy. The film features a star-studded cast, including Will Ferrell as the CEO of Mattel, and a soundtrack that blends classic and modern hits.\n",
            "\n",
            "Through its vibrant colors, witty humor, and poignant themes, the Barbie movie tells a story of empowerment, self-discovery, and the importance of embracing one's true identity.\n",
            "\u001b[0m\u001b[1;3;38;5;200mThought: The current language of the user is: English. I need to answer the question without using any more tools.\n",
            "Answer: The story of the Barbie movie is about Barbie, played by Margot Robbie, who comes to life and embarks on a journey of self-discovery in a fantastical world. She navigates societal pressures and existential crises alongside her partner Ken, played by Ryan Gosling, and her friends. The film is a commentary on patriarchy and feminism, as Barbie and her friends challenge the norms of their society. Along the way, Barbie meets the spirit of Ruth Handler, the creator of Barbie, who encourages her to forge her own path. The movie features a star-studded cast and a soundtrack that blends classic and modern hits, and tells a story of empowerment, self-discovery, and embracing one's true identity.\n",
            "\u001b[0m"
          ]
        }
      ],
      "source": [
        "response = vector_agent.chat(message=\"Tell me the story of the Barbie movie in 200 words.\")"
      ]
    },
    {
      "cell_type": "code",
      "execution_count": null,
      "metadata": {
        "colab": {
          "base_uri": "https://localhost:8080/",
          "height": 105
        },
        "id": "pLl95J05FyEO",
        "outputId": "81410781-cb93-45c6-b517-04c419a183cb"
      },
      "outputs": [
        {
          "data": {
            "application/vnd.google.colaboratory.intrinsic+json": {
              "type": "string"
            },
            "text/plain": [
              "\"The story of the Barbie movie is about Barbie, played by Margot Robbie, who comes to life and embarks on a journey of self-discovery in a fantastical world. She navigates societal pressures and existential crises alongside her partner Ken, played by Ryan Gosling, and her friends. The film is a commentary on patriarchy and feminism, as Barbie and her friends challenge the norms of their society. Along the way, Barbie meets the spirit of Ruth Handler, the creator of Barbie, who encourages her to forge her own path. The movie features a star-studded cast and a soundtrack that blends classic and modern hits, and tells a story of empowerment, self-discovery, and embracing one's true identity.\""
            ]
          },
          "execution_count": 133,
          "metadata": {},
          "output_type": "execute_result"
        }
      ],
      "source": [
        "response.response"
      ]
    },
    {
      "cell_type": "markdown",
      "metadata": {
        "id": "MWSd92REIpYm"
      },
      "source": [
        "### ADDING SQL TO THE AGENT's ARSENAL"
      ]
    },
    {
      "cell_type": "markdown",
      "metadata": {
        "id": "-zfqAWGzJgT3"
      },
      "source": [
        "The next few steps should be largely straightforward, we'll want to:\n",
        "\n",
        "1. Read in our `.csv` files into `pd.DataFrame` objects\n",
        "2. Create an in-memory `sqlite` powered `sqlalchemy` engine\n",
        "3. Cast our `pd.DataFrame` objects to the SQL engine\n",
        "4. Create an `SQLDatabase` object through LlamaIndex\n",
        "5. Use that to create a `QueryEngineTool` that we can interact with through the `NLSQLTableQueryEngine`!"
      ]
    },
    {
      "cell_type": "code",
      "execution_count": null,
      "metadata": {
        "id": "W32aUA4BIX0v"
      },
      "outputs": [],
      "source": [
        "import pandas as pd\n",
        "\n",
        "barbie_df = pd.read_csv(\"/content/drive/MyDrive/Colab Notebooks/training_data/barbie.csv\")\n",
        "oppenheimer_df = pd.read_csv(\"/content/drive/MyDrive/Colab Notebooks/training_data/barbie.csv\")"
      ]
    },
    {
      "cell_type": "code",
      "execution_count": null,
      "metadata": {
        "id": "ABbVxK2AJyxL"
      },
      "outputs": [],
      "source": [
        "from sqlalchemy import create_engine\n",
        "\n",
        "engine = create_engine(\"sqlite://\")"
      ]
    },
    {
      "cell_type": "code",
      "execution_count": null,
      "metadata": {
        "colab": {
          "base_uri": "https://localhost:8080/"
        },
        "id": "oi9D1IhfJ1om",
        "outputId": "30a5de6a-b02c-4918-9046-8d4e1bbe2146"
      },
      "outputs": [
        {
          "data": {
            "text/plain": [
              "125"
            ]
          },
          "execution_count": 118,
          "metadata": {},
          "output_type": "execute_result"
        }
      ],
      "source": [
        "barbie_df.to_sql(\n",
        "    \"barbie\",\n",
        "    engine\n",
        ")\n",
        "\n",
        "oppenheimer_df.to_sql(\n",
        "    \"oppenheimer\",\n",
        "    engine\n",
        ")"
      ]
    },
    {
      "cell_type": "code",
      "execution_count": null,
      "metadata": {
        "id": "uSkCFfAZ0pgL"
      },
      "outputs": [],
      "source": [
        "db_tables = [\"barbie\", \"oppenheimer\"]"
      ]
    },
    {
      "cell_type": "markdown",
      "metadata": {
        "id": "IkVdYnn6KBdc"
      },
      "source": [
        "Create SQLDatabase for the sqlengine"
      ]
    },
    {
      "cell_type": "code",
      "execution_count": null,
      "metadata": {
        "id": "7masEwQxJ__j"
      },
      "outputs": [],
      "source": [
        "from llama_index.core import SQLDatabase\n",
        "\n",
        "sql_database = SQLDatabase(\n",
        "    engine=engine,\n",
        "    include_tables=db_tables\n",
        ")"
      ]
    },
    {
      "cell_type": "markdown",
      "metadata": {
        "id": "slfH7BNFKKJM"
      },
      "source": [
        "Create the NLSQLTableQueryEngine interface for all added SQL tables"
      ]
    },
    {
      "cell_type": "code",
      "execution_count": null,
      "metadata": {
        "id": "sxpcEiNzKKcb"
      },
      "outputs": [],
      "source": [
        "from llama_index.core.query_engine import NLSQLTableQueryEngine\n",
        "\n",
        "sql_query_engine = NLSQLTableQueryEngine(\n",
        "    sql_database=sql_database, verbose=True,\n",
        "    tables=db_tables\n",
        "    )"
      ]
    },
    {
      "cell_type": "markdown",
      "metadata": {
        "id": "UQPwflPNLnVr"
      },
      "source": [
        "Define a QueryEngineTool which will utilize the sql data we put together."
      ]
    },
    {
      "cell_type": "code",
      "execution_count": null,
      "metadata": {
        "id": "IAHek2-mLT4x"
      },
      "outputs": [],
      "source": [
        "sql_tool = QueryEngineTool.from_defaults(\n",
        "    query_engine=sql_query_engine,\n",
        "    name=\"sql_tool\",\n",
        "    description=(\n",
        "        \"Useful for translating a natural language query into a SQL query over\"\n",
        "        \" barbie, containing information related to reviews of the Barbie movie\"\n",
        "        \" oppenheimer, containing information related to reviews of the Oppenheimer movie. \"\n",
        "        \"\\n\\n\".join([\n",
        "            f\"The schema of the table '{table}' is - \\n {sql_database.get_table_columns(table)}\"\n",
        "            for table in\n",
        "            db_tables\n",
        "        ])\n",
        "    ),\n",
        ")"
      ]
    },
    {
      "cell_type": "markdown",
      "metadata": {
        "id": "7mDQCPG7L4Hg"
      },
      "source": [
        "Create an Agent"
      ]
    },
    {
      "cell_type": "code",
      "execution_count": null,
      "metadata": {
        "id": "MsuPX5nJLmcX"
      },
      "outputs": [],
      "source": [
        "sql_agent = ReActAgent.from_tools(\n",
        "    tools=[sql_tool],\n",
        "    verbose=True,\n",
        "    max_iterations=20\n",
        ")"
      ]
    },
    {
      "cell_type": "markdown",
      "metadata": {
        "id": "n4vkvxtJMUlU"
      },
      "source": [
        "Testing the response from sql tool"
      ]
    },
    {
      "cell_type": "code",
      "execution_count": null,
      "metadata": {
        "colab": {
          "base_uri": "https://localhost:8080/"
        },
        "id": "oZvadNGyL57R",
        "outputId": "d845cb29-cd96-4af1-9b43-209ae330f5bb"
      },
      "outputs": [
        {
          "name": "stdout",
          "output_type": "stream",
          "text": [
            "\u001b[1;3;38;5;200mThought: The user is asking about the average rating of the two films, Barbie and Oppenheimer. I need to use a tool to help me answer the question.\n",
            "Action: sql_tool\n",
            "Action Input: {'input': 'SELECT AVG(Rating) FROM barbie UNION SELECT AVG(Rating) FROM oppenheimer'}\n",
            "\u001b[0m\u001b[1;3;34mObservation: The average rating of Barbie and Oppenheimer is 7.36.\n",
            "\u001b[0m\u001b[1;3;38;5;200mThought: The user has provided the average rating of the two films, Barbie and Oppenheimer. I need to verify the accuracy of the answer.\n",
            "Action: sql_tool\n",
            "Action Input: {'input': 'SELECT AVG(Rating) FROM barbie UNION SELECT AVG(Rating) FROM oppenheimer'}\n",
            "\u001b[0m\u001b[1;3;34mObservation: The average rating of Barbie and Oppenheimer is 7.36.\n",
            "\u001b[0m\u001b[1;3;38;5;200mThought: The user has already provided the average rating of the two films, Barbie and Oppenheimer. I can answer the question without using any more tools. I'll use the user's language to answer.\n",
            "Answer: The average rating of the two films, Barbie and Oppenheimer, is 7.36.\n",
            "\u001b[0m"
          ]
        }
      ],
      "source": [
        "response = sql_agent.chat(\"What is the average rating of the two films?\")"
      ]
    },
    {
      "cell_type": "code",
      "execution_count": null,
      "metadata": {
        "colab": {
          "base_uri": "https://localhost:8080/",
          "height": 36
        },
        "id": "uMgUBorhMDj5",
        "outputId": "137d0a0f-ef71-40a1-d0c8-822133225133"
      },
      "outputs": [
        {
          "data": {
            "application/vnd.google.colaboratory.intrinsic+json": {
              "type": "string"
            },
            "text/plain": [
              "'The average rating of the two films, Barbie and Oppenheimer, is 7.36.'"
            ]
          },
          "execution_count": 176,
          "metadata": {},
          "output_type": "execute_result"
        }
      ],
      "source": [
        "response.response"
      ]
    },
    {
      "cell_type": "markdown",
      "metadata": {
        "id": "rRDDtq_lMY96"
      },
      "source": [
        "### FINALLY COMBINING THE TWO TOOLS"
      ]
    },
    {
      "cell_type": "code",
      "execution_count": null,
      "metadata": {
        "id": "Km5JeP59MH1z"
      },
      "outputs": [],
      "source": [
        "barbenheimer_agent = ReActAgent.from_tools(\n",
        "    tools=[sql_tool, vector_tool],\n",
        "    verbose=True,\n",
        "    max_iterations=100,\n",
        "    # context=\"Break down the query into very small steps and then execute them one by one to reach the answer. If you encounter any error, try again by rectifying the error and the approach taken previously\"\n",
        ")"
      ]
    },
    {
      "cell_type": "code",
      "execution_count": null,
      "metadata": {
        "colab": {
          "base_uri": "https://localhost:8080/"
        },
        "id": "zNU6DlsdMftQ",
        "outputId": "79d983d1-332c-40b6-afb8-707f65333e80"
      },
      "outputs": [
        {
          "name": "stdout",
          "output_type": "stream",
          "text": [
            "\u001b[1;3;38;5;200mThought: The current language of the user is English. I need to use a tool to help me answer the question.\n",
            "Action: sql_tool\n",
            "Action Input: {'input': \"SELECT * FROM barbie WHERE Rating = (SELECT MIN(Rating) FROM barbie) AND Review_Title LIKE '%Barbie%' UNION SELECT * FROM oppenheimer WHERE Rating = (SELECT MIN(Rating) FROM oppenheimer) AND Review_Title LIKE '%Oppenheimer%'\"}\n",
            "\u001b[0m\u001b[1;3;34mObservation: It looks like the SQL query is not valid. The error message is not providing much information, but I can try to help you identify the issue.\n",
            "\n",
            "The query is trying to combine two subqueries using the `UNION` operator. The subqueries are selecting the minimum rating and review title from the `barbie` and `oppenheimer` tables, respectively, where the review title contains the words \"Barbie\" or \"Oppenheimer\".\n",
            "\n",
            "One possible issue is that the subqueries are not properly aliased. The `AS` keyword is used to give an alias to a table or subquery, but it's not used correctly in this query. The correct syntax would be:\n",
            "```sql\n",
            "SELECT index, Review_Title, Rating\n",
            "FROM (\n",
            "  SELECT index, Review_Title, Rating\n",
            "  FROM barbie\n",
            "  WHERE Rating = (SELECT MIN(Rating) FROM barbie)\n",
            "  AND Review_Title LIKE '%Barbie%'\n",
            ") AS barbie_min_rating\n",
            "UNION\n",
            "SELECT index, Review_Title, Rating\n",
            "FROM (\n",
            "  SELECT index, Review_Title, Rating\n",
            "  FROM oppenheimer\n",
            "  WHERE Rating = (SELECT MIN(Rating) FROM oppenheimer)\n",
            "  AND Review_Title LIKE '%Oppenheimer%'\n",
            ") AS oppenheimer_min_rating;\n",
            "```\n",
            "Another possible issue is that the `UNION` operator requires that the subqueries have the same number and types of columns. In this query, the subqueries have different numbers of columns (3 columns in\n",
            "\u001b[0m\u001b[1;3;38;5;200mThought: The current language of the user is English. The user has identified the issue with the SQL query and provided a corrected version. I will use this corrected query to answer the question.\n",
            "Action: sql_tool\n",
            "Action Input: {'input': \"SELECT index, Review_Title, Rating FROM (SELECT index, Review_Title, Rating FROM barbie WHERE Rating = (SELECT MIN(Rating) FROM barbie) AND Review_Title LIKE '%Barbie%') AS barbie_min_rating UNION SELECT index, Review_Title, Rating FROM (SELECT index, Review_Title, Rating FROM oppenheimer WHERE Rating = (SELECT MIN(Rating) FROM oppenheimer) AND Review_Title LIKE '%Oppenheimer%') AS oppenheimer_min_rating\"}\n",
            "\u001b[0m\u001b[1;3;34mObservation: It looks like the SQL query you provided is invalid. There are a few potential issues:\n",
            "\n",
            "1. The query is trying to use a subquery as a table alias, which is not allowed in most SQL databases. The subquery `(SELECT index, Review_Title, Rating FROM barbie WHERE Rating = (SELECT MIN(Rating) FROM barbie) AND Review_Title LIKE '%Barbie%')` is being used as the table alias `barbie_min_rating`, but this is not a valid table alias.\n",
            "2. The query is using the `UNION` operator to combine the results of two subqueries, but the subqueries are not selecting the same columns. The first subquery selects `index`, `Review_Title`, and `Rating` columns, while the second subquery selects the same columns but with different table names (`barbie` vs `oppenheimer`).\n",
            "\n",
            "To fix the query, you can try rewriting it to use a single subquery that selects the minimum rating for each table, and then use a `UNION` operator to combine the results. Here's an example of how you could rewrite the query:\n",
            "```sql\n",
            "SELECT index, Review_Title, Rating\n",
            "FROM (\n",
            "  SELECT index, Review_Title, Rating\n",
            "  FROM barbie\n",
            "  WHERE Rating = (SELECT MIN(Rating) FROM barbie)\n",
            "  AND Review_Title LIKE '%Barbie%'\n",
            "  UNION ALL\n",
            "  SELECT index, Review_Title, Rating\n",
            "  FROM oppenheimer\n",
            "  WHERE Rating\n",
            "\u001b[0m\u001b[1;3;38;5;200mThought: The current language of the user is English. The user has identified the issue with the SQL query and provided a rewritten version. I will use this rewritten query to answer the question.\n",
            "Action: sql_tool\n",
            "Action Input: {'input': \"SELECT index, Review_Title, Rating FROM (SELECT index, Review_Title, Rating FROM barbie WHERE Rating = (SELECT MIN(Rating) FROM barbie) AND Review_Title LIKE '%Barbie%') AS barbie_min_rating UNION ALL SELECT index, Review_Title, Rating FROM (SELECT index, Review_Title, Rating FROM oppenheimer WHERE Rating = (SELECT MIN(Rating) FROM oppenheimer) AND Review_Title LIKE '%Oppenheimer%') AS oppenheimer_min_rating\"}\n",
            "\u001b[0m\u001b[1;3;34mObservation: It looks like the SQL query you provided is not valid. There are a few issues with the query:\n",
            "\n",
            "1. The query is trying to use a subquery as a table alias, which is not allowed in SQL. The subquery `(SELECT index, Review_Title, Rating FROM barbie WHERE Rating = (SELECT MIN(Rating) FROM barbie) AND Review_Title LIKE '%Barbie%') AS barbie_min_rating` is trying to be used as a table alias, but it's not a valid table alias.\n",
            "2. The query is also trying to use a union operator (`UNION ALL`) without specifying the columns that the two queries are supposed to be unioned on. The `UNION ALL` operator requires that the two queries have the same number of columns and that the columns are in the same order.\n",
            "\n",
            "To fix the query, you can try rewriting it as follows:\n",
            "\n",
            "```\n",
            "SELECT index, Review_Title, Rating\n",
            "FROM (\n",
            "  SELECT index, Review_Title, Rating\n",
            "  FROM barbie\n",
            "  WHERE Rating = (SELECT MIN(Rating) FROM barbie)\n",
            "  AND Review_Title LIKE '%Barbie%'\n",
            ") AS barbie_min_rating\n",
            "\n",
            "UNION ALL\n",
            "\n",
            "SELECT index, Review_Title, Rating\n",
            "FROM (\n",
            "  SELECT index, Review_Title, Rating\n",
            "  FROM oppenheimer\n",
            "  WHERE Rating = (SELECT MIN(Rating) FROM oppenheimer)\n",
            "  AND Review_Title LIKE '%Oppenheimer%'\n",
            ") AS oppenheimer_min_rating\n",
            "```\n",
            "\n",
            "This\n",
            "\u001b[0m\u001b[1;3;38;5;200mThought: The current language of the user is English. The user has identified the issue with the SQL query and provided a rewritten version. I will use this rewritten query to answer the question.\n",
            "Action: sql_tool\n",
            "Action Input: {'input': \"SELECT index, Review_Title, Rating FROM (SELECT index, Review_Title, Rating FROM barbie WHERE Rating = (SELECT MIN(Rating) FROM barbie) AND Review_Title LIKE '%Barbie%') AS barbie_min_rating UNION ALL SELECT index, Review_Title, Rating FROM (SELECT index, Review_Title, Rating FROM oppenheimer WHERE Rating = (SELECT MIN(Rating) FROM oppenheimer) AND Review_Title LIKE '%Oppenheimer%') AS oppenheimer_min_rating\"}\n",
            "\u001b[0m\u001b[1;3;34mObservation: It looks like the SQL query you provided is not valid. There are a few issues with the query:\n",
            "\n",
            "1. The query is trying to use a subquery as a table alias, which is not allowed in SQL. The subquery `(SELECT index, Review_Title, Rating FROM barbie WHERE Rating = (SELECT MIN(Rating) FROM barbie) AND Review_Title LIKE '%Barbie%') AS barbie_min_rating` is trying to be used as a table alias, but it's not a valid table alias.\n",
            "2. The query is also trying to use a UNION ALL operator without specifying the columns that the two queries are supposed to be unioned on. The UNION ALL operator requires that the columns in the two queries be the same, but in this case, the columns are different.\n",
            "\n",
            "To fix the query, you can try rewriting it to use a single subquery that returns the minimum rating for both the `barbie` and `oppenheimer` tables, and then use that subquery to filter the results. Here's an example of how you could do that:\n",
            "\n",
            "```\n",
            "SELECT index, Review_Title, Rating\n",
            "FROM (\n",
            "  SELECT index, Review_Title, Rating,\n",
            "         ROW_NUMBER() OVER (PARTITION BY table_name ORDER BY Rating) AS row_num\n",
            "  FROM (\n",
            "    SELECT index, Review_Title, Rating, 'barbie' AS table_name\n",
            "    FROM barbie\n",
            "    WHERE Review_Title LIKE '%Barbie%'\n",
            "  ) AS barbie\n",
            "  UNION\n",
            "\u001b[0m\u001b[1;3;38;5;200mThought: The current language of the user is English. The user has identified the issue with the SQL query and provided a rewritten version. I will use this rewritten query to answer the question.\n",
            "Action: sql_tool\n",
            "Action Input: {'input': \"SELECT index, Review_Title, Rating FROM (SELECT index, Review_Title, Rating, ROW_NUMBER() OVER (PARTITION BY table_name ORDER BY Rating) AS row_num FROM (SELECT index, Review_Title, Rating, 'barbie' AS table_name FROM barbie WHERE Review_Title LIKE '%Barbie%') AS barbie UNION SELECT index, Review_Title, Rating, ROW_NUMBER() OVER (PARTITION BY table_name ORDER BY Rating) AS row_num FROM (SELECT index, Review_Title, Rating, 'oppenheimer' AS table_name FROM oppenheimer WHERE Review_Title LIKE '%Oppenheimer%') AS oppenheimer) AS subquery WHERE row_num = 1\"}\n",
            "\u001b[0m\u001b[1;3;34mObservation: I see what's going on here! You're trying to query the database with a SQL query as a question, but I'm designed to understand natural language questions and generate SQL queries to answer them.\n",
            "\n",
            "To get started, please provide a standard question in natural language format, and I'll do my best to create a syntactically correct SQLite query, run it, and return the answer.\n",
            "\n",
            "For example, you could ask:\n",
            "\n",
            "* What are the top-rated reviews for Barbie dolls?\n",
            "* What are the most recent reviews for Oppenheimer?\n",
            "* Which Barbie dolls have the highest average rating?\n",
            "* Are there any reviews for Oppenheimer that mention a specific feature?\n",
            "\n",
            "Go ahead and ask your question, and I'll do my best to help!\n",
            "\u001b[0m\u001b[1;3;34mObservation: Error: Could not parse output. Please follow the thought-action-input format. Try again.\n",
            "\u001b[0m\u001b[1;3;38;5;200mThought: The current language of the user is English. I need to use a tool to help me answer the question.\n",
            "Action: sql_tool\n",
            "Action Input: {'input': 'What is the lowest rating of the each of the films and can you summarize what the reviewer said for these ratings?'}\n",
            "\u001b[0m\u001b[1;3;34mObservation: Based on the SQL query results, the lowest rating of the films is 1 (None), and the reviewer's summary is:\n",
            "\n",
            "\"I really enjoyed the first 20 minutes of the movie. It was very upbeat, positive and light. However, things soon became negative about 20 - 25 minutes into the movie. I couldn't stand it. Barbie's world and attitude was a constant bummer. Ken's attitude was sour. For the next hour (and more) the movie was just a disappointment.\"\n",
            "\n",
            "This review suggests that the reviewer was initially pleased with the movie, but their opinion quickly turned negative due to the tone and characters.\n",
            "\u001b[0m\u001b[1;3;38;5;200mThought: The current language of the user is English. I can answer the question without using any more tools.\n",
            "Answer: The lowest rating of the films is 1 (None), and the reviewer's summary is: \"I really enjoyed the first 20 minutes of the movie. It was very upbeat, positive and light. However, things soon became negative about 20 - 25 minutes into the movie. I couldn't stand it. Barbie's world and attitude was a constant bummer. Ken's attitude was sour. For the next hour (and more) the movie was just a disappointment.\" This review suggests that the reviewer was initially pleased with the movie, but their opinion quickly turned negative due to the tone and characters.\n",
            "\u001b[0m"
          ]
        }
      ],
      "source": [
        "response = barbenheimer_agent.chat(\"What is the lowest rating of these films and what did the reviewer said for these ratings?\")"
      ]
    },
    {
      "cell_type": "code",
      "execution_count": null,
      "metadata": {
        "colab": {
          "base_uri": "https://localhost:8080/",
          "height": 88
        },
        "id": "WM_DxonZMmzp",
        "outputId": "99d1bb98-9b0a-429c-c340-31acb587a1a1"
      },
      "outputs": [
        {
          "data": {
            "application/vnd.google.colaboratory.intrinsic+json": {
              "type": "string"
            },
            "text/plain": [
              "'The lowest rating of the films is 1 (None), and the reviewer\\'s summary is: \"I really enjoyed the first 20 minutes of the movie. It was very upbeat, positive and light. However, things soon became negative about 20 - 25 minutes into the movie. I couldn\\'t stand it. Barbie\\'s world and attitude was a constant bummer. Ken\\'s attitude was sour. For the next hour (and more) the movie was just a disappointment.\" This review suggests that the reviewer was initially pleased with the movie, but their opinion quickly turned negative due to the tone and characters.'"
            ]
          },
          "execution_count": 185,
          "metadata": {},
          "output_type": "execute_result"
        }
      ],
      "source": [
        "response.response"
      ]
    },
    {
      "cell_type": "code",
      "execution_count": null,
      "metadata": {
        "id": "-l3phWBVMoOb"
      },
      "outputs": [],
      "source": []
    }
  ],
  "metadata": {
    "colab": {
      "provenance": []
    },
    "kernelspec": {
      "display_name": "Python 3",
      "name": "python3"
    },
    "language_info": {
      "name": "python"
    }
  },
  "nbformat": 4,
  "nbformat_minor": 0
}
