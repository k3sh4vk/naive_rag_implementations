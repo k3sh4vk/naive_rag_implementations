{
  "cells": [
    {
      "cell_type": "markdown",
      "metadata": {
        "id": "hAyhVeyKai2T"
      },
      "source": [
        "# We are going to use unstructured and structured data in our data stores to answer our query\n",
        "# This is possible via an entity called an **agent**.\n",
        "\n",
        "In simplest terms, agents are `LLM Powered Knowledge workers`"
      ]
    },
    {
      "cell_type": "markdown",
      "metadata": {
        "id": "ZjoNcLCGa99w"
      },
      "source": [
        "We are going to get the unstructured data from **wikipedia** and unstructured from the database (which will contain ratings and other quantitative stuff) we will create using a csv."
      ]
    },
    {
      "cell_type": "markdown",
      "metadata": {
        "id": "3NCFTOe8aRGb"
      },
      "source": [
        "Install Pre-requisites"
      ]
    },
    {
      "cell_type": "code",
      "execution_count": null,
      "metadata": {
        "collapsed": true,
        "id": "9PJDi61WaRmr"
      },
      "outputs": [],
      "source": [
        "!pip install -U -q nest_asyncio openai llama-index llama-index-embeddings-nomic llama-index-readers-wikipedia llama-index-llms-gradient nltk tiktoken sentence-transformers pydantic wikipedia sqlalchemy pandas python-dotenv"
      ]
    },
    {
      "cell_type": "markdown",
      "metadata": {
        "id": "-nTWwzPgaGLy"
      },
      "source": [
        "Notebook doesn't allow async operations to complete properly when applied in a loop. So we will use nest_asyncio for it"
      ]
    },
    {
      "cell_type": "code",
      "execution_count": null,
      "metadata": {
        "id": "o-yVudNdY3Fh"
      },
      "outputs": [],
      "source": [
        "import nest_asyncio\n",
        "import logging\n",
        "import sys\n",
        "\n",
        "nest_asyncio.apply()\n",
        "\n",
        "logging.basicConfig(stream=sys.stdout, level=logging.INFO)\n",
        "logging.getLogger().addHandler(logging.StreamHandler(stream=sys.stdout))"
      ]
    },
    {
      "cell_type": "markdown",
      "metadata": {
        "id": "xhsTOLfNck3x"
      },
      "source": [
        "INITIATE OPENAI KEYS"
      ]
    },
    {
      "cell_type": "code",
      "execution_count": null,
      "metadata": {
        "id": "Evc2oI_jco88"
      },
      "outputs": [],
      "source": [
        "import os\n",
        "from pprint import pformat\n",
        "from dotenv import dotenv_values\n",
        "env_file_path = \"env.txt\"\n",
        "\n",
        "env_dict = dotenv_values(env_file_path)"
      ]
    },
    {
      "cell_type": "markdown",
      "metadata": {
        "id": "N2me-uvSfxs_"
      },
      "source": [
        "WE ARE GOING TO USE NOMIC EMBEDDING MODEL FOR THIS TASK FOR WHICH A VERY NICE [CONNECTOR IS PROVIDED BY llama-index team](https://docs.llamaindex.ai/en/latest/examples/embeddings/nomic/)."
      ]
    },
    {
      "cell_type": "code",
      "execution_count": null,
      "metadata": {
        "id": "nj-OPXnydAOw"
      },
      "outputs": [],
      "source": [
        "from llama_index.embeddings.nomic import NomicEmbedding\n",
        "\n",
        "\n",
        "# Nomic has released two models. v1 has fixed dimensionality and v1.5 supports variable dimen\n",
        "# - nomic-embed-text-v1   | fixed dimensionality\n",
        "# - nomic-embed-text-v1.5 | variable length dimensionality via matryoshka learning | size range : 64 to 768\n",
        "\n",
        "embedding_model = NomicEmbedding(\n",
        "    model_name=\"nomic-embed-text-v1\",\n",
        "    api_key=env_dict['NOMIC_API_KEY']\n",
        ")"
      ]
    },
    {
      "cell_type": "markdown",
      "metadata": {
        "id": "rYO_R-otmKWj"
      },
      "source": [
        "Lets test the embedding model"
      ]
    },
    {
      "cell_type": "code",
      "execution_count": null,
      "metadata": {
        "colab": {
          "base_uri": "https://localhost:8080/"
        },
        "collapsed": true,
        "id": "gq-MEzZxmIkW",
        "outputId": "3514cdc5-6267-4245-ca9a-215a7b216a4b"
      },
      "outputs": [
        {
          "data": {
            "text/plain": [
              "[0.023803711,\n",
              " 0.034240723,\n",
              " 0.0132751465,\n",
              " -0.04144287,\n",
              " 0.01687622,\n",
              " 0.020507812,\n",
              " -0.07879639,\n",
              " -0.026901245,\n",
              " -0.07055664,\n",
              " -0.049102783,\n",
              " -0.05987549,\n",
              " 0.035491943,\n",
              " -0.008430481,\n",
              " 0.013587952,\n",
              " -0.011993408,\n",
              " 0.028579712,\n",
              " 0.07702637,\n",
              " -0.009185791,\n",
              " -0.023239136,\n",
              " 0.03543091,\n",
              " -0.03643799,\n",
              " -0.027938843,\n",
              " 0.0021591187,\n",
              " -0.011047363,\n",
              " 0.015144348,\n",
              " -0.017181396,\n",
              " 0.046966553,\n",
              " -0.008888245,\n",
              " -0.018508911,\n",
              " 0.009109497,\n",
              " 0.015037537,\n",
              " -0.04812622,\n",
              " 0.009094238,\n",
              " -0.087402344,\n",
              " 0.014846802,\n",
              " -0.052093506,\n",
              " 0.0067825317,\n",
              " 0.028244019,\n",
              " 0.027770996,\n",
              " 0.024337769,\n",
              " 0.031463623,\n",
              " 0.012283325,\n",
              " -0.00774765,\n",
              " -0.030059814,\n",
              " -0.013465881,\n",
              " 0.014465332,\n",
              " 0.05734253,\n",
              " -0.053497314,\n",
              " 0.046203613,\n",
              " -0.07647705,\n",
              " 0.0026111603,\n",
              " -0.026260376,\n",
              " -0.012741089,\n",
              " -0.040161133,\n",
              " 0.020080566,\n",
              " -0.01876831,\n",
              " 0.01763916,\n",
              " 0.025268555,\n",
              " -0.0075569153,\n",
              " -0.01625061,\n",
              " 0.018325806,\n",
              " 0.05709839,\n",
              " -0.04486084,\n",
              " -0.016281128,\n",
              " 0.004951477,\n",
              " -0.00907135,\n",
              " -0.053253174,\n",
              " 0.06756592,\n",
              " 0.019851685,\n",
              " -0.024337769,\n",
              " 0.060913086,\n",
              " 0.042816162,\n",
              " 0.02583313,\n",
              " 0.0020046234,\n",
              " -0.018188477,\n",
              " -0.02986145,\n",
              " 0.025527954,\n",
              " -0.025787354,\n",
              " -0.0052261353,\n",
              " 0.021911621,\n",
              " 0.002008438,\n",
              " 0.023727417,\n",
              " 0.080078125,\n",
              " -0.03967285,\n",
              " 0.09893799,\n",
              " 0.021835327,\n",
              " -0.009925842,\n",
              " -0.033843994,\n",
              " -0.032928467,\n",
              " 0.038757324,\n",
              " -0.018508911,\n",
              " 0.02998352,\n",
              " 0.025405884,\n",
              " 0.041992188,\n",
              " -0.03213501,\n",
              " 0.031951904,\n",
              " 0.018753052,\n",
              " 0.006084442,\n",
              " -0.0020065308,\n",
              " -0.07208252,\n",
              " -0.02142334,\n",
              " 0.02848816,\n",
              " 0.009849548,\n",
              " 0.028915405,\n",
              " 0.10095215,\n",
              " 0.023742676,\n",
              " 0.030838013,\n",
              " 0.0030956268,\n",
              " 0.018234253,\n",
              " -0.009437561,\n",
              " -0.060272217,\n",
              " -0.012527466,\n",
              " -0.0051956177,\n",
              " 0.02798462,\n",
              " -0.009902954,\n",
              " 0.00020515919,\n",
              " 0.08093262,\n",
              " -0.06744385,\n",
              " 0.030563354,\n",
              " 0.07232666,\n",
              " 0.0035266876,\n",
              " 0.018753052,\n",
              " 0.052947998,\n",
              " 0.025878906,\n",
              " -0.0063323975,\n",
              " -0.0048065186,\n",
              " -0.027832031,\n",
              " 0.0131073,\n",
              " -0.037994385,\n",
              " -0.06072998,\n",
              " 0.027404785,\n",
              " -0.020843506,\n",
              " 0.014923096,\n",
              " -0.032470703,\n",
              " -0.0020809174,\n",
              " 0.03466797,\n",
              " -0.046569824,\n",
              " -0.048553467,\n",
              " 0.037872314,\n",
              " 0.0075569153,\n",
              " 0.022567749,\n",
              " -0.0071640015,\n",
              " 0.014137268,\n",
              " -0.006351471,\n",
              " 0.0113220215,\n",
              " -0.09124756,\n",
              " -0.018554688,\n",
              " 0.019332886,\n",
              " -0.016036987,\n",
              " 0.020187378,\n",
              " 0.025115967,\n",
              " 0.0152282715,\n",
              " -0.0119018555,\n",
              " -0.0259552,\n",
              " -0.02998352,\n",
              " -0.046844482,\n",
              " -0.02456665,\n",
              " 0.040252686,\n",
              " 0.052825928,\n",
              " 0.026641846,\n",
              " -0.015930176,\n",
              " 0.023086548,\n",
              " -0.03161621,\n",
              " 0.047698975,\n",
              " -0.0025539398,\n",
              " -0.036010742,\n",
              " 0.0011844635,\n",
              " 0.028366089,\n",
              " 0.010902405,\n",
              " -0.048950195,\n",
              " 0.043121338,\n",
              " 0.0049057007,\n",
              " -0.0058403015,\n",
              " -0.0004992485,\n",
              " 0.00995636,\n",
              " 0.022720337,\n",
              " 0.033111572,\n",
              " -0.018371582,\n",
              " 0.0053634644,\n",
              " -0.028579712,\n",
              " 0.031951904,\n",
              " 0.016326904,\n",
              " 0.021987915,\n",
              " -0.0031814575,\n",
              " -0.04827881,\n",
              " -0.052612305,\n",
              " 0.061676025,\n",
              " -0.024002075,\n",
              " -0.090148926,\n",
              " 0.02142334,\n",
              " -0.056915283,\n",
              " 0.040802002,\n",
              " 0.027832031,\n",
              " -0.015113831,\n",
              " -0.034454346,\n",
              " -0.009643555,\n",
              " 0.0619812,\n",
              " -0.015419006,\n",
              " -0.009811401,\n",
              " -0.04071045,\n",
              " 0.007270813,\n",
              " 0.018035889,\n",
              " -0.037139893,\n",
              " -7.8082085e-06,\n",
              " -0.007411957,\n",
              " 0.035888672,\n",
              " 0.040496826,\n",
              " -0.005580902,\n",
              " 0.038085938,\n",
              " 0.037200928,\n",
              " 0.03414917,\n",
              " 0.045013428,\n",
              " -0.021514893,\n",
              " 0.04348755,\n",
              " -0.010429382,\n",
              " 0.044006348,\n",
              " 0.021957397,\n",
              " -0.03375244,\n",
              " -0.040924072,\n",
              " -0.0013380051,\n",
              " 0.019958496,\n",
              " -0.026977539,\n",
              " -0.007896423,\n",
              " -0.03466797,\n",
              " 0.05206299,\n",
              " 0.041900635,\n",
              " -0.0004749298,\n",
              " 0.05316162,\n",
              " -0.0071258545,\n",
              " 0.012168884,\n",
              " -0.061340332,\n",
              " -0.08660889,\n",
              " 0.021865845,\n",
              " -0.014564514,\n",
              " -0.0005455017,\n",
              " 0.011428833,\n",
              " -0.04486084,\n",
              " 0.03753662,\n",
              " 0.005332947,\n",
              " 0.051483154,\n",
              " 0.024642944,\n",
              " 0.016159058,\n",
              " 0.053375244,\n",
              " -0.064086914,\n",
              " -0.04309082,\n",
              " 0.013694763,\n",
              " -0.03451538,\n",
              " -0.066833496,\n",
              " 0.013130188,\n",
              " 0.026672363,\n",
              " 0.012298584,\n",
              " 0.0115737915,\n",
              " -0.0026760101,\n",
              " 0.02368164,\n",
              " -0.0032405853,\n",
              " -5.686283e-05,\n",
              " -0.06323242,\n",
              " 0.018508911,\n",
              " -0.053100586,\n",
              " 0.010971069,\n",
              " 0.036834717,\n",
              " -0.022125244,\n",
              " 0.015144348,\n",
              " -0.013298035,\n",
              " -0.01802063,\n",
              " -0.012962341,\n",
              " 0.0014429092,\n",
              " -0.006591797,\n",
              " 0.008201599,\n",
              " 0.019958496,\n",
              " -0.011100769,\n",
              " 0.026519775,\n",
              " 0.019470215,\n",
              " 0.016616821,\n",
              " 0.03829956,\n",
              " 0.019805908,\n",
              " 0.03665161,\n",
              " -0.0256958,\n",
              " -0.020095825,\n",
              " -0.019882202,\n",
              " -0.018463135,\n",
              " -0.016159058,\n",
              " -0.029266357,\n",
              " -0.020858765,\n",
              " -0.036254883,\n",
              " 0.0016031265,\n",
              " 0.006877899,\n",
              " -0.041900635,\n",
              " -0.04135132,\n",
              " 0.000106334686,\n",
              " -0.03894043,\n",
              " -0.045410156,\n",
              " 0.015014648,\n",
              " 0.057006836,\n",
              " 0.007980347,\n",
              " 0.041015625,\n",
              " 0.090148926,\n",
              " 0.0008497238,\n",
              " 0.04046631,\n",
              " 0.025665283,\n",
              " -0.006877899,\n",
              " 0.04272461,\n",
              " -0.04660034,\n",
              " -0.03918457,\n",
              " 0.04647827,\n",
              " -0.003982544,\n",
              " 0.031829834,\n",
              " -0.030654907,\n",
              " 0.05090332,\n",
              " 0.013465881,\n",
              " -0.023422241,\n",
              " 0.037872314,\n",
              " 0.018829346,\n",
              " 0.0592041,\n",
              " -0.07745361,\n",
              " 0.052246094,\n",
              " 0.039886475,\n",
              " -0.03933716,\n",
              " 0.079589844,\n",
              " -0.008163452,\n",
              " -0.02658081,\n",
              " -0.05795288,\n",
              " 0.03656006,\n",
              " -0.06500244,\n",
              " 0.0020389557,\n",
              " 0.04473877,\n",
              " 0.0440979,\n",
              " 0.04019165,\n",
              " -0.006095886,\n",
              " 0.009155273,\n",
              " -0.054351807,\n",
              " 0.047332764,\n",
              " -0.06347656,\n",
              " 0.030944824,\n",
              " 0.042388916,\n",
              " -0.023147583,\n",
              " 0.00044322014,\n",
              " -0.0048675537,\n",
              " -0.026412964,\n",
              " -0.04168701,\n",
              " 0.04168701,\n",
              " 0.010978699,\n",
              " 0.009414673,\n",
              " -0.08618164,\n",
              " 0.0057640076,\n",
              " 0.011306763,\n",
              " -0.0007572174,\n",
              " 0.00096035004,\n",
              " 0.01663208,\n",
              " 0.01876831,\n",
              " -0.03579712,\n",
              " 0.013633728,\n",
              " -0.026123047,\n",
              " -0.016021729,\n",
              " -0.021606445,\n",
              " 0.009117126,\n",
              " 0.037963867,\n",
              " -0.0015125275,\n",
              " -0.010421753,\n",
              " -0.017089844,\n",
              " 0.037597656,\n",
              " -0.030944824,\n",
              " 0.04638672,\n",
              " -0.029632568,\n",
              " 0.031433105,\n",
              " 0.007881165,\n",
              " 0.038909912,\n",
              " 0.05206299,\n",
              " -0.041412354,\n",
              " -0.035339355,\n",
              " 0.008903503,\n",
              " -0.028915405,\n",
              " 0.00630188,\n",
              " 0.026168823,\n",
              " 0.04837036,\n",
              " 0.016448975,\n",
              " -0.07696533,\n",
              " 0.025878906,\n",
              " -0.021942139,\n",
              " -0.040527344,\n",
              " 0.006477356,\n",
              " 0.0010118484,\n",
              " 0.010856628,\n",
              " -0.0015125275,\n",
              " 0.00013315678,\n",
              " -0.011314392,\n",
              " 0.046661377,\n",
              " 0.026931763,\n",
              " 0.041107178,\n",
              " -0.057495117,\n",
              " 0.013595581,\n",
              " 0.015838623,\n",
              " -0.018798828,\n",
              " 0.037384033,\n",
              " -0.036102295,\n",
              " -0.03930664,\n",
              " -0.0076522827,\n",
              " 0.016357422,\n",
              " 0.042266846,\n",
              " 0.0054855347,\n",
              " -0.010505676,\n",
              " -0.073791504,\n",
              " 0.03451538,\n",
              " 0.03768921,\n",
              " 0.00063705444,\n",
              " 0.049194336,\n",
              " -0.031173706,\n",
              " -0.026748657,\n",
              " 0.014587402,\n",
              " 0.0023670197,\n",
              " -0.003458023,\n",
              " 0.024505615,\n",
              " 0.008232117,\n",
              " -0.023529053,\n",
              " 0.04736328,\n",
              " 0.022888184,\n",
              " 0.019042969,\n",
              " 0.0005130768,\n",
              " -0.04714966,\n",
              " 0.049041748,\n",
              " -0.043762207,\n",
              " 0.07556152,\n",
              " -0.056243896,\n",
              " 0.015144348,\n",
              " -0.029434204,\n",
              " -0.012825012,\n",
              " 0.018829346,\n",
              " 0.060546875,\n",
              " 0.030517578,\n",
              " -0.028366089,\n",
              " -0.044311523,\n",
              " 0.008918762,\n",
              " 0.00059843063,\n",
              " 0.03692627,\n",
              " -0.022705078,\n",
              " -0.015563965,\n",
              " 0.032470703,\n",
              " 0.022201538,\n",
              " 0.020950317,\n",
              " -0.013618469,\n",
              " -0.026519775,\n",
              " 0.0027236938,\n",
              " 0.008865356,\n",
              " 0.020309448,\n",
              " -0.02204895,\n",
              " 0.123291016,\n",
              " 0.04711914,\n",
              " 0.049713135,\n",
              " -0.027694702,\n",
              " 0.0132751465,\n",
              " 0.025741577,\n",
              " -0.014350891,\n",
              " 0.0060195923,\n",
              " 0.0071372986,\n",
              " 0.044158936,\n",
              " -0.015014648,\n",
              " 0.0038490295,\n",
              " -0.026748657,\n",
              " 0.019805908,\n",
              " 0.043640137,\n",
              " -0.005748749,\n",
              " 0.027359009,\n",
              " 0.03817749,\n",
              " 0.035461426,\n",
              " -0.021453857,\n",
              " -0.02659607,\n",
              " 0.011131287,\n",
              " -0.028915405,\n",
              " 0.02520752,\n",
              " 0.053009033,\n",
              " -0.047546387,\n",
              " 0.023651123,\n",
              " 0.051849365,\n",
              " 0.021194458,\n",
              " 0.00086164474,\n",
              " 0.02772522,\n",
              " 0.010681152,\n",
              " -0.06542969,\n",
              " 0.015327454,\n",
              " -0.03111267,\n",
              " 0.008544922,\n",
              " -0.016906738,\n",
              " -0.012939453,\n",
              " -0.030838013,\n",
              " 0.015159607,\n",
              " 0.019165039,\n",
              " -0.00018584728,\n",
              " 0.016983032,\n",
              " 0.034729004,\n",
              " 0.0034503937,\n",
              " 0.012413025,\n",
              " 0.030517578,\n",
              " 0.003929138,\n",
              " -0.037963867,\n",
              " -0.047790527,\n",
              " -0.09777832,\n",
              " -0.0013475418,\n",
              " 0.0010194778,\n",
              " 0.0496521,\n",
              " -0.055023193,\n",
              " 0.010505676,\n",
              " -0.0055389404,\n",
              " -0.011817932,\n",
              " 0.012878418,\n",
              " 0.021850586,\n",
              " -0.012580872,\n",
              " 0.00944519,\n",
              " -0.10522461,\n",
              " -0.08227539,\n",
              " -0.018035889,\n",
              " 0.0014648438,\n",
              " 0.033477783,\n",
              " -0.0067443848,\n",
              " 0.025527954,\n",
              " 0.042175293,\n",
              " -0.016601562,\n",
              " 0.010848999,\n",
              " 0.06604004,\n",
              " -0.08404541,\n",
              " 0.053588867,\n",
              " -0.03237915,\n",
              " -0.026672363,\n",
              " -0.011703491,\n",
              " 0.058532715,\n",
              " 0.011856079,\n",
              " -0.043151855,\n",
              " 0.033325195,\n",
              " -0.04309082,\n",
              " 0.06542969,\n",
              " -0.01687622,\n",
              " 0.005428314,\n",
              " 0.03186035,\n",
              " -0.03414917,\n",
              " 0.0047454834,\n",
              " 0.038330078,\n",
              " -0.052825928,\n",
              " -0.04888916,\n",
              " 0.029418945,\n",
              " 0.04888916,\n",
              " 0.011543274,\n",
              " -0.033996582,\n",
              " 0.007633209,\n",
              " 0.0030555725,\n",
              " 0.031951904,\n",
              " -0.016113281,\n",
              " -0.02180481,\n",
              " -0.032409668,\n",
              " 0.04989624,\n",
              " -0.03314209,\n",
              " -0.048309326,\n",
              " 0.02357483,\n",
              " -0.049560547,\n",
              " -0.00067710876,\n",
              " -0.0925293,\n",
              " 0.022583008,\n",
              " -0.016143799,\n",
              " -0.025360107,\n",
              " 0.04196167,\n",
              " -0.011947632,\n",
              " -0.0211792,\n",
              " 0.009712219,\n",
              " -0.010093689,\n",
              " 0.016204834,\n",
              " 0.00056648254,\n",
              " -0.02368164,\n",
              " -0.06982422,\n",
              " -0.05496216,\n",
              " 0.02607727,\n",
              " 0.033966064,\n",
              " -0.021575928,\n",
              " -0.0017910004,\n",
              " -0.06585693,\n",
              " -0.007987976,\n",
              " 0.05142212,\n",
              " 0.03253174,\n",
              " -0.08343506,\n",
              " 0.04736328,\n",
              " -0.019638062,\n",
              " -0.0496521,\n",
              " 0.042663574,\n",
              " -0.009353638,\n",
              " -0.075805664,\n",
              " 0.028961182,\n",
              " -0.032470703,\n",
              " -0.06088257,\n",
              " 0.045776367,\n",
              " -0.023895264,\n",
              " -0.037719727,\n",
              " 0.062438965,\n",
              " 0.019744873,\n",
              " 0.035003662,\n",
              " 0.011528015,\n",
              " 0.001964569,\n",
              " 0.009849548,\n",
              " -0.029891968,\n",
              " 0.026260376,\n",
              " -0.064453125,\n",
              " 0.030181885,\n",
              " 0.011383057,\n",
              " -0.012123108,\n",
              " 0.005832672,\n",
              " 0.019210815,\n",
              " 0.048736572,\n",
              " -0.0064353943,\n",
              " 0.030944824,\n",
              " 0.06854248,\n",
              " 0.02722168,\n",
              " 0.09442139,\n",
              " -0.016799927,\n",
              " -0.039978027,\n",
              " -0.0309906,\n",
              " -0.027648926,\n",
              " -0.06524658,\n",
              " -0.042755127,\n",
              " -0.0019264221,\n",
              " -0.03503418,\n",
              " -0.0071144104,\n",
              " -0.0670166,\n",
              " 0.010284424,\n",
              " -0.023895264,\n",
              " -0.01902771,\n",
              " -0.068115234,\n",
              " 0.02406311,\n",
              " -0.0074501038,\n",
              " -0.055541992,\n",
              " 0.05227661,\n",
              " -0.03274536,\n",
              " -0.026168823,\n",
              " 0.045318604,\n",
              " 0.011878967,\n",
              " 0.013290405,\n",
              " -0.024017334,\n",
              " -0.06964111,\n",
              " -0.03741455,\n",
              " -0.055023193,\n",
              " -0.010063171,\n",
              " -0.010322571,\n",
              " -0.017944336,\n",
              " 0.028274536,\n",
              " 0.076171875,\n",
              " -0.009902954,\n",
              " -0.024551392,\n",
              " -0.0093307495,\n",
              " 0.011428833,\n",
              " 0.052581787,\n",
              " 0.035247803,\n",
              " -0.013954163,\n",
              " 0.001291275,\n",
              " 0.027053833,\n",
              " 0.002380371,\n",
              " 0.055725098,\n",
              " 0.074279785,\n",
              " -0.009162903,\n",
              " 0.0021705627,\n",
              " 0.015396118,\n",
              " 0.056762695,\n",
              " -0.008285522,\n",
              " -0.018661499,\n",
              " -0.045166016,\n",
              " 0.0135650635,\n",
              " -0.016555786,\n",
              " -0.064453125,\n",
              " -0.039855957,\n",
              " -0.040496826,\n",
              " 0.046081543,\n",
              " 0.007007599,\n",
              " -0.008132935,\n",
              " -0.031463623,\n",
              " -0.018417358,\n",
              " -0.013587952,\n",
              " -0.029525757,\n",
              " -0.05215454,\n",
              " -0.0036506653,\n",
              " -0.06829834,\n",
              " -0.042877197,\n",
              " 0.022094727,\n",
              " 0.024002075,\n",
              " 0.041625977,\n",
              " -0.019470215,\n",
              " -0.06488037,\n",
              " 0.0031547546,\n",
              " 0.017227173,\n",
              " 0.04171753,\n",
              " 0.007709503,\n",
              " -0.017471313,\n",
              " -0.01473999,\n",
              " 0.017593384,\n",
              " 0.019470215,\n",
              " -0.022888184,\n",
              " -0.06561279,\n",
              " 0.0013856888,\n",
              " -0.04800415,\n",
              " -0.04714966,\n",
              " -0.08679199,\n",
              " -0.00030112267,\n",
              " -0.023086548,\n",
              " -0.0090408325,\n",
              " 0.00058174133,\n",
              " -0.02281189,\n",
              " 0.026550293,\n",
              " 0.0051841736,\n",
              " 0.0132751465,\n",
              " 0.016647339,\n",
              " 0.08239746,\n",
              " -0.047790527,\n",
              " 0.016983032,\n",
              " -0.08312988,\n",
              " 0.025314331,\n",
              " -0.011047363,\n",
              " -0.0073013306,\n",
              " -0.057647705,\n",
              " -8.833408e-05,\n",
              " 0.073791504,\n",
              " 0.056732178,\n",
              " 0.04434204,\n",
              " 0.028030396,\n",
              " 0.019088745,\n",
              " -0.07122803,\n",
              " -0.034240723,\n",
              " -0.02897644,\n",
              " -0.0096588135,\n",
              " 0.0093307495,\n",
              " -0.070495605,\n",
              " 0.033599854,\n",
              " -0.02859497,\n",
              " -0.02281189,\n",
              " -0.0023384094,\n",
              " -0.0031585693,\n",
              " 0.03567505,\n",
              " 0.004207611,\n",
              " 0.054351807,\n",
              " 0.017471313,\n",
              " -0.028701782,\n",
              " 0.07635498,\n",
              " -0.020385742,\n",
              " -0.035186768,\n",
              " -0.019927979,\n",
              " -0.022613525,\n",
              " -0.015419006,\n",
              " -0.00749588,\n",
              " 0.009811401,\n",
              " 0.024093628,\n",
              " -0.028747559,\n",
              " 0.0256958,\n",
              " -0.009010315,\n",
              " 0.0031108856,\n",
              " -0.067993164,\n",
              " 0.008102417,\n",
              " 0.10803223,\n",
              " -0.0057754517,\n",
              " -0.019805908,\n",
              " -0.056732178,\n",
              " 0.048583984,\n",
              " 0.0005812645,\n",
              " -0.026885986,\n",
              " 0.034240723,\n",
              " -0.031402588,\n",
              " 0.047058105,\n",
              " 0.052825928,\n",
              " -0.0012683868,\n",
              " 0.050811768,\n",
              " -0.0054244995,\n",
              " 0.016525269,\n",
              " 0.036743164,\n",
              " 0.007472992,\n",
              " 0.05709839,\n",
              " -0.056243896,\n",
              " -0.025497437]"
            ]
          },
          "execution_count": 47,
          "metadata": {},
          "output_type": "execute_result"
        }
      ],
      "source": [
        "embedding_model.get_text_embedding(\"Nomic Embedding !\")"
      ]
    },
    {
      "cell_type": "markdown",
      "metadata": {
        "id": "iyjX3NeDmiwn"
      },
      "source": [
        "#### Core Settings | Configurations\n",
        "\n",
        "LlamaIndex has the ability to set `Settings` (Successor of `ServiceContext`). The basic idea here is that we use this to establish some core properties and then can pass it to various services.\n",
        "\n",
        "While we could set this up as a global, we're going to leave it as `Settings` so we can see where it's applied.\n",
        "\n",
        "We'll set a few significant contexts:\n",
        "\n",
        "- `chunk_size` - this is what it says on the tin\n",
        "- `llm` - this is where we can set what model we wish to use as our primary LLM when we're making `QueryEngine`s and more\n",
        "- `embed_model` - this will help us keep our embedding model consistent across use cases\n",
        "\n",
        "\n",
        "We'll also create some resources we're going to keep consistent across all of our indices today.\n",
        "\n",
        "- `text_splitter` - This is what we'll use to split our text, feel free to experiment here\n",
        "- `SimpleNodeParser` - This is what will work in tandem with the `text_splitter` to parse our full sized documents into nodes."
      ]
    },
    {
      "cell_type": "code",
      "execution_count": null,
      "metadata": {
        "id": "Q3lZcvOXmVuU"
      },
      "outputs": [],
      "source": [
        "from llama_index.llms.gradient import GradientBaseModelLLM  # import Model\n",
        "from llama_index.core import Settings                       # import Settings\n",
        "from llama_index.core.node_parser import SentenceSplitter   # import nodeparser variant\n",
        "from llama_index.core.llms import ChatMessage\n",
        "from llama_index.core.callbacks import CallbackManager, LlamaDebugHandler\n",
        "from llama_index.core.output_parsers import PydanticOutputParser\n",
        "from pprint import pformat\n",
        "\n",
        "# using llama2-7b-chat as openai api proxy not working anymore\n",
        "gradient_handler = LlamaDebugHandler()\n",
        "gradient_callback = CallbackManager([gradient_handler])\n",
        "\n",
        "base_model_slug = \"llama3-8b-chat\"\n",
        "language_model = GradientBaseModelLLM(\n",
        "    workspace_id=env_dict['GRADIENT_WORKSPACE_ID'],\n",
        "    access_token=env_dict['GRADIENT_ACCESS_TOKEN'],\n",
        "    base_model_slug=base_model_slug,\n",
        "    max_tokens=300, is_chat_model=True,\n",
        "    callback_manager=gradient_callback\n",
        ")\n",
        "\n",
        "# configure Settings\n",
        "Settings.llm = language_model\n",
        "Settings.embed_model = embedding_model\n",
        "Settings.node_parser = SentenceSplitter(chunk_size=512, chunk_overlap=20)\n",
        "Settings.context_window = 3900\n"
      ]
    },
    {
      "cell_type": "markdown",
      "metadata": {
        "id": "mokpQowT6bAo"
      },
      "source": [
        "LETS INITIATE A VECTOR STORE FOR OUR DOCS\n",
        "\n",
        "- We will get the documents from wikipedia, chunk them and store them in\n",
        "our vector store"
      ]
    },
    {
      "cell_type": "code",
      "execution_count": null,
      "metadata": {
        "id": "JBb2gj_VnxXk"
      },
      "outputs": [],
      "source": [
        "from llama_index.core import VectorStoreIndex\n",
        "\n",
        "index = VectorStoreIndex.from_documents([])"
      ]
    },
    {
      "cell_type": "markdown",
      "metadata": {
        "id": "lF59Yzwe7KEZ"
      },
      "source": [
        "READ DATA FROM Wikipedia\n",
        "\n",
        "Setting `auto_suggest=False` ensures we run into fewer auto-correct based errors."
      ]
    },
    {
      "cell_type": "code",
      "execution_count": null,
      "metadata": {
        "id": "uliwbVrx6-8Q"
      },
      "outputs": [],
      "source": [
        "from llama_index.readers.wikipedia import WikipediaReader\n",
        "\n",
        "movie_list = [\"Barbie (film)\", \"Oppenheimer (film)\"]\n",
        "\n",
        "wiki_docs = WikipediaReader().load_data(pages=movie_list, auto_suggest=False)"
      ]
    },
    {
      "cell_type": "markdown",
      "metadata": {
        "id": "sVtXIdye8BEO"
      },
      "source": [
        "Now we will loop through our documents and metadata and construct nodes (associated with particular metadata for easy filtration later)."
      ]
    },
    {
      "cell_type": "code",
      "execution_count": null,
      "metadata": {
        "id": "y-L7GHnr73zb"
      },
      "outputs": [],
      "source": [
        "for movie, wiki_doc in zip(movie_list, wiki_docs):\n",
        "    nodes = Settings.node_parser.get_nodes_from_documents([wiki_doc])\n",
        "\n",
        "    # add metadata to each node\n",
        "    for node in nodes:\n",
        "        node.metadata = {\"title\": movie}\n",
        "    index.insert_nodes(nodes=nodes)"
      ]
    },
    {
      "cell_type": "markdown",
      "metadata": {
        "id": "YOuur2Lt-1Xx"
      },
      "source": [
        "#### Auto Retriever Functional Tool\n",
        "\n",
        "This tool will leverage OpenAI's functional endpoint to select the correct metadata filter and query the filtered index - only looking at nodes with the desired metadata.\n",
        "\n",
        "A simplified diagram: ![image](https://i.imgur.com/AICDPav.png)"
      ]
    },
    {
      "cell_type": "markdown",
      "metadata": {
        "id": "JD6FIb4H--IL"
      },
      "source": [
        "First, we need to create our `VectoreStoreInfo` object which will hold all the relevant metadata we need for each component (in this case title metadata).\n",
        "\n",
        "Notice that you need to include it in a text list.\n",
        "\n",
        "Then we will define a retriever `VectorIndexAutoRetriever` which will retrieve relevant info from index.\n",
        "And finally we will create a retriever_query_engine `RetieverQueryEngine` which will act as us communication point between query and retriever."
      ]
    },
    {
      "cell_type": "code",
      "execution_count": null,
      "metadata": {
        "id": "2h85mCOq9_Z7"
      },
      "outputs": [],
      "source": [
        "from llama_index.core.tools import FunctionTool\n",
        "from llama_index.core.vector_stores.types import (\n",
        "    VectorStoreInfo, MetadataInfo, ExactMatchFilter, MetadataFilters\n",
        ")\n",
        "from llama_index.core.retrievers import VectorIndexAutoRetriever\n",
        "from llama_index.core.query_engine import RetrieverQueryEngine\n",
        "\n",
        "top_k = 6\n",
        "\n",
        "# provide vector store information\n",
        "vector_store_info = VectorStoreInfo(\n",
        "    content_info=\"semantic information about movies\",\n",
        "    metadata_info=[MetadataInfo(\n",
        "        name=\"title\",\n",
        "        type=\"str\",\n",
        "        description=\"one of the movie from the list [Barbie (film), Oppenheimer (film)]\"\n",
        "    )]\n",
        ")\n",
        "\n",
        "# make sure that filter terms are an exact match\n",
        "filter_key_list = [\"title\"]\n",
        "filter_value_list = movie_list.copy()\n",
        "\n",
        "exact_match_filters = [\n",
        "    ExactMatchFilter(key=k, value=v)\n",
        "    for k, v in zip(filter_key_list, filter_value_list)\n",
        "]\n",
        "\n",
        "# design a retriever which will check index, get top_k while applying filters\n",
        "vector_auto_retriever = VectorIndexAutoRetriever(\n",
        "    index=index, vector_store_info=vector_store_info, similarity_top_k=top_k,\n",
        "    extra_filters=MetadataFilters(filters=exact_match_filters),\n",
        "    verbose=True\n",
        ")\n",
        "\n",
        "# create an engine which will receive the input from the tool\n",
        "retriever_query_engine = RetrieverQueryEngine.from_args(\n",
        "    retriever=vector_auto_retriever\n",
        ")"
      ]
    },
    {
      "cell_type": "markdown",
      "metadata": {
        "id": "9_Og93J7EhHW"
      },
      "source": [
        "Here we will define the `QueryEngineTool` for our vector_query_engine which will be provided to our `Agent` as a tool"
      ]
    },
    {
      "cell_type": "code",
      "execution_count": null,
      "metadata": {
        "id": "MpQMQdJMCj3u"
      },
      "outputs": [],
      "source": [
        "from llama_index.core.tools import QueryEngineTool\n",
        "\n",
        "\n",
        "# vector_tool detailed information\n",
        "vector_tool_description = f\"\"\"\n",
        "Use this tool to look up semantic information about films.\n",
        "The vector database schema is given below:\n",
        "{vector_store_info.json()}\n",
        "\"\"\"\n",
        "vector_tool = QueryEngineTool.from_defaults(\n",
        "    query_engine=retriever_query_engine,\n",
        "    name=\"vector_tool\",\n",
        "    description=vector_tool_description\n",
        ")"
      ]
    },
    {
      "cell_type": "markdown",
      "metadata": {
        "id": "XPjVM1fjE2S9"
      },
      "source": [
        "#### Now we will work to create a `QueryEngineTool` for our vector indexed data"
      ]
    },
    {
      "cell_type": "code",
      "execution_count": null,
      "metadata": {
        "id": "wlbdT1E5EfGG"
      },
      "outputs": [],
      "source": [
        "from llama_index.agent.openai import OpenAIAgent\n",
        "from llama_index.core.agent import ReActAgent\n",
        "\n",
        "vector_agent = ReActAgent.from_tools(\n",
        "    tools=[vector_tool],\n",
        "    verbose=True,\n",
        "    max_iterations=20\n",
        ")"
      ]
    },
    {
      "cell_type": "code",
      "execution_count": null,
      "metadata": {
        "colab": {
          "base_uri": "https://localhost:8080/"
        },
        "id": "TVp30hytFpZY",
        "outputId": "c9f54b2c-4139-4db2-bab2-3e77a88ffd7e"
      },
      "outputs": [
        {
          "name": "stdout",
          "output_type": "stream",
          "text": [
            "\u001b[1;3;38;5;200mThought: The current language of the user is: English. I need to use a tool to help me answer the question.\n",
            "Action: vector_tool\n",
            "Action Input: {'input': 'Barbie (film)'}\n",
            "\u001b[0m"
          ]
        },
        {
          "name": "stderr",
          "output_type": "stream",
          "text": [
            "WARNING:llama_index.core.indices.vector_store.retrievers.auto_retriever.auto_retriever:Failed to parse query spec, using defaults as fallback.\n"
          ]
        },
        {
          "name": "stdout",
          "output_type": "stream",
          "text": [
            "Failed to parse query spec, using defaults as fallback.\n",
            "Using query str: Barbie (film)\n",
            "Using filters: []\n",
            "\u001b[1;3;34mObservation: The 2023 fantasy comedy film directed by Greta Gerwig, starring Margot Robbie as Barbie and Ryan Gosling as Ken, has received widespread critical acclaim and has become a commercial success. The film's marketing campaign was extensive, with partnerships and collaborations with various brands, and it premiered at the Shrine Auditorium in Los Angeles before being released in the United States and the United Kingdom on July 21, 2023. The film has grossed over $1.446 billion worldwide, making it the highest-grossing film of 2023 and the highest-grossing film ever released by Warner Bros. It has also become the highest-grossing live-action comedy film of all time, surpassing the domestic and worldwide records previously held by Home Alone (1990) and The Hangover Part II (2011) respectively.\n",
            "\u001b[0m\u001b[1;3;38;5;200mThought: The current language of the user is: English. I need to use a tool to help me answer the question.\n",
            "Action: vector_tool\n",
            "Action Input: {'input': 'Oppenheimer (film)'}\n",
            "\u001b[0m"
          ]
        },
        {
          "name": "stderr",
          "output_type": "stream",
          "text": [
            "WARNING:llama_index.core.indices.vector_store.retrievers.auto_retriever.auto_retriever:Failed to parse query spec, using defaults as fallback.\n"
          ]
        },
        {
          "name": "stdout",
          "output_type": "stream",
          "text": [
            "Failed to parse query spec, using defaults as fallback.\n",
            "Using query str: Oppenheimer (film)\n",
            "Using filters: []\n",
            "\u001b[1;3;34mObservation: The film Oppenheimer, a biographical film about J. Robert Oppenheimer, was released on the same day as Barbie, a fantasy comedy film. The two films appealed to different audiences, leading to a trend dubbed \"Barbenheimer.\"\n",
            "\u001b[0m\u001b[1;3;38;5;200mThought: The current language of the user is: English. I need to use a tool to help me answer the question.\n",
            "Action: vector_tool\n",
            "Action Input: {'input': 'Tell me the story of the Barbie movie in 200 words.'}\n",
            "\u001b[0m"
          ]
        },
        {
          "name": "stderr",
          "output_type": "stream",
          "text": [
            "WARNING:llama_index.core.indices.vector_store.retrievers.auto_retriever.auto_retriever:Failed to parse query spec, using defaults as fallback.\n"
          ]
        },
        {
          "name": "stdout",
          "output_type": "stream",
          "text": [
            "Failed to parse query spec, using defaults as fallback.\n",
            "Using query str: Tell me the story of the Barbie movie in 200 words.\n",
            "Using filters: []\n",
            "\u001b[1;3;34mObservation: In a world where Barbie dolls come to life, the iconic fashion doll, Barbie, played by Margot Robbie, is on a journey of self-discovery. She and her partner, Ken, played by Ryan Gosling, navigate the fantastical world of Barbieland and the real world, grappling with existential crises and societal pressures. The film is a commentary on patriarchy and the effects of feminism, as Barbie and her friends, including America Ferrera, Michael Cera, and Kate McKinnon, challenge the norms of their society.\n",
            "\n",
            "As Barbie struggles to find her identity, she meets the spirit of Ruth Handler, the creator of Barbie, who encourages her to forge her own path. Along the way, Barbie and Ken confront their own biases and learn to appreciate each other's autonomy. The film features a star-studded cast, including Will Ferrell as the CEO of Mattel, and a soundtrack that blends classic and modern hits.\n",
            "\n",
            "Through its vibrant colors, witty humor, and poignant themes, the Barbie movie tells a story of empowerment, self-discovery, and the importance of embracing one's true identity.\n",
            "\u001b[0m\u001b[1;3;38;5;200mThought: The current language of the user is: English. I need to answer the question without using any more tools.\n",
            "Answer: The story of the Barbie movie is about Barbie, played by Margot Robbie, who comes to life and embarks on a journey of self-discovery in a fantastical world. She navigates societal pressures and existential crises alongside her partner Ken, played by Ryan Gosling, and her friends. The film is a commentary on patriarchy and feminism, as Barbie and her friends challenge the norms of their society. Along the way, Barbie meets the spirit of Ruth Handler, the creator of Barbie, who encourages her to forge her own path. The movie features a star-studded cast and a soundtrack that blends classic and modern hits, and tells a story of empowerment, self-discovery, and embracing one's true identity.\n",
            "\u001b[0m"
          ]
        }
      ],
      "source": [
        "response = vector_agent.chat(message=\"Tell me the story of the Barbie movie in 200 words.\")"
      ]
    },
    {
      "cell_type": "code",
      "execution_count": null,
      "metadata": {
        "colab": {
          "base_uri": "https://localhost:8080/",
          "height": 105
        },
        "id": "pLl95J05FyEO",
        "outputId": "81410781-cb93-45c6-b517-04c419a183cb"
      },
      "outputs": [
        {
          "data": {
            "application/vnd.google.colaboratory.intrinsic+json": {
              "type": "string"
            },
            "text/plain": [
              "\"The story of the Barbie movie is about Barbie, played by Margot Robbie, who comes to life and embarks on a journey of self-discovery in a fantastical world. She navigates societal pressures and existential crises alongside her partner Ken, played by Ryan Gosling, and her friends. The film is a commentary on patriarchy and feminism, as Barbie and her friends challenge the norms of their society. Along the way, Barbie meets the spirit of Ruth Handler, the creator of Barbie, who encourages her to forge her own path. The movie features a star-studded cast and a soundtrack that blends classic and modern hits, and tells a story of empowerment, self-discovery, and embracing one's true identity.\""
            ]
          },
          "execution_count": 133,
          "metadata": {},
          "output_type": "execute_result"
        }
      ],
      "source": [
        "response.response"
      ]
    },
    {
      "cell_type": "markdown",
      "metadata": {
        "id": "MWSd92REIpYm"
      },
      "source": [
        "### ADDING SQL TO THE AGENT's ARSENAL"
      ]
    },
    {
      "cell_type": "markdown",
      "metadata": {
        "id": "-zfqAWGzJgT3"
      },
      "source": [
        "The next few steps should be largely straightforward, we'll want to:\n",
        "\n",
        "1. Read in our `.csv` files into `pd.DataFrame` objects\n",
        "2. Create an in-memory `sqlite` powered `sqlalchemy` engine\n",
        "3. Cast our `pd.DataFrame` objects to the SQL engine\n",
        "4. Create an `SQLDatabase` object through LlamaIndex\n",
        "5. Use that to create a `QueryEngineTool` that we can interact with through the `NLSQLTableQueryEngine`!"
      ]
    },
    {
      "cell_type": "code",
      "execution_count": null,
      "metadata": {
        "id": "W32aUA4BIX0v"
      },
      "outputs": [],
      "source": [
        "import pandas as pd\n",
        "\n",
        "barbie_df = pd.read_csv(\"/content/drive/MyDrive/Colab Notebooks/training_data/barbie.csv\")\n",
        "oppenheimer_df = pd.read_csv(\"/content/drive/MyDrive/Colab Notebooks/training_data/barbie.csv\")"
      ]
    },
    {
      "cell_type": "code",
      "execution_count": null,
      "metadata": {
        "id": "ABbVxK2AJyxL"
      },
      "outputs": [],
      "source": [
        "from sqlalchemy import create_engine\n",
        "\n",
        "engine = create_engine(\"sqlite://\")"
      ]
    },
    {
      "cell_type": "code",
      "execution_count": null,
      "metadata": {
        "colab": {
          "base_uri": "https://localhost:8080/"
        },
        "id": "oi9D1IhfJ1om",
        "outputId": "30a5de6a-b02c-4918-9046-8d4e1bbe2146"
      },
      "outputs": [
        {
          "data": {
            "text/plain": [
              "125"
            ]
          },
          "execution_count": 118,
          "metadata": {},
          "output_type": "execute_result"
        }
      ],
      "source": [
        "barbie_df.to_sql(\n",
        "    \"barbie\",\n",
        "    engine\n",
        ")\n",
        "\n",
        "oppenheimer_df.to_sql(\n",
        "    \"oppenheimer\",\n",
        "    engine\n",
        ")"
      ]
    },
    {
      "cell_type": "code",
      "execution_count": null,
      "metadata": {
        "id": "uSkCFfAZ0pgL"
      },
      "outputs": [],
      "source": [
        "db_tables = [\"barbie\", \"oppenheimer\"]"
      ]
    },
    {
      "cell_type": "markdown",
      "metadata": {
        "id": "IkVdYnn6KBdc"
      },
      "source": [
        "Create SQLDatabase for the sqlengine"
      ]
    },
    {
      "cell_type": "code",
      "execution_count": null,
      "metadata": {
        "id": "7masEwQxJ__j"
      },
      "outputs": [],
      "source": [
        "from llama_index.core import SQLDatabase\n",
        "\n",
        "sql_database = SQLDatabase(\n",
        "    engine=engine,\n",
        "    include_tables=db_tables\n",
        ")"
      ]
    },
    {
      "cell_type": "markdown",
      "metadata": {
        "id": "slfH7BNFKKJM"
      },
      "source": [
        "Create the NLSQLTableQueryEngine interface for all added SQL tables"
      ]
    },
    {
      "cell_type": "code",
      "execution_count": null,
      "metadata": {
        "id": "sxpcEiNzKKcb"
      },
      "outputs": [],
      "source": [
        "from llama_index.core.query_engine import NLSQLTableQueryEngine\n",
        "\n",
        "sql_query_engine = NLSQLTableQueryEngine(\n",
        "    sql_database=sql_database, verbose=True,\n",
        "    tables=db_tables\n",
        "    )"
      ]
    },
    {
      "cell_type": "markdown",
      "metadata": {
        "id": "UQPwflPNLnVr"
      },
      "source": [
        "Define a QueryEngineTool which will utilize the sql data we put together."
      ]
    },
    {
      "cell_type": "code",
      "execution_count": null,
      "metadata": {
        "id": "IAHek2-mLT4x"
      },
      "outputs": [],
      "source": [
        "sql_tool = QueryEngineTool.from_defaults(\n",
        "    query_engine=sql_query_engine,\n",
        "    name=\"sql_tool\",\n",
        "    description=(\n",
        "        \"Useful for translating a natural language query into a SQL query over\"\n",
        "        \" barbie, containing information related to reviews of the Barbie movie\"\n",
        "        \" oppenheimer, containing information related to reviews of the Oppenheimer movie. \"\n",
        "        \"\\n\\n\".join([\n",
        "            f\"The schema of the table '{table}' is - \\n {sql_database.get_table_columns(table)}\"\n",
        "            for table in\n",
        "            db_tables\n",
        "        ])\n",
        "    ),\n",
        ")"
      ]
    },
    {
      "cell_type": "markdown",
      "metadata": {
        "id": "7mDQCPG7L4Hg"
      },
      "source": [
        "Create an Agent"
      ]
    },
    {
      "cell_type": "code",
      "execution_count": null,
      "metadata": {
        "id": "MsuPX5nJLmcX"
      },
      "outputs": [],
      "source": [
        "sql_agent = ReActAgent.from_tools(\n",
        "    tools=[sql_tool],\n",
        "    verbose=True,\n",
        "    max_iterations=20\n",
        ")"
      ]
    },
    {
      "cell_type": "markdown",
      "metadata": {
        "id": "n4vkvxtJMUlU"
      },
      "source": [
        "Testing the response from sql tool"
      ]
    },
    {
      "cell_type": "code",
      "execution_count": null,
      "metadata": {
        "colab": {
          "base_uri": "https://localhost:8080/"
        },
        "id": "oZvadNGyL57R",
        "outputId": "d845cb29-cd96-4af1-9b43-209ae330f5bb"
      },
      "outputs": [
        {
          "name": "stdout",
          "output_type": "stream",
          "text": [
            "\u001b[1;3;38;5;200mThought: The user is asking about the average rating of the two films, Barbie and Oppenheimer. I need to use a tool to help me answer the question.\n",
            "Action: sql_tool\n",
            "Action Input: {'input': 'SELECT AVG(Rating) FROM barbie UNION SELECT AVG(Rating) FROM oppenheimer'}\n",
            "\u001b[0m\u001b[1;3;34mObservation: The average rating of Barbie and Oppenheimer is 7.36.\n",
            "\u001b[0m\u001b[1;3;38;5;200mThought: The user has provided the average rating of the two films, Barbie and Oppenheimer. I need to verify the accuracy of the answer.\n",
            "Action: sql_tool\n",
            "Action Input: {'input': 'SELECT AVG(Rating) FROM barbie UNION SELECT AVG(Rating) FROM oppenheimer'}\n",
            "\u001b[0m\u001b[1;3;34mObservation: The average rating of Barbie and Oppenheimer is 7.36.\n",
            "\u001b[0m\u001b[1;3;38;5;200mThought: The user has already provided the average rating of the two films, Barbie and Oppenheimer. I can answer the question without using any more tools. I'll use the user's language to answer.\n",
            "Answer: The average rating of the two films, Barbie and Oppenheimer, is 7.36.\n",
            "\u001b[0m"
          ]
        }
      ],
      "source": [
        "response = sql_agent.chat(\"What is the average rating of the two films?\")"
      ]
    },
    {
      "cell_type": "code",
      "execution_count": null,
      "metadata": {
        "colab": {
          "base_uri": "https://localhost:8080/",
          "height": 36
        },
        "id": "uMgUBorhMDj5",
        "outputId": "137d0a0f-ef71-40a1-d0c8-822133225133"
      },
      "outputs": [
        {
          "data": {
            "application/vnd.google.colaboratory.intrinsic+json": {
              "type": "string"
            },
            "text/plain": [
              "'The average rating of the two films, Barbie and Oppenheimer, is 7.36.'"
            ]
          },
          "execution_count": 176,
          "metadata": {},
          "output_type": "execute_result"
        }
      ],
      "source": [
        "response.response"
      ]
    },
    {
      "cell_type": "markdown",
      "metadata": {
        "id": "rRDDtq_lMY96"
      },
      "source": [
        "### FINALLY COMBINING THE TWO TOOLS"
      ]
    },
    {
      "cell_type": "code",
      "execution_count": null,
      "metadata": {
        "id": "Km5JeP59MH1z"
      },
      "outputs": [],
      "source": [
        "barbenheimer_agent = ReActAgent.from_tools(\n",
        "    tools=[sql_tool, vector_tool],\n",
        "    verbose=True,\n",
        "    max_iterations=100,\n",
        "    # context=\"Break down the query into very small steps and then execute them one by one to reach the answer. If you encounter any error, try again by rectifying the error and the approach taken previously\"\n",
        ")"
      ]
    },
    {
      "cell_type": "code",
      "execution_count": null,
      "metadata": {
        "colab": {
          "base_uri": "https://localhost:8080/"
        },
        "id": "zNU6DlsdMftQ",
        "outputId": "79d983d1-332c-40b6-afb8-707f65333e80"
      },
      "outputs": [
        {
          "name": "stdout",
          "output_type": "stream",
          "text": [
            "\u001b[1;3;38;5;200mThought: The current language of the user is English. I need to use a tool to help me answer the question.\n",
            "Action: sql_tool\n",
            "Action Input: {'input': \"SELECT * FROM barbie WHERE Rating = (SELECT MIN(Rating) FROM barbie) AND Review_Title LIKE '%Barbie%' UNION SELECT * FROM oppenheimer WHERE Rating = (SELECT MIN(Rating) FROM oppenheimer) AND Review_Title LIKE '%Oppenheimer%'\"}\n",
            "\u001b[0m\u001b[1;3;34mObservation: It looks like the SQL query is not valid. The error message is not providing much information, but I can try to help you identify the issue.\n",
            "\n",
            "The query is trying to combine two subqueries using the `UNION` operator. The subqueries are selecting the minimum rating and review title from the `barbie` and `oppenheimer` tables, respectively, where the review title contains the words \"Barbie\" or \"Oppenheimer\".\n",
            "\n",
            "One possible issue is that the subqueries are not properly aliased. The `AS` keyword is used to give an alias to a table or subquery, but it's not used correctly in this query. The correct syntax would be:\n",
            "```sql\n",
            "SELECT index, Review_Title, Rating\n",
            "FROM (\n",
            "  SELECT index, Review_Title, Rating\n",
            "  FROM barbie\n",
            "  WHERE Rating = (SELECT MIN(Rating) FROM barbie)\n",
            "  AND Review_Title LIKE '%Barbie%'\n",
            ") AS barbie_min_rating\n",
            "UNION\n",
            "SELECT index, Review_Title, Rating\n",
            "FROM (\n",
            "  SELECT index, Review_Title, Rating\n",
            "  FROM oppenheimer\n",
            "  WHERE Rating = (SELECT MIN(Rating) FROM oppenheimer)\n",
            "  AND Review_Title LIKE '%Oppenheimer%'\n",
            ") AS oppenheimer_min_rating;\n",
            "```\n",
            "Another possible issue is that the `UNION` operator requires that the subqueries have the same number and types of columns. In this query, the subqueries have different numbers of columns (3 columns in\n",
            "\u001b[0m\u001b[1;3;38;5;200mThought: The current language of the user is English. The user has identified the issue with the SQL query and provided a corrected version. I will use this corrected query to answer the question.\n",
            "Action: sql_tool\n",
            "Action Input: {'input': \"SELECT index, Review_Title, Rating FROM (SELECT index, Review_Title, Rating FROM barbie WHERE Rating = (SELECT MIN(Rating) FROM barbie) AND Review_Title LIKE '%Barbie%') AS barbie_min_rating UNION SELECT index, Review_Title, Rating FROM (SELECT index, Review_Title, Rating FROM oppenheimer WHERE Rating = (SELECT MIN(Rating) FROM oppenheimer) AND Review_Title LIKE '%Oppenheimer%') AS oppenheimer_min_rating\"}\n",
            "\u001b[0m\u001b[1;3;34mObservation: It looks like the SQL query you provided is invalid. There are a few potential issues:\n",
            "\n",
            "1. The query is trying to use a subquery as a table alias, which is not allowed in most SQL databases. The subquery `(SELECT index, Review_Title, Rating FROM barbie WHERE Rating = (SELECT MIN(Rating) FROM barbie) AND Review_Title LIKE '%Barbie%')` is being used as the table alias `barbie_min_rating`, but this is not a valid table alias.\n",
            "2. The query is using the `UNION` operator to combine the results of two subqueries, but the subqueries are not selecting the same columns. The first subquery selects `index`, `Review_Title`, and `Rating` columns, while the second subquery selects the same columns but with different table names (`barbie` vs `oppenheimer`).\n",
            "\n",
            "To fix the query, you can try rewriting it to use a single subquery that selects the minimum rating for each table, and then use a `UNION` operator to combine the results. Here's an example of how you could rewrite the query:\n",
            "```sql\n",
            "SELECT index, Review_Title, Rating\n",
            "FROM (\n",
            "  SELECT index, Review_Title, Rating\n",
            "  FROM barbie\n",
            "  WHERE Rating = (SELECT MIN(Rating) FROM barbie)\n",
            "  AND Review_Title LIKE '%Barbie%'\n",
            "  UNION ALL\n",
            "  SELECT index, Review_Title, Rating\n",
            "  FROM oppenheimer\n",
            "  WHERE Rating\n",
            "\u001b[0m\u001b[1;3;38;5;200mThought: The current language of the user is English. The user has identified the issue with the SQL query and provided a rewritten version. I will use this rewritten query to answer the question.\n",
            "Action: sql_tool\n",
            "Action Input: {'input': \"SELECT index, Review_Title, Rating FROM (SELECT index, Review_Title, Rating FROM barbie WHERE Rating = (SELECT MIN(Rating) FROM barbie) AND Review_Title LIKE '%Barbie%') AS barbie_min_rating UNION ALL SELECT index, Review_Title, Rating FROM (SELECT index, Review_Title, Rating FROM oppenheimer WHERE Rating = (SELECT MIN(Rating) FROM oppenheimer) AND Review_Title LIKE '%Oppenheimer%') AS oppenheimer_min_rating\"}\n",
            "\u001b[0m\u001b[1;3;34mObservation: It looks like the SQL query you provided is not valid. There are a few issues with the query:\n",
            "\n",
            "1. The query is trying to use a subquery as a table alias, which is not allowed in SQL. The subquery `(SELECT index, Review_Title, Rating FROM barbie WHERE Rating = (SELECT MIN(Rating) FROM barbie) AND Review_Title LIKE '%Barbie%') AS barbie_min_rating` is trying to be used as a table alias, but it's not a valid table alias.\n",
            "2. The query is also trying to use a union operator (`UNION ALL`) without specifying the columns that the two queries are supposed to be unioned on. The `UNION ALL` operator requires that the two queries have the same number of columns and that the columns are in the same order.\n",
            "\n",
            "To fix the query, you can try rewriting it as follows:\n",
            "\n",
            "```\n",
            "SELECT index, Review_Title, Rating\n",
            "FROM (\n",
            "  SELECT index, Review_Title, Rating\n",
            "  FROM barbie\n",
            "  WHERE Rating = (SELECT MIN(Rating) FROM barbie)\n",
            "  AND Review_Title LIKE '%Barbie%'\n",
            ") AS barbie_min_rating\n",
            "\n",
            "UNION ALL\n",
            "\n",
            "SELECT index, Review_Title, Rating\n",
            "FROM (\n",
            "  SELECT index, Review_Title, Rating\n",
            "  FROM oppenheimer\n",
            "  WHERE Rating = (SELECT MIN(Rating) FROM oppenheimer)\n",
            "  AND Review_Title LIKE '%Oppenheimer%'\n",
            ") AS oppenheimer_min_rating\n",
            "```\n",
            "\n",
            "This\n",
            "\u001b[0m\u001b[1;3;38;5;200mThought: The current language of the user is English. The user has identified the issue with the SQL query and provided a rewritten version. I will use this rewritten query to answer the question.\n",
            "Action: sql_tool\n",
            "Action Input: {'input': \"SELECT index, Review_Title, Rating FROM (SELECT index, Review_Title, Rating FROM barbie WHERE Rating = (SELECT MIN(Rating) FROM barbie) AND Review_Title LIKE '%Barbie%') AS barbie_min_rating UNION ALL SELECT index, Review_Title, Rating FROM (SELECT index, Review_Title, Rating FROM oppenheimer WHERE Rating = (SELECT MIN(Rating) FROM oppenheimer) AND Review_Title LIKE '%Oppenheimer%') AS oppenheimer_min_rating\"}\n",
            "\u001b[0m\u001b[1;3;34mObservation: It looks like the SQL query you provided is not valid. There are a few issues with the query:\n",
            "\n",
            "1. The query is trying to use a subquery as a table alias, which is not allowed in SQL. The subquery `(SELECT index, Review_Title, Rating FROM barbie WHERE Rating = (SELECT MIN(Rating) FROM barbie) AND Review_Title LIKE '%Barbie%') AS barbie_min_rating` is trying to be used as a table alias, but it's not a valid table alias.\n",
            "2. The query is also trying to use a UNION ALL operator without specifying the columns that the two queries are supposed to be unioned on. The UNION ALL operator requires that the columns in the two queries be the same, but in this case, the columns are different.\n",
            "\n",
            "To fix the query, you can try rewriting it to use a single subquery that returns the minimum rating for both the `barbie` and `oppenheimer` tables, and then use that subquery to filter the results. Here's an example of how you could do that:\n",
            "\n",
            "```\n",
            "SELECT index, Review_Title, Rating\n",
            "FROM (\n",
            "  SELECT index, Review_Title, Rating,\n",
            "         ROW_NUMBER() OVER (PARTITION BY table_name ORDER BY Rating) AS row_num\n",
            "  FROM (\n",
            "    SELECT index, Review_Title, Rating, 'barbie' AS table_name\n",
            "    FROM barbie\n",
            "    WHERE Review_Title LIKE '%Barbie%'\n",
            "  ) AS barbie\n",
            "  UNION\n",
            "\u001b[0m\u001b[1;3;38;5;200mThought: The current language of the user is English. The user has identified the issue with the SQL query and provided a rewritten version. I will use this rewritten query to answer the question.\n",
            "Action: sql_tool\n",
            "Action Input: {'input': \"SELECT index, Review_Title, Rating FROM (SELECT index, Review_Title, Rating, ROW_NUMBER() OVER (PARTITION BY table_name ORDER BY Rating) AS row_num FROM (SELECT index, Review_Title, Rating, 'barbie' AS table_name FROM barbie WHERE Review_Title LIKE '%Barbie%') AS barbie UNION SELECT index, Review_Title, Rating, ROW_NUMBER() OVER (PARTITION BY table_name ORDER BY Rating) AS row_num FROM (SELECT index, Review_Title, Rating, 'oppenheimer' AS table_name FROM oppenheimer WHERE Review_Title LIKE '%Oppenheimer%') AS oppenheimer) AS subquery WHERE row_num = 1\"}\n",
            "\u001b[0m\u001b[1;3;34mObservation: I see what's going on here! You're trying to query the database with a SQL query as a question, but I'm designed to understand natural language questions and generate SQL queries to answer them.\n",
            "\n",
            "To get started, please provide a standard question in natural language format, and I'll do my best to create a syntactically correct SQLite query, run it, and return the answer.\n",
            "\n",
            "For example, you could ask:\n",
            "\n",
            "* What are the top-rated reviews for Barbie dolls?\n",
            "* What are the most recent reviews for Oppenheimer?\n",
            "* Which Barbie dolls have the highest average rating?\n",
            "* Are there any reviews for Oppenheimer that mention a specific feature?\n",
            "\n",
            "Go ahead and ask your question, and I'll do my best to help!\n",
            "\u001b[0m\u001b[1;3;34mObservation: Error: Could not parse output. Please follow the thought-action-input format. Try again.\n",
            "\u001b[0m\u001b[1;3;38;5;200mThought: The current language of the user is English. I need to use a tool to help me answer the question.\n",
            "Action: sql_tool\n",
            "Action Input: {'input': 'What is the lowest rating of the each of the films and can you summarize what the reviewer said for these ratings?'}\n",
            "\u001b[0m\u001b[1;3;34mObservation: Based on the SQL query results, the lowest rating of the films is 1 (None), and the reviewer's summary is:\n",
            "\n",
            "\"I really enjoyed the first 20 minutes of the movie. It was very upbeat, positive and light. However, things soon became negative about 20 - 25 minutes into the movie. I couldn't stand it. Barbie's world and attitude was a constant bummer. Ken's attitude was sour. For the next hour (and more) the movie was just a disappointment.\"\n",
            "\n",
            "This review suggests that the reviewer was initially pleased with the movie, but their opinion quickly turned negative due to the tone and characters.\n",
            "\u001b[0m\u001b[1;3;38;5;200mThought: The current language of the user is English. I can answer the question without using any more tools.\n",
            "Answer: The lowest rating of the films is 1 (None), and the reviewer's summary is: \"I really enjoyed the first 20 minutes of the movie. It was very upbeat, positive and light. However, things soon became negative about 20 - 25 minutes into the movie. I couldn't stand it. Barbie's world and attitude was a constant bummer. Ken's attitude was sour. For the next hour (and more) the movie was just a disappointment.\" This review suggests that the reviewer was initially pleased with the movie, but their opinion quickly turned negative due to the tone and characters.\n",
            "\u001b[0m"
          ]
        }
      ],
      "source": [
        "response = barbenheimer_agent.chat(\"What is the lowest rating of these films and what did the reviewer said for these ratings?\")"
      ]
    },
    {
      "cell_type": "code",
      "execution_count": null,
      "metadata": {
        "colab": {
          "base_uri": "https://localhost:8080/",
          "height": 88
        },
        "id": "WM_DxonZMmzp",
        "outputId": "99d1bb98-9b0a-429c-c340-31acb587a1a1"
      },
      "outputs": [
        {
          "data": {
            "application/vnd.google.colaboratory.intrinsic+json": {
              "type": "string"
            },
            "text/plain": [
              "'The lowest rating of the films is 1 (None), and the reviewer\\'s summary is: \"I really enjoyed the first 20 minutes of the movie. It was very upbeat, positive and light. However, things soon became negative about 20 - 25 minutes into the movie. I couldn\\'t stand it. Barbie\\'s world and attitude was a constant bummer. Ken\\'s attitude was sour. For the next hour (and more) the movie was just a disappointment.\" This review suggests that the reviewer was initially pleased with the movie, but their opinion quickly turned negative due to the tone and characters.'"
            ]
          },
          "execution_count": 185,
          "metadata": {},
          "output_type": "execute_result"
        }
      ],
      "source": [
        "response.response"
      ]
    },
    {
      "cell_type": "code",
      "execution_count": null,
      "metadata": {
        "id": "-l3phWBVMoOb"
      },
      "outputs": [],
      "source": []
    }
  ],
  "metadata": {
    "colab": {
      "provenance": []
    },
    "kernelspec": {
      "display_name": "Python 3",
      "name": "python3"
    },
    "language_info": {
      "name": "python"
    }
  },
  "nbformat": 4,
  "nbformat_minor": 0
}
