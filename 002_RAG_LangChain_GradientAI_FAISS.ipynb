{
  "cells": [
    {
      "cell_type": "markdown",
      "metadata": {
        "id": "OYj-1ZrL-Bpl"
      },
      "source": [
        "INSTALLING PACKAGES"
      ]
    },
    {
      "cell_type": "code",
      "execution_count": null,
      "metadata": {
        "id": "MlHh_kB3nz6I",
        "colab": {
          "base_uri": "https://localhost:8080/"
        },
        "outputId": "40a3bb81-cb83-46a7-804b-3dd17aacbbc6",
        "collapsed": true
      },
      "outputs": [
        {
          "output_type": "stream",
          "name": "stdout",
          "text": [
            "\u001b[2K     \u001b[90m━━━━━━━━━━━━━━━━━━━━━━━━━━━━━━━━━━━━━━━━\u001b[0m \u001b[32m397.7/397.7 kB\u001b[0m \u001b[31m9.7 MB/s\u001b[0m eta \u001b[36m0:00:00\u001b[0m\n",
            "\u001b[2K     \u001b[90m━━━━━━━━━━━━━━━━━━━━━━━━━━━━━━━━━━━━━━━━\u001b[0m \u001b[32m547.8/547.8 kB\u001b[0m \u001b[31m33.4 MB/s\u001b[0m eta \u001b[36m0:00:00\u001b[0m\n",
            "\u001b[2K     \u001b[90m━━━━━━━━━━━━━━━━━━━━━━━━━━━━━━━━━━━━━━━━\u001b[0m \u001b[32m975.5/975.5 kB\u001b[0m \u001b[31m42.3 MB/s\u001b[0m eta \u001b[36m0:00:00\u001b[0m\n",
            "\u001b[2K     \u001b[90m━━━━━━━━━━━━━━━━━━━━━━━━━━━━━━━━━━━━━━━━\u001b[0m \u001b[32m2.2/2.2 MB\u001b[0m \u001b[31m58.1 MB/s\u001b[0m eta \u001b[36m0:00:00\u001b[0m\n",
            "\u001b[2K     \u001b[90m━━━━━━━━━━━━━━━━━━━━━━━━━━━━━━━━━━━━━━━━\u001b[0m \u001b[32m3.5/3.5 MB\u001b[0m \u001b[31m46.2 MB/s\u001b[0m eta \u001b[36m0:00:00\u001b[0m\n",
            "\u001b[2K     \u001b[90m━━━━━━━━━━━━━━━━━━━━━━━━━━━━━━━━━━━━━━━━\u001b[0m \u001b[32m27.0/27.0 MB\u001b[0m \u001b[31m48.1 MB/s\u001b[0m eta \u001b[36m0:00:00\u001b[0m\n",
            "\u001b[2K     \u001b[90m━━━━━━━━━━━━━━━━━━━━━━━━━━━━━━━━━━━━━━━━\u001b[0m \u001b[32m137.6/137.6 kB\u001b[0m \u001b[31m15.6 MB/s\u001b[0m eta \u001b[36m0:00:00\u001b[0m\n",
            "\u001b[2K     \u001b[90m━━━━━━━━━━━━━━━━━━━━━━━━━━━━━━━━━━━━━━━━\u001b[0m \u001b[32m40.8/40.8 MB\u001b[0m \u001b[31m10.4 MB/s\u001b[0m eta \u001b[36m0:00:00\u001b[0m\n",
            "\u001b[2K     \u001b[90m━━━━━━━━━━━━━━━━━━━━━━━━━━━━━━━━━━━━━━━━\u001b[0m \u001b[32m116.3/116.3 kB\u001b[0m \u001b[31m14.1 MB/s\u001b[0m eta \u001b[36m0:00:00\u001b[0m\n",
            "\u001b[2K     \u001b[90m━━━━━━━━━━━━━━━━━━━━━━━━━━━━━━━━━━━━━━━━\u001b[0m \u001b[32m64.9/64.9 kB\u001b[0m \u001b[31m7.2 MB/s\u001b[0m eta \u001b[36m0:00:00\u001b[0m\n",
            "\u001b[2K     \u001b[90m━━━━━━━━━━━━━━━━━━━━━━━━━━━━━━━━━━━━━━━━\u001b[0m \u001b[32m194.1/194.1 kB\u001b[0m \u001b[31m14.9 MB/s\u001b[0m eta \u001b[36m0:00:00\u001b[0m\n",
            "\u001b[2K     \u001b[90m━━━━━━━━━━━━━━━━━━━━━━━━━━━━━━━━━━━━━━━━\u001b[0m \u001b[32m134.8/134.8 kB\u001b[0m \u001b[31m14.8 MB/s\u001b[0m eta \u001b[36m0:00:00\u001b[0m\n",
            "\u001b[2K     \u001b[90m━━━━━━━━━━━━━━━━━━━━━━━━━━━━━━━━━━━━━━━━\u001b[0m \u001b[32m15.4/15.4 MB\u001b[0m \u001b[31m50.8 MB/s\u001b[0m eta \u001b[36m0:00:00\u001b[0m\n",
            "\u001b[2K     \u001b[90m━━━━━━━━━━━━━━━━━━━━━━━━━━━━━━━━━━━━━━━━\u001b[0m \u001b[32m2.0/2.0 MB\u001b[0m \u001b[31m50.7 MB/s\u001b[0m eta \u001b[36m0:00:00\u001b[0m\n",
            "\u001b[2K     \u001b[90m━━━━━━━━━━━━━━━━━━━━━━━━━━━━━━━━━━━━━━━━\u001b[0m \u001b[32m75.6/75.6 kB\u001b[0m \u001b[31m9.1 MB/s\u001b[0m eta \u001b[36m0:00:00\u001b[0m\n",
            "\u001b[2K     \u001b[90m━━━━━━━━━━━━━━━━━━━━━━━━━━━━━━━━━━━━━━━━\u001b[0m \u001b[32m130.8/130.8 kB\u001b[0m \u001b[31m14.5 MB/s\u001b[0m eta \u001b[36m0:00:00\u001b[0m\n",
            "\u001b[2K     \u001b[90m━━━━━━━━━━━━━━━━━━━━━━━━━━━━━━━━━━━━━━━━\u001b[0m \u001b[32m327.4/327.4 kB\u001b[0m \u001b[31m27.0 MB/s\u001b[0m eta \u001b[36m0:00:00\u001b[0m\n",
            "\u001b[2K     \u001b[90m━━━━━━━━━━━━━━━━━━━━━━━━━━━━━━━━━━━━━━━━\u001b[0m \u001b[32m1.1/1.1 MB\u001b[0m \u001b[31m62.4 MB/s\u001b[0m eta \u001b[36m0:00:00\u001b[0m\n",
            "\u001b[2K     \u001b[90m━━━━━━━━━━━━━━━━━━━━━━━━━━━━━━━━━━━━━━━━\u001b[0m \u001b[32m171.5/171.5 kB\u001b[0m \u001b[31m16.7 MB/s\u001b[0m eta \u001b[36m0:00:00\u001b[0m\n",
            "\u001b[2K     \u001b[90m━━━━━━━━━━━━━━━━━━━━━━━━━━━━━━━━━━━━━━━━\u001b[0m \u001b[32m332.8/332.8 kB\u001b[0m \u001b[31m30.8 MB/s\u001b[0m eta \u001b[36m0:00:00\u001b[0m\n",
            "\u001b[2K     \u001b[90m━━━━━━━━━━━━━━━━━━━━━━━━━━━━━━━━━━━━━━━━\u001b[0m \u001b[32m127.4/127.4 kB\u001b[0m \u001b[31m9.2 MB/s\u001b[0m eta \u001b[36m0:00:00\u001b[0m\n",
            "\u001b[2K     \u001b[90m━━━━━━━━━━━━━━━━━━━━━━━━━━━━━━━━━━━━━━━━\u001b[0m \u001b[32m15.7/15.7 MB\u001b[0m \u001b[31m80.7 MB/s\u001b[0m eta \u001b[36m0:00:00\u001b[0m\n",
            "\u001b[2K     \u001b[90m━━━━━━━━━━━━━━━━━━━━━━━━━━━━━━━━━━━━━━━━\u001b[0m \u001b[32m81.3/81.3 kB\u001b[0m \u001b[31m10.2 MB/s\u001b[0m eta \u001b[36m0:00:00\u001b[0m\n",
            "\u001b[2K     \u001b[90m━━━━━━━━━━━━━━━━━━━━━━━━━━━━━━━━━━━━━━━━\u001b[0m \u001b[32m49.2/49.2 kB\u001b[0m \u001b[31m4.9 MB/s\u001b[0m eta \u001b[36m0:00:00\u001b[0m\n",
            "\u001b[?25h  Preparing metadata (setup.py) ... \u001b[?25l\u001b[?25hdone\n",
            "\u001b[2K     \u001b[90m━━━━━━━━━━━━━━━━━━━━━━━━━━━━━━━━━━━━━━━━\u001b[0m \u001b[32m145.0/145.0 kB\u001b[0m \u001b[31m16.6 MB/s\u001b[0m eta \u001b[36m0:00:00\u001b[0m\n",
            "\u001b[2K     \u001b[90m━━━━━━━━━━━━━━━━━━━━━━━━━━━━━━━━━━━━━━━━\u001b[0m \u001b[32m173.8/173.8 kB\u001b[0m \u001b[31m17.2 MB/s\u001b[0m eta \u001b[36m0:00:00\u001b[0m\n",
            "\u001b[2K     \u001b[90m━━━━━━━━━━━━━━━━━━━━━━━━━━━━━━━━━━━━━━━━\u001b[0m \u001b[32m290.4/290.4 kB\u001b[0m \u001b[31m30.0 MB/s\u001b[0m eta \u001b[36m0:00:00\u001b[0m\n",
            "\u001b[2K     \u001b[90m━━━━━━━━━━━━━━━━━━━━━━━━━━━━━━━━━━━━━━━━\u001b[0m \u001b[32m139.2/139.2 kB\u001b[0m \u001b[31m16.3 MB/s\u001b[0m eta \u001b[36m0:00:00\u001b[0m\n",
            "\u001b[2K     \u001b[90m━━━━━━━━━━━━━━━━━━━━━━━━━━━━━━━━━━━━━━━━\u001b[0m \u001b[32m3.1/3.1 MB\u001b[0m \u001b[31m83.2 MB/s\u001b[0m eta \u001b[36m0:00:00\u001b[0m\n",
            "\u001b[2K     \u001b[90m━━━━━━━━━━━━━━━━━━━━━━━━━━━━━━━━━━━━━━━━\u001b[0m \u001b[32m77.9/77.9 kB\u001b[0m \u001b[31m9.1 MB/s\u001b[0m eta \u001b[36m0:00:00\u001b[0m\n",
            "\u001b[2K     \u001b[90m━━━━━━━━━━━━━━━━━━━━━━━━━━━━━━━━━━━━━━━━\u001b[0m \u001b[32m58.3/58.3 kB\u001b[0m \u001b[31m6.9 MB/s\u001b[0m eta \u001b[36m0:00:00\u001b[0m\n",
            "\u001b[2K     \u001b[90m━━━━━━━━━━━━━━━━━━━━━━━━━━━━━━━━━━━━━━━━\u001b[0m \u001b[32m21.3/21.3 MB\u001b[0m \u001b[31m66.3 MB/s\u001b[0m eta \u001b[36m0:00:00\u001b[0m\n",
            "\u001b[2K     \u001b[90m━━━━━━━━━━━━━━━━━━━━━━━━━━━━━━━━━━━━━━━━\u001b[0m \u001b[32m12.3/12.3 MB\u001b[0m \u001b[31m96.8 MB/s\u001b[0m eta \u001b[36m0:00:00\u001b[0m\n",
            "\u001b[2K     \u001b[90m━━━━━━━━━━━━━━━━━━━━━━━━━━━━━━━━━━━━━━━━\u001b[0m \u001b[32m82.7/82.7 kB\u001b[0m \u001b[31m8.9 MB/s\u001b[0m eta \u001b[36m0:00:00\u001b[0m\n",
            "\u001b[?25h  Building wheel for sgmllib3k (setup.py) ... \u001b[?25l\u001b[?25hdone\n",
            "\u001b[31mERROR: pip's dependency resolver does not currently take into account all the packages that are installed. This behaviour is the source of the following dependency conflicts.\n",
            "cudf-cu12 24.4.1 requires pyarrow<15.0.0a0,>=14.0.1, but you have pyarrow 16.1.0 which is incompatible.\n",
            "google-colab 1.0.0 requires requests==2.31.0, but you have requests 2.32.3 which is incompatible.\n",
            "ibis-framework 8.0.0 requires pyarrow<16,>=2, but you have pyarrow 16.1.0 which is incompatible.\u001b[0m\u001b[31m\n",
            "\u001b[0m"
          ]
        }
      ],
      "source": [
        "!pip install python-dotenv gradientai datasets llama-index llama-index-llms-gradient llama-index-finetuning langchain langchain_community langchain_huggingface pymupdf arxiv faiss-cpu -qU"
      ]
    },
    {
      "cell_type": "markdown",
      "metadata": {
        "id": "87ZkWtpf-AmQ"
      },
      "source": [
        "INITIALIZE GRADIENTAI WORKSPACE AND KEY INFORMATION"
      ]
    },
    {
      "cell_type": "code",
      "execution_count": null,
      "metadata": {
        "id": "axDYUIT32q9D"
      },
      "outputs": [],
      "source": [
        "from dotenv import dotenv_values\n",
        "import openai\n",
        "\n",
        "env_vars = dotenv_values('/content/drive/MyDrive/Colab Notebooks/RAG/env.txt')\n",
        "\n",
        "gradientai_workspace_id = env_vars['GRADIENT_WORKSPACE_ID']\n",
        "gradientai_api_key = env_vars['GRADIENT_ACCESS_TOKEN']\n"
      ]
    },
    {
      "cell_type": "markdown",
      "source": [
        "We are going to use **llama2-7b-chat** for inference and will fine-tune it to follow instructions"
      ],
      "metadata": {
        "id": "ImdJ1LoYVWdJ"
      }
    },
    {
      "cell_type": "markdown",
      "source": [
        "We are going to use [GradientAI](https://gradient.ai/).\n",
        "Docs are [available here](https://docs.gradient.ai/) for reference and quick start."
      ],
      "metadata": {
        "id": "RG_uAIL_VgyP"
      }
    },
    {
      "cell_type": "markdown",
      "source": [
        "Once the registration is complete, we need to note down the workspace_id and create an access token to proceed with consuming GradientAI services."
      ],
      "metadata": {
        "id": "Wo-fly0YO3-N"
      }
    },
    {
      "cell_type": "markdown",
      "metadata": {
        "id": "xYLK9Vev-VMF"
      },
      "source": [
        "INITIALIZE GradientAI model for consumption and Instruction-tuning"
      ]
    },
    {
      "cell_type": "code",
      "execution_count": null,
      "metadata": {
        "id": "fk2KjOVSraNW"
      },
      "outputs": [],
      "source": [
        "from llama_index.llms.gradient import GradientBaseModelLLM\n",
        "\n",
        "model_version = 'llama2-7b-chat'\n",
        "\n",
        "gradient_model = GradientBaseModelLLM(\n",
        "    workspace_id=gradientai_workspace_id,\n",
        "    access_token=gradientai_api_key,\n",
        "    base_model_slug=model_version,\n",
        "    max_tokens=300\n",
        ")\n"
      ]
    },
    {
      "cell_type": "markdown",
      "source": [
        "So now the model is intialized, we need to **prepare the dataset** on which\n",
        "the model hosted on gradientAI will be used **for Fine-Tuning**."
      ],
      "metadata": {
        "id": "hwu3lATOYIbI"
      }
    },
    {
      "cell_type": "markdown",
      "source": [
        "**llama2-7b-chat** requires the data to be in **jsonl format**."
      ],
      "metadata": {
        "id": "thPHC3DpYcyD"
      }
    },
    {
      "cell_type": "markdown",
      "source": [
        "We will use [mosaicml/instruct-v3](https://huggingface.co/datasets/mosaicml/instruct-v3) dataset which contains the rows in following format :\n",
        "![image.png](data:image/png;base64,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)"
      ],
      "metadata": {
        "id": "EXSmLWSFYmbT"
      }
    },
    {
      "cell_type": "markdown",
      "source": [
        "Each row should have an object called inputs which contains your fully formatted prompt."
      ],
      "metadata": {
        "id": "Gh3uASC3ZVbJ"
      }
    },
    {
      "cell_type": "markdown",
      "metadata": {
        "id": "2_kd2YcV-WKL"
      },
      "source": [
        "***NOTE***: Even though we are using a safe content and aligned dataset, we may still see unwanted results if model is not used for its intended purpose."
      ]
    },
    {
      "cell_type": "markdown",
      "source": [
        "Lets load the dataset"
      ],
      "metadata": {
        "id": "zwcwr87iZzOD"
      }
    },
    {
      "cell_type": "code",
      "source": [
        "from datasets import load_dataset\n",
        "\n",
        "instruct_tune_dataset = load_dataset(\"mosaicml/instruct-v3\")"
      ],
      "metadata": {
        "colab": {
          "base_uri": "https://localhost:8080/",
          "height": 301,
          "referenced_widgets": [
            "f1c2618cd4b049e28e3b4ba19cb18148",
            "6e464452de2a4e95a3f723836882e052",
            "c42ed76ace6a43e29b4d5b24bdceb018",
            "97b6e551f87e4ac4b8246831ddc8a148",
            "c07a626545a54bb6a5a6affccf2a69db",
            "766595c7ce0c46cba1e5805e3b4f90e8",
            "9eda8d59df7842279a5be8f8d54cabb1",
            "073b033968fd4013b4ff623ded5a7e18",
            "4ea51675fa654935bd0f25ca511b509d",
            "581381bd2e9c41d8ba2eddffbe5a9c7f",
            "2cfb64ae78954eef9a55cff95f2b3d5e",
            "e9a5a741a6524ef7b31786d493854c51",
            "8025f748698f44e795daf48cf9cc5ce2",
            "c09438c70d114b5caaa0ba66e55b44f1",
            "b85c61177e6b4ed7979f4259792be0bd",
            "458f176b8552430a939ac0f1f8048a92",
            "5420b64319404ed1ba7cbbabc8dfd23c",
            "37a810c9b35a45178ff373fdad0ced22",
            "257aa89de9a745eba680a8b693d05819",
            "aa566ade2200412fba5d7ff7d9f23ae2",
            "1ad648c12d274b1599a1a91e1158b018",
            "46524e2b87424236b4bbaa604402d521",
            "c6fa335fc9aa4a6a85232ce74e15fadd",
            "eac2e13dc53b473686539515d4bd9d2a",
            "27b33cea952149bb932429800852926a",
            "9a4c3cd9216447a9ac59336c4c482779",
            "6172e310f82345d5bc11ffa992ec6ecd",
            "6b042dde91fe4c15a18bcf992a4ccc95",
            "669171f9d3e34b0bb2a2afd07466dde8",
            "21f03a1837e14d0a955a3cb88fbecd8e",
            "a4410eacbe874e0c90032e6d6589ed62",
            "bfc8e38b36bf4479be4c0abedba67b30",
            "8ac9d67ccf454b4cbafad4d584f363f4",
            "f7e7c4e1224c40cfbd39175f23d4315d",
            "1416634473ac48a1bd6d0afecb91d321",
            "c976471e73654062b8f278e85f201deb",
            "3a5849ec0f4d4bee840e0cf3102b6fc4",
            "6c217518e01d44daa9f2f6e2e34c9a2a",
            "809b15129568428ab2e300ea1c8bd144",
            "9f7fb8d45e7c44178ab9544806795822",
            "e55066fe88f448728507976e5014ad5e",
            "2be2279ac5654cc98c75af2d02b9467b",
            "bd4c005729e24a00b959e3a45957ec8f",
            "194624cc0f4a43b4ac90b19e6a2aa613",
            "c303102e72364f8d8c8fbef7100c41e7",
            "12a9a464a2e24dfe8253604dda4a78bc",
            "94b7baa76eab46a5ac01ed74c4daa67a",
            "81c1692f06b04d53973ee007f8747a47",
            "f689e2a0e2e04366a735fa10132e036a",
            "5d009d890d7e4ec680c57c783c38338d",
            "07269f40059c4c13942c95379535a4be",
            "dafa94ad732b4eea9bdd5c23dfcf5f56",
            "88faff00dbd24f1184f429e654337e05",
            "bf38a86703d040f98f1b647d2a91a99a",
            "08706e8984e44d0b95881bc7ce5c6c83"
          ]
        },
        "id": "dp1lkpy8Z1VH",
        "outputId": "6ec4b6e5-53cf-498e-c430-559d9d9de8aa"
      },
      "execution_count": null,
      "outputs": [
        {
          "output_type": "stream",
          "name": "stderr",
          "text": [
            "/usr/local/lib/python3.10/dist-packages/huggingface_hub/utils/_token.py:89: UserWarning: \n",
            "The secret `HF_TOKEN` does not exist in your Colab secrets.\n",
            "To authenticate with the Hugging Face Hub, create a token in your settings tab (https://huggingface.co/settings/tokens), set it as secret in your Google Colab and restart your session.\n",
            "You will be able to reuse this secret in all of your notebooks.\n",
            "Please note that authentication is recommended but still optional to access public models or datasets.\n",
            "  warnings.warn(\n"
          ]
        },
        {
          "output_type": "display_data",
          "data": {
            "text/plain": [
              "Downloading readme:   0%|          | 0.00/3.05k [00:00<?, ?B/s]"
            ],
            "application/vnd.jupyter.widget-view+json": {
              "version_major": 2,
              "version_minor": 0,
              "model_id": "f1c2618cd4b049e28e3b4ba19cb18148"
            }
          },
          "metadata": {}
        },
        {
          "output_type": "display_data",
          "data": {
            "text/plain": [
              "Downloading data:   0%|          | 0.00/127M [00:00<?, ?B/s]"
            ],
            "application/vnd.jupyter.widget-view+json": {
              "version_major": 2,
              "version_minor": 0,
              "model_id": "e9a5a741a6524ef7b31786d493854c51"
            }
          },
          "metadata": {}
        },
        {
          "output_type": "display_data",
          "data": {
            "text/plain": [
              "Downloading data:   0%|          | 0.00/10.3M [00:00<?, ?B/s]"
            ],
            "application/vnd.jupyter.widget-view+json": {
              "version_major": 2,
              "version_minor": 0,
              "model_id": "c6fa335fc9aa4a6a85232ce74e15fadd"
            }
          },
          "metadata": {}
        },
        {
          "output_type": "display_data",
          "data": {
            "text/plain": [
              "Generating train split:   0%|          | 0/56167 [00:00<?, ? examples/s]"
            ],
            "application/vnd.jupyter.widget-view+json": {
              "version_major": 2,
              "version_minor": 0,
              "model_id": "f7e7c4e1224c40cfbd39175f23d4315d"
            }
          },
          "metadata": {}
        },
        {
          "output_type": "display_data",
          "data": {
            "text/plain": [
              "Generating test split:   0%|          | 0/6807 [00:00<?, ? examples/s]"
            ],
            "application/vnd.jupyter.widget-view+json": {
              "version_major": 2,
              "version_minor": 0,
              "model_id": "c303102e72364f8d8c8fbef7100c41e7"
            }
          },
          "metadata": {}
        }
      ]
    },
    {
      "cell_type": "code",
      "source": [
        "instruct_tune_dataset"
      ],
      "metadata": {
        "colab": {
          "base_uri": "https://localhost:8080/"
        },
        "id": "MG8y0iYWZ6l4",
        "outputId": "70e2b529-1047-47aa-8193-ca4429f1cad9"
      },
      "execution_count": null,
      "outputs": [
        {
          "output_type": "execute_result",
          "data": {
            "text/plain": [
              "DatasetDict({\n",
              "    train: Dataset({\n",
              "        features: ['prompt', 'response', 'source'],\n",
              "        num_rows: 56167\n",
              "    })\n",
              "    test: Dataset({\n",
              "        features: ['prompt', 'response', 'source'],\n",
              "        num_rows: 6807\n",
              "    })\n",
              "})"
            ]
          },
          "metadata": {},
          "execution_count": 12
        }
      ]
    },
    {
      "cell_type": "markdown",
      "source": [
        "The dataset has 3 columns :\n",
        "\n",
        "1.  prompt\n",
        "2.  response\n",
        "3.  source\n",
        "\n",
        "We need to combine the prompt and response in a single formatted prompt and name it as *input* for all rows before we can start to fine-tune the model."
      ],
      "metadata": {
        "id": "BzqtBKdeZ8yn"
      }
    },
    {
      "cell_type": "markdown",
      "source": [
        "####FORMATTED PROMPT"
      ],
      "metadata": {
        "id": "3OIBOt2faeIp"
      }
    },
    {
      "cell_type": "markdown",
      "source": [
        "```\n",
        "<s>### Instruction:\n",
        "Below is an instruction that describes a task. Write a response that appropriately completes the request.\n",
        "{USER MESSAGE}\n",
        "\n",
        "### Response:\n",
        "{RESPONSE}</s>\n",
        "```"
      ],
      "metadata": {
        "id": "Ok5LkWp9bECs"
      }
    },
    {
      "cell_type": "markdown",
      "source": [
        "llama models follows ```[SYS][INST]``` meta-tags but it was found by the llama-index team that ```<s> </s>``` performs a bit better."
      ],
      "metadata": {
        "id": "BnM0O_yHbMg7"
      }
    },
    {
      "cell_type": "code",
      "source": [
        "def create_prompt(sample):\n",
        "  bos_token = \"<s>\"\n",
        "  system_message = \"Below is an instruction that describes a task. Write a response that appropriately completes the request.\"\n",
        "  user_message = sample[\"prompt\"].replace(system_message, \"\").replace(\"\\n\\n### Instruction\\n\", \"\").replace(\"\\n### Response\\n\", \"\").strip()\n",
        "  response = sample[\"response\"]\n",
        "  eos_token = \"</s>\"\n",
        "\n",
        "  full_prompt = \"\"\n",
        "  full_prompt += bos_token\n",
        "  full_prompt += \"### Instruction:\"\n",
        "  full_prompt += \"\\n\" + system_message\n",
        "  full_prompt += \"\\n\" + user_message\n",
        "  full_prompt += \"\\n\\n### Response:\"\n",
        "  full_prompt += \"\\n\" + response\n",
        "  full_prompt += eos_token\n",
        "\n",
        "  return {\"inputs\" : full_prompt}"
      ],
      "metadata": {
        "id": "tRc8y1wEbLq7"
      },
      "execution_count": null,
      "outputs": []
    },
    {
      "cell_type": "markdown",
      "source": [
        "Lets see how the prompt looks like"
      ],
      "metadata": {
        "id": "M2BmLF18bqgv"
      }
    },
    {
      "cell_type": "code",
      "source": [
        "instruct_tune_dataset[\"train\"][1]['prompt']"
      ],
      "metadata": {
        "colab": {
          "base_uri": "https://localhost:8080/",
          "height": 53
        },
        "id": "kf3FkQALb9Xq",
        "outputId": "85c031e4-5dcf-4837-b1e2-98c21e39e842"
      },
      "execution_count": null,
      "outputs": [
        {
          "output_type": "execute_result",
          "data": {
            "text/plain": [
              "'Below is an instruction that describes a task. Write a response that appropriately completes the request.\\n\\n### Instruction\\nWhat are different types of grass?\\n\\n### Response\\n'"
            ],
            "application/vnd.google.colaboratory.intrinsic+json": {
              "type": "string"
            }
          },
          "metadata": {},
          "execution_count": 18
        }
      ]
    },
    {
      "cell_type": "code",
      "source": [
        "instruct_tune_dataset[\"train\"][1]['response']"
      ],
      "metadata": {
        "colab": {
          "base_uri": "https://localhost:8080/",
          "height": 53
        },
        "id": "7gcpcAc_cCjV",
        "outputId": "cf5d383a-c1e7-4f6d-8682-61d6257b2a3b"
      },
      "execution_count": null,
      "outputs": [
        {
          "output_type": "execute_result",
          "data": {
            "text/plain": [
              "'There are more than 12,000 species of grass. The most common is Kentucky Bluegrass, because it grows quickly, easily, and is soft to the touch. Rygrass is shiny and bright green colored. Fescues are dark green and shiny. Bermuda grass is harder but can grow in drier soil.'"
            ],
            "application/vnd.google.colaboratory.intrinsic+json": {
              "type": "string"
            }
          },
          "metadata": {},
          "execution_count": 19
        }
      ]
    },
    {
      "cell_type": "code",
      "source": [
        "create_prompt(instruct_tune_dataset[\"train\"][1])['inputs']"
      ],
      "metadata": {
        "colab": {
          "base_uri": "https://localhost:8080/",
          "height": 88
        },
        "id": "WexY1-W4bqEU",
        "outputId": "674d7113-c986-42ce-f777-76e7467756da"
      },
      "execution_count": null,
      "outputs": [
        {
          "output_type": "execute_result",
          "data": {
            "text/plain": [
              "'<s>### Instruction:\\nBelow is an instruction that describes a task. Write a response that appropriately completes the request.\\nWhat are different types of grass?\\n\\n### Response:\\nThere are more than 12,000 species of grass. The most common is Kentucky Bluegrass, because it grows quickly, easily, and is soft to the touch. Rygrass is shiny and bright green colored. Fescues are dark green and shiny. Bermuda grass is harder but can grow in drier soil.</s>'"
            ],
            "application/vnd.google.colaboratory.intrinsic+json": {
              "type": "string"
            }
          },
          "metadata": {},
          "execution_count": 20
        }
      ]
    },
    {
      "cell_type": "markdown",
      "source": [
        "Now we will map this function to create a field in the dataset by the name 'inputs' which will contain the full prompt."
      ],
      "metadata": {
        "id": "b3zEZLxfcQUn"
      }
    },
    {
      "cell_type": "code",
      "source": [
        "dataset_with_full_prompt = instruct_tune_dataset.map(create_prompt)"
      ],
      "metadata": {
        "colab": {
          "base_uri": "https://localhost:8080/",
          "height": 81,
          "referenced_widgets": [
            "781a888f68d64c4b83adc4a18c3b4fba",
            "71a35e8737154f1d89a8772f9dd15614",
            "eb1e90a21fc14a3d827654a7bc43bb79",
            "41ad586a4d304b869d08e42b217d3421",
            "0f1316af34194ca6afe74cc9bebbe722",
            "142781b658fe45d8b5b39e39fd3d7528",
            "a5dd09b09308407684a836f91d019d98",
            "af6e50c54c944a53a6f1ea9a28597a5f",
            "381ebf798d9245f79c2cbfa9085a28f4",
            "a69fe8c24f4c43b5a00656e26f6291aa",
            "f5a0a2c462b941369e58a8b49b6ad296",
            "b084eadd718a4f55b743159b70e1cf20",
            "f5eae486f64f4c768eca2b1e5dc3133e",
            "182a33e28b184dbbaf4a0172b58571e2",
            "a907bc58b58148a3a76d09d52873237b",
            "3f9fd9a9d1d14917b0eca74464af46fe",
            "ddda77dd4a1a49dca90dea8490f7f794",
            "697ce296ad194f24a17ccfc734853d41",
            "e33e554d9af74277bdf616dfc36d8c64",
            "dca868eef62b45e88b6680ecfc5dddb3",
            "faa10e4e8f09471eba1701cb193512d8",
            "98754110bf1246339aab038e12892982"
          ]
        },
        "id": "ZBtRQo0lcPxZ",
        "outputId": "84abfcef-520f-482a-c58d-d58ab5cae273"
      },
      "execution_count": null,
      "outputs": [
        {
          "output_type": "display_data",
          "data": {
            "text/plain": [
              "Map:   0%|          | 0/56167 [00:00<?, ? examples/s]"
            ],
            "application/vnd.jupyter.widget-view+json": {
              "version_major": 2,
              "version_minor": 0,
              "model_id": "781a888f68d64c4b83adc4a18c3b4fba"
            }
          },
          "metadata": {}
        },
        {
          "output_type": "display_data",
          "data": {
            "text/plain": [
              "Map:   0%|          | 0/6807 [00:00<?, ? examples/s]"
            ],
            "application/vnd.jupyter.widget-view+json": {
              "version_major": 2,
              "version_minor": 0,
              "model_id": "b084eadd718a4f55b743159b70e1cf20"
            }
          },
          "metadata": {}
        }
      ]
    },
    {
      "cell_type": "markdown",
      "source": [
        "Lets check the fields in the dataset now"
      ],
      "metadata": {
        "id": "aI6HvfdNcsA5"
      }
    },
    {
      "cell_type": "code",
      "execution_count": null,
      "metadata": {
        "id": "HUdQdeM94TMm",
        "colab": {
          "base_uri": "https://localhost:8080/"
        },
        "outputId": "2f874b69-e5aa-4e9f-a8ae-ef5d0596cc5a"
      },
      "outputs": [
        {
          "output_type": "execute_result",
          "data": {
            "text/plain": [
              "DatasetDict({\n",
              "    train: Dataset({\n",
              "        features: ['prompt', 'response', 'source', 'inputs'],\n",
              "        num_rows: 56167\n",
              "    })\n",
              "    test: Dataset({\n",
              "        features: ['prompt', 'response', 'source', 'inputs'],\n",
              "        num_rows: 6807\n",
              "    })\n",
              "})"
            ]
          },
          "metadata": {},
          "execution_count": 22
        }
      ],
      "source": [
        "dataset_with_full_prompt"
      ]
    },
    {
      "cell_type": "markdown",
      "metadata": {
        "id": "6jhKp_ZI-fEC"
      },
      "source": [
        "**GRADIENT AI LIMIT**\n",
        "\n",
        "Right now, we can only pass ```2048``` tokens in the training context window so we will **filter** the rows where the length is ```<2000``` characters"
      ]
    },
    {
      "cell_type": "code",
      "execution_count": null,
      "metadata": {
        "colab": {
          "base_uri": "https://localhost:8080/",
          "height": 81,
          "referenced_widgets": [
            "570adfdd82f24a47b83c9c433759b606",
            "7eaf9b94a8204f1b916c0ea66f664a49",
            "48058595333b489bb82142d961a5d8a4",
            "0a729b58421441398c45c7cc30f8b14e",
            "2474190db1014a0ebb456c5ca1e4e842",
            "a7713e0953ab4120b247d5b663f3611a",
            "552368d5b16a48d98f727894fe2960f7",
            "5df3fe5cb3744ec78b458929866e6be8",
            "17055d72eb594e7b837c4e03d77b8baf",
            "dd9cd5d06db94b0ab90ec00337fe0829",
            "9739214bdc544b5880c41cc2b0ae9dbb",
            "70612c6df99a4b6398ffb5fdb6423a5e",
            "e2a4c550b22541249347a4699f57dfc0",
            "1a71adf5012f4c3883ee9bb023f43a49",
            "6b56b5675d414e19bf82234f1495f8be",
            "7ac0de05514b4446a5af41b2e3eb5531",
            "61ea45ef861b4eceacd7e6f6288add59",
            "e054571129a14173831ecfa7a47696dd",
            "07d38f94630848df98548a00250d32df",
            "6da58a2d2a5343118dbd38358a934967",
            "4a94adbd055c4f73ae8e08cc67d2a1ca",
            "f21aac031ea249f3b4e1874cdaa7de83"
          ]
        },
        "id": "JKAty0oN5ijj",
        "outputId": "ec0c8ebc-0061-4d03-bb7f-7f262de246c2"
      },
      "outputs": [
        {
          "output_type": "display_data",
          "data": {
            "text/plain": [
              "Filter:   0%|          | 0/56167 [00:00<?, ? examples/s]"
            ],
            "application/vnd.jupyter.widget-view+json": {
              "version_major": 2,
              "version_minor": 0,
              "model_id": "570adfdd82f24a47b83c9c433759b606"
            }
          },
          "metadata": {}
        },
        {
          "output_type": "display_data",
          "data": {
            "text/plain": [
              "Filter:   0%|          | 0/6807 [00:00<?, ? examples/s]"
            ],
            "application/vnd.jupyter.widget-view+json": {
              "version_major": 2,
              "version_minor": 0,
              "model_id": "70612c6df99a4b6398ffb5fdb6423a5e"
            }
          },
          "metadata": {}
        }
      ],
      "source": [
        "filtered_dataset_with_full_prompt = dataset_with_full_prompt.filter(lambda x: len(x['inputs']) < 2000)"
      ]
    },
    {
      "cell_type": "code",
      "source": [
        "filtered_dataset_with_full_prompt"
      ],
      "metadata": {
        "colab": {
          "base_uri": "https://localhost:8080/"
        },
        "id": "6uPI-9fGdvXC",
        "outputId": "6d56bb1e-eca9-4c4d-c84e-0a8b99828ec1"
      },
      "execution_count": null,
      "outputs": [
        {
          "output_type": "execute_result",
          "data": {
            "text/plain": [
              "DatasetDict({\n",
              "    train: Dataset({\n",
              "        features: ['prompt', 'response', 'source', 'inputs'],\n",
              "        num_rows: 40720\n",
              "    })\n",
              "    test: Dataset({\n",
              "        features: ['prompt', 'response', 'source', 'inputs'],\n",
              "        num_rows: 5511\n",
              "    })\n",
              "})"
            ]
          },
          "metadata": {},
          "execution_count": 28
        }
      ]
    },
    {
      "cell_type": "markdown",
      "source": [
        "So we are left with ```40720``` rows for training and ```5511``` rows for testing."
      ],
      "metadata": {
        "id": "BawLghBddxif"
      }
    },
    {
      "cell_type": "markdown",
      "source": [
        "Finally we will save our dataset as ```.jsonl``` file so that we can use it to fine-tune ```llama2-7b-chat``` model on gradient."
      ],
      "metadata": {
        "id": "esnTlDNdeF4o"
      }
    },
    {
      "cell_type": "code",
      "source": [
        "for split, dataset in filtered_dataset_with_full_prompt.items():\n",
        "  file_name = f\"llama2_gradient_instruct_tune_{split}.jsonl\"\n",
        "  dir = \"/content/drive/MyDrive/Colab Notebooks/training_data\"\n",
        "  file_path = dir + '/' + file_name\n",
        "  dataset.to_json(file_path)"
      ],
      "metadata": {
        "colab": {
          "base_uri": "https://localhost:8080/",
          "height": 81,
          "referenced_widgets": [
            "be1b25a2d5d041fdb1fbd6fcdf1785ac",
            "4f3461c2881143e6a75372f0ad129749",
            "200278a2556e418e8ce13f0f48dd0969",
            "3c389a2d80074e37af104d5f4e5637e1",
            "aeaaae04f0034490ae4f71920c4a93b3",
            "8df2ded0a5574251aea3d0bb069ffa0e",
            "a60fc8cdfae1409abddf390f3bda8f5f",
            "5cb494aeb7834f12ab9a2503d372ab55",
            "f7582ee9cd0646eebe5134c5b557b909",
            "10ca8b0809ef4db0980b3292a44808af",
            "c98ffc9b29d441abaacee88c3067758f",
            "351daaae4aad493f8424898917940dee",
            "869fac765e284cd2b546b40c7200c46a",
            "8859cc8771d340888d47f667518741e7",
            "553ccaf73eec4495b64c771ebb960659",
            "47a1013aa21e45f1a8bbb1a43baba6c5",
            "2c2681e77e7541008d9fe9cdd7b737af",
            "e2ca4b8834e6454d960afe959640d203",
            "9182576eed5a47ca979b14ce78ad4c1e",
            "39a91265600e4bb492a70cc225261794",
            "788d8a9cfe8c497c9f609e6f64191271",
            "70171068cf3340c6aa20cf19a7370127"
          ]
        },
        "id": "VqP7w0gxeSER",
        "outputId": "5a7d010d-57f1-4b3d-ad37-695632931a87"
      },
      "execution_count": null,
      "outputs": [
        {
          "output_type": "display_data",
          "data": {
            "text/plain": [
              "Creating json from Arrow format:   0%|          | 0/41 [00:00<?, ?ba/s]"
            ],
            "application/vnd.jupyter.widget-view+json": {
              "version_major": 2,
              "version_minor": 0,
              "model_id": "be1b25a2d5d041fdb1fbd6fcdf1785ac"
            }
          },
          "metadata": {}
        },
        {
          "output_type": "display_data",
          "data": {
            "text/plain": [
              "Creating json from Arrow format:   0%|          | 0/6 [00:00<?, ?ba/s]"
            ],
            "application/vnd.jupyter.widget-view+json": {
              "version_major": 2,
              "version_minor": 0,
              "model_id": "351daaae4aad493f8424898917940dee"
            }
          },
          "metadata": {}
        }
      ]
    },
    {
      "cell_type": "markdown",
      "metadata": {
        "id": "MegKjGr6-iUY"
      },
      "source": [
        "AND NOW WE WILL FINE-TUNE THE MODEL ON THE DATASET WE JUST CREATED."
      ]
    },
    {
      "cell_type": "markdown",
      "source": [
        "#### Initializing Our Fine-tune Engine\n",
        "\n",
        "Once again, LlamaIndex has built a convenient wrapper we can use to set up our fine-tuning job on Gradient with!\n",
        "\n",
        "Check out the docs [here](https://gpt-index.readthedocs.io/en/v0.8.58/api_reference/finetuning.html#llama_index.finetuning.GradientFinetuneEngine), though they're still being worked on.\n",
        "\n",
        "Let's take a peek at some of the parameters and see what they do for us:\n",
        "\n",
        "- `base_model_slug` - this is a reference to the model `Slug ID`, you can find those IDs [here](https://docs.gradient.ai/docs/models-1#%EF%B8%8F-gradient-hosted-llms) in the \"Model IDs for reference in the API and CLI\" table.\n",
        "- `name` - this is the name given to your fine-tuned model\n",
        "- `data_path` - this will point to the formatted `jsonl` file and be used by the `GradientFinetuneEngine` to pull training examples from.\n",
        "- `verbose` - lets us know what's going on!\n",
        "- `max_steps` - the number of steps the model will be fine-tuned on\n",
        "- `batch_size` - the number of examples used to train at a time\n",
        "\n",
        "The basic idea is that we will repeatedly fine-tune the model - bit by bit - as we work through our `max_steps`.\n",
        "\n",
        "[Tips and tricks](https://docs.gradient.ai/docs/tips-and-tricks) provided by the Gradient team to dive deeper into what exactly we can do with our fine-tuning!"
      ],
      "metadata": {
        "id": "SdUrGC0Bw0Un"
      }
    },
    {
      "cell_type": "code",
      "execution_count": null,
      "metadata": {
        "id": "GamPjscQ5rCH"
      },
      "outputs": [],
      "source": [
        "from llama_index.finetuning import GradientFinetuneEngine\n",
        "\n",
        "finetune_engine = GradientFinetuneEngine(\n",
        "    base_model_slug=model_version,\n",
        "    name=\"001_instruct_tuned_llama2-7b-chat\",\n",
        "    workspace_id=gradientai_workspace_id,\n",
        "    access_token=gradientai_api_key,\n",
        "    data_path=\"/content/drive/MyDrive/Colab Notebooks/training_data/llama2_gradient_instruct_tune_train.jsonl\",\n",
        "    verbose=True,\n",
        "    max_steps=100,\n",
        "    batch_size=4\n",
        ")"
      ]
    },
    {
      "cell_type": "markdown",
      "source": [
        "A model finetune-instance is created on GradientAI"
      ],
      "metadata": {
        "id": "7bHLjPPau3pq"
      }
    },
    {
      "cell_type": "code",
      "source": [
        "finetune_engine.model_adapter_id"
      ],
      "metadata": {
        "colab": {
          "base_uri": "https://localhost:8080/",
          "height": 36
        },
        "id": "JMTTu-2EuxLA",
        "outputId": "1f8ed8c8-1be0-4d40-d76c-1e98bd4daa47"
      },
      "execution_count": null,
      "outputs": [
        {
          "output_type": "execute_result",
          "data": {
            "text/plain": [
              "'379c37a4-1efd-479e-8759-c11b5669d1e5_model_adapter'"
            ],
            "application/vnd.google.colaboratory.intrinsic+json": {
              "type": "string"
            }
          },
          "metadata": {},
          "execution_count": 40
        }
      ]
    },
    {
      "cell_type": "markdown",
      "source": [
        "Now, with how many examples the model will be fine tuned with ?\n",
        "\n",
        "`max_steps = No. of steps it will take during fine_tuning`\n",
        "\n",
        "`batch_size = step_count for each batch`\n",
        "\n",
        "So `no. of examples = max_steps * batch_size`\n"
      ],
      "metadata": {
        "id": "ga1Vw4c4w-2D"
      }
    },
    {
      "cell_type": "markdown",
      "source": [
        "LETS FINE TUNE THE MODEL NOW !"
      ],
      "metadata": {
        "id": "H2X0jAntjcXx"
      }
    },
    {
      "cell_type": "code",
      "execution_count": null,
      "metadata": {
        "id": "obY6qv3oBES8",
        "colab": {
          "base_uri": "https://localhost:8080/"
        },
        "outputId": "37f0c5ff-0ecd-4006-b115-24ca22a47eea"
      },
      "outputs": [
        {
          "output_type": "stream",
          "name": "stdout",
          "text": [
            "** EPOCH 0 **\n",
            "fine-tuning step 4: loss=1938.7327, trainable tokens=971\n",
            "fine-tuning step 8: loss=1060.0698, trainable tokens=648\n",
            "fine-tuning step 12: loss=928.3685, trainable tokens=646\n",
            "fine-tuning step 16: loss=1279.7959, trainable tokens=908\n",
            "fine-tuning step 20: loss=1443.1968, trainable tokens=913\n",
            "fine-tuning step 24: loss=506.96466, trainable tokens=422\n",
            "fine-tuning step 28: loss=1674.6455, trainable tokens=1319\n",
            "fine-tuning step 32: loss=1035.3503, trainable tokens=1093\n",
            "fine-tuning step 36: loss=1479.4888, trainable tokens=893\n",
            "fine-tuning step 40: loss=728.66864, trainable tokens=605\n",
            "fine-tuning step 44: loss=1647.6786, trainable tokens=1329\n",
            "fine-tuning step 48: loss=969.2325, trainable tokens=618\n",
            "fine-tuning step 52: loss=809.5193, trainable tokens=604\n",
            "fine-tuning step 56: loss=1506.1151, trainable tokens=931\n",
            "fine-tuning step 60: loss=1040.8364, trainable tokens=874\n",
            "fine-tuning step 64: loss=819.0687, trainable tokens=571\n",
            "fine-tuning step 68: loss=1202.6869, trainable tokens=960\n",
            "fine-tuning step 72: loss=1072.3475, trainable tokens=862\n",
            "fine-tuning step 76: loss=917.5768, trainable tokens=645\n",
            "fine-tuning step 80: loss=916.9348, trainable tokens=745\n",
            "fine-tuning step 84: loss=776.7178, trainable tokens=560\n",
            "fine-tuning step 88: loss=1562.5186, trainable tokens=1179\n",
            "fine-tuning step 92: loss=1115.7319, trainable tokens=750\n",
            "fine-tuning step 96: loss=924.1502, trainable tokens=651\n",
            "fine-tuning step 100: loss=848.3796, trainable tokens=731\n"
          ]
        }
      ],
      "source": [
        "epochs = 1\n",
        "for i in range(epochs):\n",
        "    print(f\"** EPOCH {i} **\")\n",
        "    finetune_engine.finetune()"
      ]
    },
    {
      "cell_type": "markdown",
      "source": [
        "Lets create an instance of embeddings model hosted on GradientAI.\n",
        "\n",
        "For now, gradient only has one embedding model `bge-large` so we will use that."
      ],
      "metadata": {
        "id": "Yuo8r58KxLAh"
      }
    },
    {
      "cell_type": "code",
      "execution_count": null,
      "metadata": {
        "id": "jOrbQZjyB6zQ"
      },
      "outputs": [],
      "source": [
        "from langchain.embeddings import GradientEmbeddings\n",
        "\n",
        "gradient_embed_model_version = 'bge-large'\n",
        "\n",
        "gradient_hosted_embed_model = GradientEmbeddings(\n",
        "    model=gradient_embed_model_version,\n",
        "    gradient_workspace_id=gradientai_workspace_id,\n",
        "    gradient_access_token=gradientai_api_key\n",
        ")"
      ]
    },
    {
      "cell_type": "markdown",
      "source": [
        "Lets try to embed a toy query. `bge-large` creates embeddings on dimension `1024`"
      ],
      "metadata": {
        "id": "Yr0yncqEj_a2"
      }
    },
    {
      "cell_type": "code",
      "source": [
        "len(gradient_hosted_embed_model.embed_query(\"What is the LangChain Expression Language ?\"))"
      ],
      "metadata": {
        "id": "Q7oyVYuIl7U_",
        "colab": {
          "base_uri": "https://localhost:8080/"
        },
        "outputId": "10ba4610-4b90-43d7-c52e-ad8ef5468211"
      },
      "execution_count": null,
      "outputs": [
        {
          "output_type": "execute_result",
          "data": {
            "text/plain": [
              "1024"
            ]
          },
          "metadata": {},
          "execution_count": 4
        }
      ]
    },
    {
      "cell_type": "markdown",
      "source": [
        "## FINALLY\n",
        "\n",
        "We will create a RAG using GradientAI hosted `llama2-7b-chat` which we fine-tuned earlier and `bge-large` embedding model."
      ],
      "metadata": {
        "id": "4MKwMJKH-5Pt"
      }
    },
    {
      "cell_type": "markdown",
      "source": [
        "Lets get the model_id to point to the fine-tuned version of llama2-7b-chat"
      ],
      "metadata": {
        "id": "x5bWDdaB_W6z"
      }
    },
    {
      "cell_type": "code",
      "source": [
        "from gradientai import Gradient\n",
        "\n",
        "client = Gradient(\n",
        "    workspace_id=gradientai_workspace_id, access_token=gradientai_api_key\n",
        ")"
      ],
      "metadata": {
        "id": "V0Afvlg1mGBl"
      },
      "execution_count": null,
      "outputs": []
    },
    {
      "cell_type": "code",
      "source": [
        "gradient_workspace_models = client.list_models(only_base=False)\n",
        "\n",
        "for model in gradient_workspace_models:\n",
        "    if 'adapter' in model.id:\n",
        "        print(model.id, model.name)"
      ],
      "metadata": {
        "id": "uoZkeNoEmM1a",
        "colab": {
          "base_uri": "https://localhost:8080/"
        },
        "outputId": "d2970d2a-bf32-4076-a322-56eab45a326a"
      },
      "execution_count": null,
      "outputs": [
        {
          "output_type": "stream",
          "name": "stdout",
          "text": [
            "cbd0bdf8-e37c-4570-97f9-43a9727c0237_model_adapter llama2-7b-chat-finetune\n",
            "379c37a4-1efd-479e-8759-c11b5669d1e5_model_adapter 001_instruct_tuned_llama2-7b-chat\n"
          ]
        }
      ]
    },
    {
      "cell_type": "markdown",
      "source": [
        "We will take the last one as that is the newest fine-tuned model. This\n",
        "can be verified by confirming the name we gave earlier while fine-tuning and on the UI as well."
      ],
      "metadata": {
        "id": "S6bp5--sA2IW"
      }
    },
    {
      "cell_type": "markdown",
      "source": [
        "Lets load our fine-tuned model using the model_id.\n",
        "\n",
        "It is also possible to provide some extra parameters to affect the inference.\n",
        "\n",
        "`top_p`, `top_k` and [others here](https://api.python.langchain.com/en/latest/llms/langchain_community.llms.gradient_ai.GradientLLM.html#langchain_community.llms.gradient_ai.GradientLLM)"
      ],
      "metadata": {
        "id": "4Y4bdUkUBdog"
      }
    },
    {
      "cell_type": "code",
      "source": [
        "from langchain.llms import GradientLLM\n",
        "\n",
        "gradient_model = GradientLLM(\n",
        "    gradient_workspace_id=gradientai_workspace_id,\n",
        "    gradient_access_token=gradientai_api_key,\n",
        "    model=gradient_workspace_models[-1].id,\n",
        "    model_kwargs=dict(max_generated_token_count=128)\n",
        ")"
      ],
      "metadata": {
        "id": "EbQVVMkQBdA6"
      },
      "execution_count": null,
      "outputs": []
    },
    {
      "cell_type": "markdown",
      "source": [
        "We'll FOLLOW THE 3 STEPS IN A RAG SYSTEM :\n",
        "\n",
        "\n",
        "1.   Retrieve the context\n",
        "2.   Augment it in the prompt\n",
        "3.   Generate the response for the question using context\n",
        "\n"
      ],
      "metadata": {
        "id": "KPXL1gHOCwSx"
      }
    },
    {
      "cell_type": "markdown",
      "source": [
        "1. Retrieve the context"
      ],
      "metadata": {
        "id": "sSoR3_8YDHmK"
      }
    },
    {
      "cell_type": "markdown",
      "source": [
        "We will load a [book available on web](https://www.gutenberg.org/ebooks/34114) in text format at Project Gutenberg.\n",
        "\n",
        "Title: Soap-Making Manual\n",
        "\n",
        "Author: Edgar George Thomssen"
      ],
      "metadata": {
        "id": "1k2Toaz5Jqws"
      }
    },
    {
      "cell_type": "code",
      "source": [
        "from langchain.document_loaders import TextLoader, WebBaseLoader\n",
        "\n",
        "docs = WebBaseLoader(\n",
        "    web_path='https://www.gutenberg.org/cache/epub/34114/pg34114.txt'\n",
        ").load()"
      ],
      "metadata": {
        "id": "eY-3ksjdDKo7"
      },
      "execution_count": null,
      "outputs": []
    },
    {
      "cell_type": "markdown",
      "source": [
        "Since we used a WebBaseLoader, we will get the whole ebook in one doc"
      ],
      "metadata": {
        "id": "QdbAfP3AKNbp"
      }
    },
    {
      "cell_type": "code",
      "source": [
        "len(docs[0].page_content)"
      ],
      "metadata": {
        "colab": {
          "base_uri": "https://localhost:8080/"
        },
        "id": "xkL5mhg8I0gO",
        "outputId": "0ba45fcf-8a40-4e7f-cdeb-12166e36b318"
      },
      "execution_count": null,
      "outputs": [
        {
          "output_type": "execute_result",
          "data": {
            "text/plain": [
              "442638"
            ]
          },
          "metadata": {},
          "execution_count": 27
        }
      ]
    },
    {
      "cell_type": "markdown",
      "source": [
        "Lets split the text in manageable chunks."
      ],
      "metadata": {
        "id": "zGpWV1DYKUFA"
      }
    },
    {
      "cell_type": "code",
      "source": [
        "from langchain.text_splitter import RecursiveCharacterTextSplitter\n",
        "\n",
        "splitter = RecursiveCharacterTextSplitter(\n",
        "    chunk_size = 300,\n",
        "    chunk_overlap = 50,\n",
        "    length_function = len\n",
        ")"
      ],
      "metadata": {
        "id": "HRQKwG-hKTow"
      },
      "execution_count": null,
      "outputs": []
    },
    {
      "cell_type": "code",
      "source": [
        "chunked_docs = splitter.split_documents(docs)"
      ],
      "metadata": {
        "id": "60eweoFqK69B"
      },
      "execution_count": null,
      "outputs": []
    },
    {
      "cell_type": "markdown",
      "source": [
        "Lets create embeddings and save it in FAISS vector store"
      ],
      "metadata": {
        "id": "XcS0qeM3LFac"
      }
    },
    {
      "cell_type": "code",
      "source": [
        "from langchain.vectorstores import FAISS\n",
        "\n",
        "vector_store = FAISS.from_documents(chunked_docs, gradient_hosted_embed_model)"
      ],
      "metadata": {
        "colab": {
          "base_uri": "https://localhost:8080/"
        },
        "id": "M2QG5RSnLDAP",
        "outputId": "1edc5445-7ea3-40f4-b448-ba2e3c9f86ef"
      },
      "execution_count": null,
      "outputs": [
        {
          "output_type": "stream",
          "name": "stderr",
          "text": [
            "WARNING:urllib3.connectionpool:Retrying (Retry(total=2, connect=None, read=None, redirect=None, status=None)) after connection broken by 'SSLEOFError(8, 'EOF occurred in violation of protocol (_ssl.c:2426)')': /api/embeddings/bge-large\n"
          ]
        }
      ]
    },
    {
      "cell_type": "markdown",
      "source": [
        "Make the vector_store available as retriever so that we can later get similar content from it"
      ],
      "metadata": {
        "id": "I3c5tSRfL049"
      }
    },
    {
      "cell_type": "code",
      "source": [
        "retriever = vector_store.as_retriever(k=3)"
      ],
      "metadata": {
        "id": "CKOin-JFLARL"
      },
      "execution_count": null,
      "outputs": []
    },
    {
      "cell_type": "markdown",
      "source": [
        "Lets test the retriever before we proceed with creating the RAG chain"
      ],
      "metadata": {
        "id": "w8rHODAPP3fW"
      }
    },
    {
      "cell_type": "code",
      "source": [
        "similar_docs = retriever.invoke(\"Provide the step by step procedure to make a soap.\")"
      ],
      "metadata": {
        "id": "1eAV3e46PVun"
      },
      "execution_count": null,
      "outputs": []
    },
    {
      "cell_type": "code",
      "source": [
        "similar_docs[0]"
      ],
      "metadata": {
        "colab": {
          "base_uri": "https://localhost:8080/"
        },
        "id": "OXUN3874PblW",
        "outputId": "5addd680-0a41-43a2-d0a4-178873670226"
      },
      "execution_count": null,
      "outputs": [
        {
          "output_type": "execute_result",
          "data": {
            "text/plain": [
              "Document(page_content='are usually made by the semi-boiled or cold process. By this process a\\r\\nmore satisfactory soap is obtained and it is more simple to carry out. A\\r\\ndetailed description of this method is best and most easily given by\\r\\nusing a typical formula.\\r\\n\\r\\n    Charge:', metadata={'source': 'https://www.gutenberg.org/cache/epub/34114/pg34114.txt'})"
            ]
          },
          "metadata": {},
          "execution_count": 55
        }
      ]
    },
    {
      "cell_type": "code",
      "source": [
        "from langchain.prompts import PromptTemplate\n",
        "\n",
        "template = \"\"\"\"\\\n",
        "### Instruction:\n",
        "Below is an instruction that describes a task. Write a response that appropriately completes the request.\n",
        "\n",
        "Based on the provided context, please answer the provided question. You can only use the provided context to answer the question.\n",
        "If you do not know the answer - please respond with \"I don't know\".\n",
        "\n",
        "Context:\n",
        "{context}\n",
        "\n",
        "Question:\n",
        "{question}\n",
        "\n",
        "### Response:\n",
        "\"\"\"\n",
        "\n",
        "rag_prompt = PromptTemplate(template=template, input_variables=[\"context\", \"question\"])"
      ],
      "metadata": {
        "id": "WD30iJMUqGby"
      },
      "execution_count": null,
      "outputs": []
    },
    {
      "cell_type": "markdown",
      "source": [
        "Lets make the RAG chain using Langchain Expression Language"
      ],
      "metadata": {
        "id": "ajenhG_PMdRN"
      }
    },
    {
      "cell_type": "code",
      "source": [
        "from langchain.schema.output_parser import StrOutputParser\n",
        "from langchain.schema.runnable import RunnablePassthrough\n",
        "\n",
        "rag_chain = (\n",
        "    {\n",
        "        \"context\" : retriever, \"question\" : RunnablePassthrough()\n",
        "    }\n",
        "    | rag_prompt\n",
        "    | gradient_model\n",
        "    | StrOutputParser()\n",
        ")"
      ],
      "metadata": {
        "id": "_anPFW7BmRwA"
      },
      "execution_count": null,
      "outputs": []
    },
    {
      "cell_type": "markdown",
      "source": [
        "LETS TEST IT OUT"
      ],
      "metadata": {
        "id": "ma4l8Z4tMz0T"
      }
    },
    {
      "cell_type": "code",
      "source": [
        "rag_output = rag_chain.invoke(\"Provide the step by step procedure to make a soap.\")"
      ],
      "metadata": {
        "id": "F93Br8vfSON_"
      },
      "execution_count": null,
      "outputs": []
    },
    {
      "cell_type": "code",
      "source": [
        "print(rag_output)"
      ],
      "metadata": {
        "colab": {
          "base_uri": "https://localhost:8080/"
        },
        "id": "rkdruNCmNco0",
        "outputId": "f8ef85d2-c8e9-479c-8a4d-b41f4d4f1c63"
      },
      "execution_count": null,
      "outputs": [
        {
          "output_type": "stream",
          "name": "stdout",
          "text": [
            " Sure, here is a step-by-step procedure for making soap:\n",
            "\n",
            "Step 1: Obtain the raw materials\n",
            "\n",
            "* 100 parts house grease\n",
            "* 100 parts ordinary grease\n",
            "* 170 parts sal soda solution\n",
            "* 100 parts water\n",
            "\n",
            "Step 2: Mix the ingredients\n",
            "\n",
            "* Mix the house grease and ordinary grease together in a large mixing bowl.\n",
            "* Add the sal soda solution and water to the mixture and stir until well combined.\n",
            "\n",
            "Step 3: Saponify the mixture\n"
          ]
        }
      ]
    },
    {
      "cell_type": "markdown",
      "source": [
        "COOL !"
      ],
      "metadata": {
        "id": "06_JLE77Skum"
      }
    },
    {
      "cell_type": "markdown",
      "source": [
        "Lets try with a query totally unrelated with the data that we have."
      ],
      "metadata": {
        "id": "WJGDd29FNu-L"
      }
    },
    {
      "cell_type": "code",
      "source": [
        "unrelated_query_op = rag_chain.invoke(\"What is the airspeed velocity of an unladen swallow?\")"
      ],
      "metadata": {
        "id": "zoD7SzQuUBM8"
      },
      "execution_count": null,
      "outputs": []
    },
    {
      "cell_type": "code",
      "source": [
        "print(unrelated_query_op)"
      ],
      "metadata": {
        "colab": {
          "base_uri": "https://localhost:8080/"
        },
        "id": "jAP84HyeNzwS",
        "outputId": "525045b4-540f-40e3-b47d-1b9b567467fd"
      },
      "execution_count": null,
      "outputs": [
        {
          "output_type": "stream",
          "name": "stdout",
          "text": [
            " I don't know the answer to your question. The text you provided does not contain any information about airspeed velocity or unladen swallows.\n"
          ]
        }
      ]
    },
    {
      "cell_type": "markdown",
      "source": [
        "PERFECT !"
      ],
      "metadata": {
        "id": "T7Z9NBuySuaW"
      }
    }
  ],
  "metadata": {
    "colab": {
      "provenance": []
    },
    "kernelspec": {
      "display_name": "Python 3",
      "name": "python3"
    },
    "language_info": {
      "name": "python"
    },
    "widgets": {
      "application/vnd.jupyter.widget-state+json": {
        "f1c2618cd4b049e28e3b4ba19cb18148": {
          "model_module": "@jupyter-widgets/controls",
          "model_name": "HBoxModel",
          "model_module_version": "1.5.0",
          "state": {
            "_dom_classes": [],
            "_model_module": "@jupyter-widgets/controls",
            "_model_module_version": "1.5.0",
            "_model_name": "HBoxModel",
            "_view_count": null,
            "_view_module": "@jupyter-widgets/controls",
            "_view_module_version": "1.5.0",
            "_view_name": "HBoxView",
            "box_style": "",
            "children": [
              "IPY_MODEL_6e464452de2a4e95a3f723836882e052",
              "IPY_MODEL_c42ed76ace6a43e29b4d5b24bdceb018",
              "IPY_MODEL_97b6e551f87e4ac4b8246831ddc8a148"
            ],
            "layout": "IPY_MODEL_c07a626545a54bb6a5a6affccf2a69db"
          }
        },
        "6e464452de2a4e95a3f723836882e052": {
          "model_module": "@jupyter-widgets/controls",
          "model_name": "HTMLModel",
          "model_module_version": "1.5.0",
          "state": {
            "_dom_classes": [],
            "_model_module": "@jupyter-widgets/controls",
            "_model_module_version": "1.5.0",
            "_model_name": "HTMLModel",
            "_view_count": null,
            "_view_module": "@jupyter-widgets/controls",
            "_view_module_version": "1.5.0",
            "_view_name": "HTMLView",
            "description": "",
            "description_tooltip": null,
            "layout": "IPY_MODEL_766595c7ce0c46cba1e5805e3b4f90e8",
            "placeholder": "​",
            "style": "IPY_MODEL_9eda8d59df7842279a5be8f8d54cabb1",
            "value": "Downloading readme: 100%"
          }
        },
        "c42ed76ace6a43e29b4d5b24bdceb018": {
          "model_module": "@jupyter-widgets/controls",
          "model_name": "FloatProgressModel",
          "model_module_version": "1.5.0",
          "state": {
            "_dom_classes": [],
            "_model_module": "@jupyter-widgets/controls",
            "_model_module_version": "1.5.0",
            "_model_name": "FloatProgressModel",
            "_view_count": null,
            "_view_module": "@jupyter-widgets/controls",
            "_view_module_version": "1.5.0",
            "_view_name": "ProgressView",
            "bar_style": "success",
            "description": "",
            "description_tooltip": null,
            "layout": "IPY_MODEL_073b033968fd4013b4ff623ded5a7e18",
            "max": 3052,
            "min": 0,
            "orientation": "horizontal",
            "style": "IPY_MODEL_4ea51675fa654935bd0f25ca511b509d",
            "value": 3052
          }
        },
        "97b6e551f87e4ac4b8246831ddc8a148": {
          "model_module": "@jupyter-widgets/controls",
          "model_name": "HTMLModel",
          "model_module_version": "1.5.0",
          "state": {
            "_dom_classes": [],
            "_model_module": "@jupyter-widgets/controls",
            "_model_module_version": "1.5.0",
            "_model_name": "HTMLModel",
            "_view_count": null,
            "_view_module": "@jupyter-widgets/controls",
            "_view_module_version": "1.5.0",
            "_view_name": "HTMLView",
            "description": "",
            "description_tooltip": null,
            "layout": "IPY_MODEL_581381bd2e9c41d8ba2eddffbe5a9c7f",
            "placeholder": "​",
            "style": "IPY_MODEL_2cfb64ae78954eef9a55cff95f2b3d5e",
            "value": " 3.05k/3.05k [00:00&lt;00:00, 193kB/s]"
          }
        },
        "c07a626545a54bb6a5a6affccf2a69db": {
          "model_module": "@jupyter-widgets/base",
          "model_name": "LayoutModel",
          "model_module_version": "1.2.0",
          "state": {
            "_model_module": "@jupyter-widgets/base",
            "_model_module_version": "1.2.0",
            "_model_name": "LayoutModel",
            "_view_count": null,
            "_view_module": "@jupyter-widgets/base",
            "_view_module_version": "1.2.0",
            "_view_name": "LayoutView",
            "align_content": null,
            "align_items": null,
            "align_self": null,
            "border": null,
            "bottom": null,
            "display": null,
            "flex": null,
            "flex_flow": null,
            "grid_area": null,
            "grid_auto_columns": null,
            "grid_auto_flow": null,
            "grid_auto_rows": null,
            "grid_column": null,
            "grid_gap": null,
            "grid_row": null,
            "grid_template_areas": null,
            "grid_template_columns": null,
            "grid_template_rows": null,
            "height": null,
            "justify_content": null,
            "justify_items": null,
            "left": null,
            "margin": null,
            "max_height": null,
            "max_width": null,
            "min_height": null,
            "min_width": null,
            "object_fit": null,
            "object_position": null,
            "order": null,
            "overflow": null,
            "overflow_x": null,
            "overflow_y": null,
            "padding": null,
            "right": null,
            "top": null,
            "visibility": null,
            "width": null
          }
        },
        "766595c7ce0c46cba1e5805e3b4f90e8": {
          "model_module": "@jupyter-widgets/base",
          "model_name": "LayoutModel",
          "model_module_version": "1.2.0",
          "state": {
            "_model_module": "@jupyter-widgets/base",
            "_model_module_version": "1.2.0",
            "_model_name": "LayoutModel",
            "_view_count": null,
            "_view_module": "@jupyter-widgets/base",
            "_view_module_version": "1.2.0",
            "_view_name": "LayoutView",
            "align_content": null,
            "align_items": null,
            "align_self": null,
            "border": null,
            "bottom": null,
            "display": null,
            "flex": null,
            "flex_flow": null,
            "grid_area": null,
            "grid_auto_columns": null,
            "grid_auto_flow": null,
            "grid_auto_rows": null,
            "grid_column": null,
            "grid_gap": null,
            "grid_row": null,
            "grid_template_areas": null,
            "grid_template_columns": null,
            "grid_template_rows": null,
            "height": null,
            "justify_content": null,
            "justify_items": null,
            "left": null,
            "margin": null,
            "max_height": null,
            "max_width": null,
            "min_height": null,
            "min_width": null,
            "object_fit": null,
            "object_position": null,
            "order": null,
            "overflow": null,
            "overflow_x": null,
            "overflow_y": null,
            "padding": null,
            "right": null,
            "top": null,
            "visibility": null,
            "width": null
          }
        },
        "9eda8d59df7842279a5be8f8d54cabb1": {
          "model_module": "@jupyter-widgets/controls",
          "model_name": "DescriptionStyleModel",
          "model_module_version": "1.5.0",
          "state": {
            "_model_module": "@jupyter-widgets/controls",
            "_model_module_version": "1.5.0",
            "_model_name": "DescriptionStyleModel",
            "_view_count": null,
            "_view_module": "@jupyter-widgets/base",
            "_view_module_version": "1.2.0",
            "_view_name": "StyleView",
            "description_width": ""
          }
        },
        "073b033968fd4013b4ff623ded5a7e18": {
          "model_module": "@jupyter-widgets/base",
          "model_name": "LayoutModel",
          "model_module_version": "1.2.0",
          "state": {
            "_model_module": "@jupyter-widgets/base",
            "_model_module_version": "1.2.0",
            "_model_name": "LayoutModel",
            "_view_count": null,
            "_view_module": "@jupyter-widgets/base",
            "_view_module_version": "1.2.0",
            "_view_name": "LayoutView",
            "align_content": null,
            "align_items": null,
            "align_self": null,
            "border": null,
            "bottom": null,
            "display": null,
            "flex": null,
            "flex_flow": null,
            "grid_area": null,
            "grid_auto_columns": null,
            "grid_auto_flow": null,
            "grid_auto_rows": null,
            "grid_column": null,
            "grid_gap": null,
            "grid_row": null,
            "grid_template_areas": null,
            "grid_template_columns": null,
            "grid_template_rows": null,
            "height": null,
            "justify_content": null,
            "justify_items": null,
            "left": null,
            "margin": null,
            "max_height": null,
            "max_width": null,
            "min_height": null,
            "min_width": null,
            "object_fit": null,
            "object_position": null,
            "order": null,
            "overflow": null,
            "overflow_x": null,
            "overflow_y": null,
            "padding": null,
            "right": null,
            "top": null,
            "visibility": null,
            "width": null
          }
        },
        "4ea51675fa654935bd0f25ca511b509d": {
          "model_module": "@jupyter-widgets/controls",
          "model_name": "ProgressStyleModel",
          "model_module_version": "1.5.0",
          "state": {
            "_model_module": "@jupyter-widgets/controls",
            "_model_module_version": "1.5.0",
            "_model_name": "ProgressStyleModel",
            "_view_count": null,
            "_view_module": "@jupyter-widgets/base",
            "_view_module_version": "1.2.0",
            "_view_name": "StyleView",
            "bar_color": null,
            "description_width": ""
          }
        },
        "581381bd2e9c41d8ba2eddffbe5a9c7f": {
          "model_module": "@jupyter-widgets/base",
          "model_name": "LayoutModel",
          "model_module_version": "1.2.0",
          "state": {
            "_model_module": "@jupyter-widgets/base",
            "_model_module_version": "1.2.0",
            "_model_name": "LayoutModel",
            "_view_count": null,
            "_view_module": "@jupyter-widgets/base",
            "_view_module_version": "1.2.0",
            "_view_name": "LayoutView",
            "align_content": null,
            "align_items": null,
            "align_self": null,
            "border": null,
            "bottom": null,
            "display": null,
            "flex": null,
            "flex_flow": null,
            "grid_area": null,
            "grid_auto_columns": null,
            "grid_auto_flow": null,
            "grid_auto_rows": null,
            "grid_column": null,
            "grid_gap": null,
            "grid_row": null,
            "grid_template_areas": null,
            "grid_template_columns": null,
            "grid_template_rows": null,
            "height": null,
            "justify_content": null,
            "justify_items": null,
            "left": null,
            "margin": null,
            "max_height": null,
            "max_width": null,
            "min_height": null,
            "min_width": null,
            "object_fit": null,
            "object_position": null,
            "order": null,
            "overflow": null,
            "overflow_x": null,
            "overflow_y": null,
            "padding": null,
            "right": null,
            "top": null,
            "visibility": null,
            "width": null
          }
        },
        "2cfb64ae78954eef9a55cff95f2b3d5e": {
          "model_module": "@jupyter-widgets/controls",
          "model_name": "DescriptionStyleModel",
          "model_module_version": "1.5.0",
          "state": {
            "_model_module": "@jupyter-widgets/controls",
            "_model_module_version": "1.5.0",
            "_model_name": "DescriptionStyleModel",
            "_view_count": null,
            "_view_module": "@jupyter-widgets/base",
            "_view_module_version": "1.2.0",
            "_view_name": "StyleView",
            "description_width": ""
          }
        },
        "e9a5a741a6524ef7b31786d493854c51": {
          "model_module": "@jupyter-widgets/controls",
          "model_name": "HBoxModel",
          "model_module_version": "1.5.0",
          "state": {
            "_dom_classes": [],
            "_model_module": "@jupyter-widgets/controls",
            "_model_module_version": "1.5.0",
            "_model_name": "HBoxModel",
            "_view_count": null,
            "_view_module": "@jupyter-widgets/controls",
            "_view_module_version": "1.5.0",
            "_view_name": "HBoxView",
            "box_style": "",
            "children": [
              "IPY_MODEL_8025f748698f44e795daf48cf9cc5ce2",
              "IPY_MODEL_c09438c70d114b5caaa0ba66e55b44f1",
              "IPY_MODEL_b85c61177e6b4ed7979f4259792be0bd"
            ],
            "layout": "IPY_MODEL_458f176b8552430a939ac0f1f8048a92"
          }
        },
        "8025f748698f44e795daf48cf9cc5ce2": {
          "model_module": "@jupyter-widgets/controls",
          "model_name": "HTMLModel",
          "model_module_version": "1.5.0",
          "state": {
            "_dom_classes": [],
            "_model_module": "@jupyter-widgets/controls",
            "_model_module_version": "1.5.0",
            "_model_name": "HTMLModel",
            "_view_count": null,
            "_view_module": "@jupyter-widgets/controls",
            "_view_module_version": "1.5.0",
            "_view_name": "HTMLView",
            "description": "",
            "description_tooltip": null,
            "layout": "IPY_MODEL_5420b64319404ed1ba7cbbabc8dfd23c",
            "placeholder": "​",
            "style": "IPY_MODEL_37a810c9b35a45178ff373fdad0ced22",
            "value": "Downloading data: 100%"
          }
        },
        "c09438c70d114b5caaa0ba66e55b44f1": {
          "model_module": "@jupyter-widgets/controls",
          "model_name": "FloatProgressModel",
          "model_module_version": "1.5.0",
          "state": {
            "_dom_classes": [],
            "_model_module": "@jupyter-widgets/controls",
            "_model_module_version": "1.5.0",
            "_model_name": "FloatProgressModel",
            "_view_count": null,
            "_view_module": "@jupyter-widgets/controls",
            "_view_module_version": "1.5.0",
            "_view_name": "ProgressView",
            "bar_style": "success",
            "description": "",
            "description_tooltip": null,
            "layout": "IPY_MODEL_257aa89de9a745eba680a8b693d05819",
            "max": 127179511,
            "min": 0,
            "orientation": "horizontal",
            "style": "IPY_MODEL_aa566ade2200412fba5d7ff7d9f23ae2",
            "value": 127179511
          }
        },
        "b85c61177e6b4ed7979f4259792be0bd": {
          "model_module": "@jupyter-widgets/controls",
          "model_name": "HTMLModel",
          "model_module_version": "1.5.0",
          "state": {
            "_dom_classes": [],
            "_model_module": "@jupyter-widgets/controls",
            "_model_module_version": "1.5.0",
            "_model_name": "HTMLModel",
            "_view_count": null,
            "_view_module": "@jupyter-widgets/controls",
            "_view_module_version": "1.5.0",
            "_view_name": "HTMLView",
            "description": "",
            "description_tooltip": null,
            "layout": "IPY_MODEL_1ad648c12d274b1599a1a91e1158b018",
            "placeholder": "​",
            "style": "IPY_MODEL_46524e2b87424236b4bbaa604402d521",
            "value": " 127M/127M [00:03&lt;00:00, 57.1MB/s]"
          }
        },
        "458f176b8552430a939ac0f1f8048a92": {
          "model_module": "@jupyter-widgets/base",
          "model_name": "LayoutModel",
          "model_module_version": "1.2.0",
          "state": {
            "_model_module": "@jupyter-widgets/base",
            "_model_module_version": "1.2.0",
            "_model_name": "LayoutModel",
            "_view_count": null,
            "_view_module": "@jupyter-widgets/base",
            "_view_module_version": "1.2.0",
            "_view_name": "LayoutView",
            "align_content": null,
            "align_items": null,
            "align_self": null,
            "border": null,
            "bottom": null,
            "display": null,
            "flex": null,
            "flex_flow": null,
            "grid_area": null,
            "grid_auto_columns": null,
            "grid_auto_flow": null,
            "grid_auto_rows": null,
            "grid_column": null,
            "grid_gap": null,
            "grid_row": null,
            "grid_template_areas": null,
            "grid_template_columns": null,
            "grid_template_rows": null,
            "height": null,
            "justify_content": null,
            "justify_items": null,
            "left": null,
            "margin": null,
            "max_height": null,
            "max_width": null,
            "min_height": null,
            "min_width": null,
            "object_fit": null,
            "object_position": null,
            "order": null,
            "overflow": null,
            "overflow_x": null,
            "overflow_y": null,
            "padding": null,
            "right": null,
            "top": null,
            "visibility": null,
            "width": null
          }
        },
        "5420b64319404ed1ba7cbbabc8dfd23c": {
          "model_module": "@jupyter-widgets/base",
          "model_name": "LayoutModel",
          "model_module_version": "1.2.0",
          "state": {
            "_model_module": "@jupyter-widgets/base",
            "_model_module_version": "1.2.0",
            "_model_name": "LayoutModel",
            "_view_count": null,
            "_view_module": "@jupyter-widgets/base",
            "_view_module_version": "1.2.0",
            "_view_name": "LayoutView",
            "align_content": null,
            "align_items": null,
            "align_self": null,
            "border": null,
            "bottom": null,
            "display": null,
            "flex": null,
            "flex_flow": null,
            "grid_area": null,
            "grid_auto_columns": null,
            "grid_auto_flow": null,
            "grid_auto_rows": null,
            "grid_column": null,
            "grid_gap": null,
            "grid_row": null,
            "grid_template_areas": null,
            "grid_template_columns": null,
            "grid_template_rows": null,
            "height": null,
            "justify_content": null,
            "justify_items": null,
            "left": null,
            "margin": null,
            "max_height": null,
            "max_width": null,
            "min_height": null,
            "min_width": null,
            "object_fit": null,
            "object_position": null,
            "order": null,
            "overflow": null,
            "overflow_x": null,
            "overflow_y": null,
            "padding": null,
            "right": null,
            "top": null,
            "visibility": null,
            "width": null
          }
        },
        "37a810c9b35a45178ff373fdad0ced22": {
          "model_module": "@jupyter-widgets/controls",
          "model_name": "DescriptionStyleModel",
          "model_module_version": "1.5.0",
          "state": {
            "_model_module": "@jupyter-widgets/controls",
            "_model_module_version": "1.5.0",
            "_model_name": "DescriptionStyleModel",
            "_view_count": null,
            "_view_module": "@jupyter-widgets/base",
            "_view_module_version": "1.2.0",
            "_view_name": "StyleView",
            "description_width": ""
          }
        },
        "257aa89de9a745eba680a8b693d05819": {
          "model_module": "@jupyter-widgets/base",
          "model_name": "LayoutModel",
          "model_module_version": "1.2.0",
          "state": {
            "_model_module": "@jupyter-widgets/base",
            "_model_module_version": "1.2.0",
            "_model_name": "LayoutModel",
            "_view_count": null,
            "_view_module": "@jupyter-widgets/base",
            "_view_module_version": "1.2.0",
            "_view_name": "LayoutView",
            "align_content": null,
            "align_items": null,
            "align_self": null,
            "border": null,
            "bottom": null,
            "display": null,
            "flex": null,
            "flex_flow": null,
            "grid_area": null,
            "grid_auto_columns": null,
            "grid_auto_flow": null,
            "grid_auto_rows": null,
            "grid_column": null,
            "grid_gap": null,
            "grid_row": null,
            "grid_template_areas": null,
            "grid_template_columns": null,
            "grid_template_rows": null,
            "height": null,
            "justify_content": null,
            "justify_items": null,
            "left": null,
            "margin": null,
            "max_height": null,
            "max_width": null,
            "min_height": null,
            "min_width": null,
            "object_fit": null,
            "object_position": null,
            "order": null,
            "overflow": null,
            "overflow_x": null,
            "overflow_y": null,
            "padding": null,
            "right": null,
            "top": null,
            "visibility": null,
            "width": null
          }
        },
        "aa566ade2200412fba5d7ff7d9f23ae2": {
          "model_module": "@jupyter-widgets/controls",
          "model_name": "ProgressStyleModel",
          "model_module_version": "1.5.0",
          "state": {
            "_model_module": "@jupyter-widgets/controls",
            "_model_module_version": "1.5.0",
            "_model_name": "ProgressStyleModel",
            "_view_count": null,
            "_view_module": "@jupyter-widgets/base",
            "_view_module_version": "1.2.0",
            "_view_name": "StyleView",
            "bar_color": null,
            "description_width": ""
          }
        },
        "1ad648c12d274b1599a1a91e1158b018": {
          "model_module": "@jupyter-widgets/base",
          "model_name": "LayoutModel",
          "model_module_version": "1.2.0",
          "state": {
            "_model_module": "@jupyter-widgets/base",
            "_model_module_version": "1.2.0",
            "_model_name": "LayoutModel",
            "_view_count": null,
            "_view_module": "@jupyter-widgets/base",
            "_view_module_version": "1.2.0",
            "_view_name": "LayoutView",
            "align_content": null,
            "align_items": null,
            "align_self": null,
            "border": null,
            "bottom": null,
            "display": null,
            "flex": null,
            "flex_flow": null,
            "grid_area": null,
            "grid_auto_columns": null,
            "grid_auto_flow": null,
            "grid_auto_rows": null,
            "grid_column": null,
            "grid_gap": null,
            "grid_row": null,
            "grid_template_areas": null,
            "grid_template_columns": null,
            "grid_template_rows": null,
            "height": null,
            "justify_content": null,
            "justify_items": null,
            "left": null,
            "margin": null,
            "max_height": null,
            "max_width": null,
            "min_height": null,
            "min_width": null,
            "object_fit": null,
            "object_position": null,
            "order": null,
            "overflow": null,
            "overflow_x": null,
            "overflow_y": null,
            "padding": null,
            "right": null,
            "top": null,
            "visibility": null,
            "width": null
          }
        },
        "46524e2b87424236b4bbaa604402d521": {
          "model_module": "@jupyter-widgets/controls",
          "model_name": "DescriptionStyleModel",
          "model_module_version": "1.5.0",
          "state": {
            "_model_module": "@jupyter-widgets/controls",
            "_model_module_version": "1.5.0",
            "_model_name": "DescriptionStyleModel",
            "_view_count": null,
            "_view_module": "@jupyter-widgets/base",
            "_view_module_version": "1.2.0",
            "_view_name": "StyleView",
            "description_width": ""
          }
        },
        "c6fa335fc9aa4a6a85232ce74e15fadd": {
          "model_module": "@jupyter-widgets/controls",
          "model_name": "HBoxModel",
          "model_module_version": "1.5.0",
          "state": {
            "_dom_classes": [],
            "_model_module": "@jupyter-widgets/controls",
            "_model_module_version": "1.5.0",
            "_model_name": "HBoxModel",
            "_view_count": null,
            "_view_module": "@jupyter-widgets/controls",
            "_view_module_version": "1.5.0",
            "_view_name": "HBoxView",
            "box_style": "",
            "children": [
              "IPY_MODEL_eac2e13dc53b473686539515d4bd9d2a",
              "IPY_MODEL_27b33cea952149bb932429800852926a",
              "IPY_MODEL_9a4c3cd9216447a9ac59336c4c482779"
            ],
            "layout": "IPY_MODEL_6172e310f82345d5bc11ffa992ec6ecd"
          }
        },
        "eac2e13dc53b473686539515d4bd9d2a": {
          "model_module": "@jupyter-widgets/controls",
          "model_name": "HTMLModel",
          "model_module_version": "1.5.0",
          "state": {
            "_dom_classes": [],
            "_model_module": "@jupyter-widgets/controls",
            "_model_module_version": "1.5.0",
            "_model_name": "HTMLModel",
            "_view_count": null,
            "_view_module": "@jupyter-widgets/controls",
            "_view_module_version": "1.5.0",
            "_view_name": "HTMLView",
            "description": "",
            "description_tooltip": null,
            "layout": "IPY_MODEL_6b042dde91fe4c15a18bcf992a4ccc95",
            "placeholder": "​",
            "style": "IPY_MODEL_669171f9d3e34b0bb2a2afd07466dde8",
            "value": "Downloading data: 100%"
          }
        },
        "27b33cea952149bb932429800852926a": {
          "model_module": "@jupyter-widgets/controls",
          "model_name": "FloatProgressModel",
          "model_module_version": "1.5.0",
          "state": {
            "_dom_classes": [],
            "_model_module": "@jupyter-widgets/controls",
            "_model_module_version": "1.5.0",
            "_model_name": "FloatProgressModel",
            "_view_count": null,
            "_view_module": "@jupyter-widgets/controls",
            "_view_module_version": "1.5.0",
            "_view_name": "ProgressView",
            "bar_style": "success",
            "description": "",
            "description_tooltip": null,
            "layout": "IPY_MODEL_21f03a1837e14d0a955a3cb88fbecd8e",
            "max": 10296338,
            "min": 0,
            "orientation": "horizontal",
            "style": "IPY_MODEL_a4410eacbe874e0c90032e6d6589ed62",
            "value": 10296338
          }
        },
        "9a4c3cd9216447a9ac59336c4c482779": {
          "model_module": "@jupyter-widgets/controls",
          "model_name": "HTMLModel",
          "model_module_version": "1.5.0",
          "state": {
            "_dom_classes": [],
            "_model_module": "@jupyter-widgets/controls",
            "_model_module_version": "1.5.0",
            "_model_name": "HTMLModel",
            "_view_count": null,
            "_view_module": "@jupyter-widgets/controls",
            "_view_module_version": "1.5.0",
            "_view_name": "HTMLView",
            "description": "",
            "description_tooltip": null,
            "layout": "IPY_MODEL_bfc8e38b36bf4479be4c0abedba67b30",
            "placeholder": "​",
            "style": "IPY_MODEL_8ac9d67ccf454b4cbafad4d584f363f4",
            "value": " 10.3M/10.3M [00:01&lt;00:00, 7.36MB/s]"
          }
        },
        "6172e310f82345d5bc11ffa992ec6ecd": {
          "model_module": "@jupyter-widgets/base",
          "model_name": "LayoutModel",
          "model_module_version": "1.2.0",
          "state": {
            "_model_module": "@jupyter-widgets/base",
            "_model_module_version": "1.2.0",
            "_model_name": "LayoutModel",
            "_view_count": null,
            "_view_module": "@jupyter-widgets/base",
            "_view_module_version": "1.2.0",
            "_view_name": "LayoutView",
            "align_content": null,
            "align_items": null,
            "align_self": null,
            "border": null,
            "bottom": null,
            "display": null,
            "flex": null,
            "flex_flow": null,
            "grid_area": null,
            "grid_auto_columns": null,
            "grid_auto_flow": null,
            "grid_auto_rows": null,
            "grid_column": null,
            "grid_gap": null,
            "grid_row": null,
            "grid_template_areas": null,
            "grid_template_columns": null,
            "grid_template_rows": null,
            "height": null,
            "justify_content": null,
            "justify_items": null,
            "left": null,
            "margin": null,
            "max_height": null,
            "max_width": null,
            "min_height": null,
            "min_width": null,
            "object_fit": null,
            "object_position": null,
            "order": null,
            "overflow": null,
            "overflow_x": null,
            "overflow_y": null,
            "padding": null,
            "right": null,
            "top": null,
            "visibility": null,
            "width": null
          }
        },
        "6b042dde91fe4c15a18bcf992a4ccc95": {
          "model_module": "@jupyter-widgets/base",
          "model_name": "LayoutModel",
          "model_module_version": "1.2.0",
          "state": {
            "_model_module": "@jupyter-widgets/base",
            "_model_module_version": "1.2.0",
            "_model_name": "LayoutModel",
            "_view_count": null,
            "_view_module": "@jupyter-widgets/base",
            "_view_module_version": "1.2.0",
            "_view_name": "LayoutView",
            "align_content": null,
            "align_items": null,
            "align_self": null,
            "border": null,
            "bottom": null,
            "display": null,
            "flex": null,
            "flex_flow": null,
            "grid_area": null,
            "grid_auto_columns": null,
            "grid_auto_flow": null,
            "grid_auto_rows": null,
            "grid_column": null,
            "grid_gap": null,
            "grid_row": null,
            "grid_template_areas": null,
            "grid_template_columns": null,
            "grid_template_rows": null,
            "height": null,
            "justify_content": null,
            "justify_items": null,
            "left": null,
            "margin": null,
            "max_height": null,
            "max_width": null,
            "min_height": null,
            "min_width": null,
            "object_fit": null,
            "object_position": null,
            "order": null,
            "overflow": null,
            "overflow_x": null,
            "overflow_y": null,
            "padding": null,
            "right": null,
            "top": null,
            "visibility": null,
            "width": null
          }
        },
        "669171f9d3e34b0bb2a2afd07466dde8": {
          "model_module": "@jupyter-widgets/controls",
          "model_name": "DescriptionStyleModel",
          "model_module_version": "1.5.0",
          "state": {
            "_model_module": "@jupyter-widgets/controls",
            "_model_module_version": "1.5.0",
            "_model_name": "DescriptionStyleModel",
            "_view_count": null,
            "_view_module": "@jupyter-widgets/base",
            "_view_module_version": "1.2.0",
            "_view_name": "StyleView",
            "description_width": ""
          }
        },
        "21f03a1837e14d0a955a3cb88fbecd8e": {
          "model_module": "@jupyter-widgets/base",
          "model_name": "LayoutModel",
          "model_module_version": "1.2.0",
          "state": {
            "_model_module": "@jupyter-widgets/base",
            "_model_module_version": "1.2.0",
            "_model_name": "LayoutModel",
            "_view_count": null,
            "_view_module": "@jupyter-widgets/base",
            "_view_module_version": "1.2.0",
            "_view_name": "LayoutView",
            "align_content": null,
            "align_items": null,
            "align_self": null,
            "border": null,
            "bottom": null,
            "display": null,
            "flex": null,
            "flex_flow": null,
            "grid_area": null,
            "grid_auto_columns": null,
            "grid_auto_flow": null,
            "grid_auto_rows": null,
            "grid_column": null,
            "grid_gap": null,
            "grid_row": null,
            "grid_template_areas": null,
            "grid_template_columns": null,
            "grid_template_rows": null,
            "height": null,
            "justify_content": null,
            "justify_items": null,
            "left": null,
            "margin": null,
            "max_height": null,
            "max_width": null,
            "min_height": null,
            "min_width": null,
            "object_fit": null,
            "object_position": null,
            "order": null,
            "overflow": null,
            "overflow_x": null,
            "overflow_y": null,
            "padding": null,
            "right": null,
            "top": null,
            "visibility": null,
            "width": null
          }
        },
        "a4410eacbe874e0c90032e6d6589ed62": {
          "model_module": "@jupyter-widgets/controls",
          "model_name": "ProgressStyleModel",
          "model_module_version": "1.5.0",
          "state": {
            "_model_module": "@jupyter-widgets/controls",
            "_model_module_version": "1.5.0",
            "_model_name": "ProgressStyleModel",
            "_view_count": null,
            "_view_module": "@jupyter-widgets/base",
            "_view_module_version": "1.2.0",
            "_view_name": "StyleView",
            "bar_color": null,
            "description_width": ""
          }
        },
        "bfc8e38b36bf4479be4c0abedba67b30": {
          "model_module": "@jupyter-widgets/base",
          "model_name": "LayoutModel",
          "model_module_version": "1.2.0",
          "state": {
            "_model_module": "@jupyter-widgets/base",
            "_model_module_version": "1.2.0",
            "_model_name": "LayoutModel",
            "_view_count": null,
            "_view_module": "@jupyter-widgets/base",
            "_view_module_version": "1.2.0",
            "_view_name": "LayoutView",
            "align_content": null,
            "align_items": null,
            "align_self": null,
            "border": null,
            "bottom": null,
            "display": null,
            "flex": null,
            "flex_flow": null,
            "grid_area": null,
            "grid_auto_columns": null,
            "grid_auto_flow": null,
            "grid_auto_rows": null,
            "grid_column": null,
            "grid_gap": null,
            "grid_row": null,
            "grid_template_areas": null,
            "grid_template_columns": null,
            "grid_template_rows": null,
            "height": null,
            "justify_content": null,
            "justify_items": null,
            "left": null,
            "margin": null,
            "max_height": null,
            "max_width": null,
            "min_height": null,
            "min_width": null,
            "object_fit": null,
            "object_position": null,
            "order": null,
            "overflow": null,
            "overflow_x": null,
            "overflow_y": null,
            "padding": null,
            "right": null,
            "top": null,
            "visibility": null,
            "width": null
          }
        },
        "8ac9d67ccf454b4cbafad4d584f363f4": {
          "model_module": "@jupyter-widgets/controls",
          "model_name": "DescriptionStyleModel",
          "model_module_version": "1.5.0",
          "state": {
            "_model_module": "@jupyter-widgets/controls",
            "_model_module_version": "1.5.0",
            "_model_name": "DescriptionStyleModel",
            "_view_count": null,
            "_view_module": "@jupyter-widgets/base",
            "_view_module_version": "1.2.0",
            "_view_name": "StyleView",
            "description_width": ""
          }
        },
        "f7e7c4e1224c40cfbd39175f23d4315d": {
          "model_module": "@jupyter-widgets/controls",
          "model_name": "HBoxModel",
          "model_module_version": "1.5.0",
          "state": {
            "_dom_classes": [],
            "_model_module": "@jupyter-widgets/controls",
            "_model_module_version": "1.5.0",
            "_model_name": "HBoxModel",
            "_view_count": null,
            "_view_module": "@jupyter-widgets/controls",
            "_view_module_version": "1.5.0",
            "_view_name": "HBoxView",
            "box_style": "",
            "children": [
              "IPY_MODEL_1416634473ac48a1bd6d0afecb91d321",
              "IPY_MODEL_c976471e73654062b8f278e85f201deb",
              "IPY_MODEL_3a5849ec0f4d4bee840e0cf3102b6fc4"
            ],
            "layout": "IPY_MODEL_6c217518e01d44daa9f2f6e2e34c9a2a"
          }
        },
        "1416634473ac48a1bd6d0afecb91d321": {
          "model_module": "@jupyter-widgets/controls",
          "model_name": "HTMLModel",
          "model_module_version": "1.5.0",
          "state": {
            "_dom_classes": [],
            "_model_module": "@jupyter-widgets/controls",
            "_model_module_version": "1.5.0",
            "_model_name": "HTMLModel",
            "_view_count": null,
            "_view_module": "@jupyter-widgets/controls",
            "_view_module_version": "1.5.0",
            "_view_name": "HTMLView",
            "description": "",
            "description_tooltip": null,
            "layout": "IPY_MODEL_809b15129568428ab2e300ea1c8bd144",
            "placeholder": "​",
            "style": "IPY_MODEL_9f7fb8d45e7c44178ab9544806795822",
            "value": "Generating train split: 100%"
          }
        },
        "c976471e73654062b8f278e85f201deb": {
          "model_module": "@jupyter-widgets/controls",
          "model_name": "FloatProgressModel",
          "model_module_version": "1.5.0",
          "state": {
            "_dom_classes": [],
            "_model_module": "@jupyter-widgets/controls",
            "_model_module_version": "1.5.0",
            "_model_name": "FloatProgressModel",
            "_view_count": null,
            "_view_module": "@jupyter-widgets/controls",
            "_view_module_version": "1.5.0",
            "_view_name": "ProgressView",
            "bar_style": "success",
            "description": "",
            "description_tooltip": null,
            "layout": "IPY_MODEL_e55066fe88f448728507976e5014ad5e",
            "max": 56167,
            "min": 0,
            "orientation": "horizontal",
            "style": "IPY_MODEL_2be2279ac5654cc98c75af2d02b9467b",
            "value": 56167
          }
        },
        "3a5849ec0f4d4bee840e0cf3102b6fc4": {
          "model_module": "@jupyter-widgets/controls",
          "model_name": "HTMLModel",
          "model_module_version": "1.5.0",
          "state": {
            "_dom_classes": [],
            "_model_module": "@jupyter-widgets/controls",
            "_model_module_version": "1.5.0",
            "_model_name": "HTMLModel",
            "_view_count": null,
            "_view_module": "@jupyter-widgets/controls",
            "_view_module_version": "1.5.0",
            "_view_name": "HTMLView",
            "description": "",
            "description_tooltip": null,
            "layout": "IPY_MODEL_bd4c005729e24a00b959e3a45957ec8f",
            "placeholder": "​",
            "style": "IPY_MODEL_194624cc0f4a43b4ac90b19e6a2aa613",
            "value": " 56167/56167 [00:02&lt;00:00, 27295.76 examples/s]"
          }
        },
        "6c217518e01d44daa9f2f6e2e34c9a2a": {
          "model_module": "@jupyter-widgets/base",
          "model_name": "LayoutModel",
          "model_module_version": "1.2.0",
          "state": {
            "_model_module": "@jupyter-widgets/base",
            "_model_module_version": "1.2.0",
            "_model_name": "LayoutModel",
            "_view_count": null,
            "_view_module": "@jupyter-widgets/base",
            "_view_module_version": "1.2.0",
            "_view_name": "LayoutView",
            "align_content": null,
            "align_items": null,
            "align_self": null,
            "border": null,
            "bottom": null,
            "display": null,
            "flex": null,
            "flex_flow": null,
            "grid_area": null,
            "grid_auto_columns": null,
            "grid_auto_flow": null,
            "grid_auto_rows": null,
            "grid_column": null,
            "grid_gap": null,
            "grid_row": null,
            "grid_template_areas": null,
            "grid_template_columns": null,
            "grid_template_rows": null,
            "height": null,
            "justify_content": null,
            "justify_items": null,
            "left": null,
            "margin": null,
            "max_height": null,
            "max_width": null,
            "min_height": null,
            "min_width": null,
            "object_fit": null,
            "object_position": null,
            "order": null,
            "overflow": null,
            "overflow_x": null,
            "overflow_y": null,
            "padding": null,
            "right": null,
            "top": null,
            "visibility": null,
            "width": null
          }
        },
        "809b15129568428ab2e300ea1c8bd144": {
          "model_module": "@jupyter-widgets/base",
          "model_name": "LayoutModel",
          "model_module_version": "1.2.0",
          "state": {
            "_model_module": "@jupyter-widgets/base",
            "_model_module_version": "1.2.0",
            "_model_name": "LayoutModel",
            "_view_count": null,
            "_view_module": "@jupyter-widgets/base",
            "_view_module_version": "1.2.0",
            "_view_name": "LayoutView",
            "align_content": null,
            "align_items": null,
            "align_self": null,
            "border": null,
            "bottom": null,
            "display": null,
            "flex": null,
            "flex_flow": null,
            "grid_area": null,
            "grid_auto_columns": null,
            "grid_auto_flow": null,
            "grid_auto_rows": null,
            "grid_column": null,
            "grid_gap": null,
            "grid_row": null,
            "grid_template_areas": null,
            "grid_template_columns": null,
            "grid_template_rows": null,
            "height": null,
            "justify_content": null,
            "justify_items": null,
            "left": null,
            "margin": null,
            "max_height": null,
            "max_width": null,
            "min_height": null,
            "min_width": null,
            "object_fit": null,
            "object_position": null,
            "order": null,
            "overflow": null,
            "overflow_x": null,
            "overflow_y": null,
            "padding": null,
            "right": null,
            "top": null,
            "visibility": null,
            "width": null
          }
        },
        "9f7fb8d45e7c44178ab9544806795822": {
          "model_module": "@jupyter-widgets/controls",
          "model_name": "DescriptionStyleModel",
          "model_module_version": "1.5.0",
          "state": {
            "_model_module": "@jupyter-widgets/controls",
            "_model_module_version": "1.5.0",
            "_model_name": "DescriptionStyleModel",
            "_view_count": null,
            "_view_module": "@jupyter-widgets/base",
            "_view_module_version": "1.2.0",
            "_view_name": "StyleView",
            "description_width": ""
          }
        },
        "e55066fe88f448728507976e5014ad5e": {
          "model_module": "@jupyter-widgets/base",
          "model_name": "LayoutModel",
          "model_module_version": "1.2.0",
          "state": {
            "_model_module": "@jupyter-widgets/base",
            "_model_module_version": "1.2.0",
            "_model_name": "LayoutModel",
            "_view_count": null,
            "_view_module": "@jupyter-widgets/base",
            "_view_module_version": "1.2.0",
            "_view_name": "LayoutView",
            "align_content": null,
            "align_items": null,
            "align_self": null,
            "border": null,
            "bottom": null,
            "display": null,
            "flex": null,
            "flex_flow": null,
            "grid_area": null,
            "grid_auto_columns": null,
            "grid_auto_flow": null,
            "grid_auto_rows": null,
            "grid_column": null,
            "grid_gap": null,
            "grid_row": null,
            "grid_template_areas": null,
            "grid_template_columns": null,
            "grid_template_rows": null,
            "height": null,
            "justify_content": null,
            "justify_items": null,
            "left": null,
            "margin": null,
            "max_height": null,
            "max_width": null,
            "min_height": null,
            "min_width": null,
            "object_fit": null,
            "object_position": null,
            "order": null,
            "overflow": null,
            "overflow_x": null,
            "overflow_y": null,
            "padding": null,
            "right": null,
            "top": null,
            "visibility": null,
            "width": null
          }
        },
        "2be2279ac5654cc98c75af2d02b9467b": {
          "model_module": "@jupyter-widgets/controls",
          "model_name": "ProgressStyleModel",
          "model_module_version": "1.5.0",
          "state": {
            "_model_module": "@jupyter-widgets/controls",
            "_model_module_version": "1.5.0",
            "_model_name": "ProgressStyleModel",
            "_view_count": null,
            "_view_module": "@jupyter-widgets/base",
            "_view_module_version": "1.2.0",
            "_view_name": "StyleView",
            "bar_color": null,
            "description_width": ""
          }
        },
        "bd4c005729e24a00b959e3a45957ec8f": {
          "model_module": "@jupyter-widgets/base",
          "model_name": "LayoutModel",
          "model_module_version": "1.2.0",
          "state": {
            "_model_module": "@jupyter-widgets/base",
            "_model_module_version": "1.2.0",
            "_model_name": "LayoutModel",
            "_view_count": null,
            "_view_module": "@jupyter-widgets/base",
            "_view_module_version": "1.2.0",
            "_view_name": "LayoutView",
            "align_content": null,
            "align_items": null,
            "align_self": null,
            "border": null,
            "bottom": null,
            "display": null,
            "flex": null,
            "flex_flow": null,
            "grid_area": null,
            "grid_auto_columns": null,
            "grid_auto_flow": null,
            "grid_auto_rows": null,
            "grid_column": null,
            "grid_gap": null,
            "grid_row": null,
            "grid_template_areas": null,
            "grid_template_columns": null,
            "grid_template_rows": null,
            "height": null,
            "justify_content": null,
            "justify_items": null,
            "left": null,
            "margin": null,
            "max_height": null,
            "max_width": null,
            "min_height": null,
            "min_width": null,
            "object_fit": null,
            "object_position": null,
            "order": null,
            "overflow": null,
            "overflow_x": null,
            "overflow_y": null,
            "padding": null,
            "right": null,
            "top": null,
            "visibility": null,
            "width": null
          }
        },
        "194624cc0f4a43b4ac90b19e6a2aa613": {
          "model_module": "@jupyter-widgets/controls",
          "model_name": "DescriptionStyleModel",
          "model_module_version": "1.5.0",
          "state": {
            "_model_module": "@jupyter-widgets/controls",
            "_model_module_version": "1.5.0",
            "_model_name": "DescriptionStyleModel",
            "_view_count": null,
            "_view_module": "@jupyter-widgets/base",
            "_view_module_version": "1.2.0",
            "_view_name": "StyleView",
            "description_width": ""
          }
        },
        "c303102e72364f8d8c8fbef7100c41e7": {
          "model_module": "@jupyter-widgets/controls",
          "model_name": "HBoxModel",
          "model_module_version": "1.5.0",
          "state": {
            "_dom_classes": [],
            "_model_module": "@jupyter-widgets/controls",
            "_model_module_version": "1.5.0",
            "_model_name": "HBoxModel",
            "_view_count": null,
            "_view_module": "@jupyter-widgets/controls",
            "_view_module_version": "1.5.0",
            "_view_name": "HBoxView",
            "box_style": "",
            "children": [
              "IPY_MODEL_12a9a464a2e24dfe8253604dda4a78bc",
              "IPY_MODEL_94b7baa76eab46a5ac01ed74c4daa67a",
              "IPY_MODEL_81c1692f06b04d53973ee007f8747a47"
            ],
            "layout": "IPY_MODEL_f689e2a0e2e04366a735fa10132e036a"
          }
        },
        "12a9a464a2e24dfe8253604dda4a78bc": {
          "model_module": "@jupyter-widgets/controls",
          "model_name": "HTMLModel",
          "model_module_version": "1.5.0",
          "state": {
            "_dom_classes": [],
            "_model_module": "@jupyter-widgets/controls",
            "_model_module_version": "1.5.0",
            "_model_name": "HTMLModel",
            "_view_count": null,
            "_view_module": "@jupyter-widgets/controls",
            "_view_module_version": "1.5.0",
            "_view_name": "HTMLView",
            "description": "",
            "description_tooltip": null,
            "layout": "IPY_MODEL_5d009d890d7e4ec680c57c783c38338d",
            "placeholder": "​",
            "style": "IPY_MODEL_07269f40059c4c13942c95379535a4be",
            "value": "Generating test split: 100%"
          }
        },
        "94b7baa76eab46a5ac01ed74c4daa67a": {
          "model_module": "@jupyter-widgets/controls",
          "model_name": "FloatProgressModel",
          "model_module_version": "1.5.0",
          "state": {
            "_dom_classes": [],
            "_model_module": "@jupyter-widgets/controls",
            "_model_module_version": "1.5.0",
            "_model_name": "FloatProgressModel",
            "_view_count": null,
            "_view_module": "@jupyter-widgets/controls",
            "_view_module_version": "1.5.0",
            "_view_name": "ProgressView",
            "bar_style": "success",
            "description": "",
            "description_tooltip": null,
            "layout": "IPY_MODEL_dafa94ad732b4eea9bdd5c23dfcf5f56",
            "max": 6807,
            "min": 0,
            "orientation": "horizontal",
            "style": "IPY_MODEL_88faff00dbd24f1184f429e654337e05",
            "value": 6807
          }
        },
        "81c1692f06b04d53973ee007f8747a47": {
          "model_module": "@jupyter-widgets/controls",
          "model_name": "HTMLModel",
          "model_module_version": "1.5.0",
          "state": {
            "_dom_classes": [],
            "_model_module": "@jupyter-widgets/controls",
            "_model_module_version": "1.5.0",
            "_model_name": "HTMLModel",
            "_view_count": null,
            "_view_module": "@jupyter-widgets/controls",
            "_view_module_version": "1.5.0",
            "_view_name": "HTMLView",
            "description": "",
            "description_tooltip": null,
            "layout": "IPY_MODEL_bf38a86703d040f98f1b647d2a91a99a",
            "placeholder": "​",
            "style": "IPY_MODEL_08706e8984e44d0b95881bc7ce5c6c83",
            "value": " 6807/6807 [00:00&lt;00:00, 29601.35 examples/s]"
          }
        },
        "f689e2a0e2e04366a735fa10132e036a": {
          "model_module": "@jupyter-widgets/base",
          "model_name": "LayoutModel",
          "model_module_version": "1.2.0",
          "state": {
            "_model_module": "@jupyter-widgets/base",
            "_model_module_version": "1.2.0",
            "_model_name": "LayoutModel",
            "_view_count": null,
            "_view_module": "@jupyter-widgets/base",
            "_view_module_version": "1.2.0",
            "_view_name": "LayoutView",
            "align_content": null,
            "align_items": null,
            "align_self": null,
            "border": null,
            "bottom": null,
            "display": null,
            "flex": null,
            "flex_flow": null,
            "grid_area": null,
            "grid_auto_columns": null,
            "grid_auto_flow": null,
            "grid_auto_rows": null,
            "grid_column": null,
            "grid_gap": null,
            "grid_row": null,
            "grid_template_areas": null,
            "grid_template_columns": null,
            "grid_template_rows": null,
            "height": null,
            "justify_content": null,
            "justify_items": null,
            "left": null,
            "margin": null,
            "max_height": null,
            "max_width": null,
            "min_height": null,
            "min_width": null,
            "object_fit": null,
            "object_position": null,
            "order": null,
            "overflow": null,
            "overflow_x": null,
            "overflow_y": null,
            "padding": null,
            "right": null,
            "top": null,
            "visibility": null,
            "width": null
          }
        },
        "5d009d890d7e4ec680c57c783c38338d": {
          "model_module": "@jupyter-widgets/base",
          "model_name": "LayoutModel",
          "model_module_version": "1.2.0",
          "state": {
            "_model_module": "@jupyter-widgets/base",
            "_model_module_version": "1.2.0",
            "_model_name": "LayoutModel",
            "_view_count": null,
            "_view_module": "@jupyter-widgets/base",
            "_view_module_version": "1.2.0",
            "_view_name": "LayoutView",
            "align_content": null,
            "align_items": null,
            "align_self": null,
            "border": null,
            "bottom": null,
            "display": null,
            "flex": null,
            "flex_flow": null,
            "grid_area": null,
            "grid_auto_columns": null,
            "grid_auto_flow": null,
            "grid_auto_rows": null,
            "grid_column": null,
            "grid_gap": null,
            "grid_row": null,
            "grid_template_areas": null,
            "grid_template_columns": null,
            "grid_template_rows": null,
            "height": null,
            "justify_content": null,
            "justify_items": null,
            "left": null,
            "margin": null,
            "max_height": null,
            "max_width": null,
            "min_height": null,
            "min_width": null,
            "object_fit": null,
            "object_position": null,
            "order": null,
            "overflow": null,
            "overflow_x": null,
            "overflow_y": null,
            "padding": null,
            "right": null,
            "top": null,
            "visibility": null,
            "width": null
          }
        },
        "07269f40059c4c13942c95379535a4be": {
          "model_module": "@jupyter-widgets/controls",
          "model_name": "DescriptionStyleModel",
          "model_module_version": "1.5.0",
          "state": {
            "_model_module": "@jupyter-widgets/controls",
            "_model_module_version": "1.5.0",
            "_model_name": "DescriptionStyleModel",
            "_view_count": null,
            "_view_module": "@jupyter-widgets/base",
            "_view_module_version": "1.2.0",
            "_view_name": "StyleView",
            "description_width": ""
          }
        },
        "dafa94ad732b4eea9bdd5c23dfcf5f56": {
          "model_module": "@jupyter-widgets/base",
          "model_name": "LayoutModel",
          "model_module_version": "1.2.0",
          "state": {
            "_model_module": "@jupyter-widgets/base",
            "_model_module_version": "1.2.0",
            "_model_name": "LayoutModel",
            "_view_count": null,
            "_view_module": "@jupyter-widgets/base",
            "_view_module_version": "1.2.0",
            "_view_name": "LayoutView",
            "align_content": null,
            "align_items": null,
            "align_self": null,
            "border": null,
            "bottom": null,
            "display": null,
            "flex": null,
            "flex_flow": null,
            "grid_area": null,
            "grid_auto_columns": null,
            "grid_auto_flow": null,
            "grid_auto_rows": null,
            "grid_column": null,
            "grid_gap": null,
            "grid_row": null,
            "grid_template_areas": null,
            "grid_template_columns": null,
            "grid_template_rows": null,
            "height": null,
            "justify_content": null,
            "justify_items": null,
            "left": null,
            "margin": null,
            "max_height": null,
            "max_width": null,
            "min_height": null,
            "min_width": null,
            "object_fit": null,
            "object_position": null,
            "order": null,
            "overflow": null,
            "overflow_x": null,
            "overflow_y": null,
            "padding": null,
            "right": null,
            "top": null,
            "visibility": null,
            "width": null
          }
        },
        "88faff00dbd24f1184f429e654337e05": {
          "model_module": "@jupyter-widgets/controls",
          "model_name": "ProgressStyleModel",
          "model_module_version": "1.5.0",
          "state": {
            "_model_module": "@jupyter-widgets/controls",
            "_model_module_version": "1.5.0",
            "_model_name": "ProgressStyleModel",
            "_view_count": null,
            "_view_module": "@jupyter-widgets/base",
            "_view_module_version": "1.2.0",
            "_view_name": "StyleView",
            "bar_color": null,
            "description_width": ""
          }
        },
        "bf38a86703d040f98f1b647d2a91a99a": {
          "model_module": "@jupyter-widgets/base",
          "model_name": "LayoutModel",
          "model_module_version": "1.2.0",
          "state": {
            "_model_module": "@jupyter-widgets/base",
            "_model_module_version": "1.2.0",
            "_model_name": "LayoutModel",
            "_view_count": null,
            "_view_module": "@jupyter-widgets/base",
            "_view_module_version": "1.2.0",
            "_view_name": "LayoutView",
            "align_content": null,
            "align_items": null,
            "align_self": null,
            "border": null,
            "bottom": null,
            "display": null,
            "flex": null,
            "flex_flow": null,
            "grid_area": null,
            "grid_auto_columns": null,
            "grid_auto_flow": null,
            "grid_auto_rows": null,
            "grid_column": null,
            "grid_gap": null,
            "grid_row": null,
            "grid_template_areas": null,
            "grid_template_columns": null,
            "grid_template_rows": null,
            "height": null,
            "justify_content": null,
            "justify_items": null,
            "left": null,
            "margin": null,
            "max_height": null,
            "max_width": null,
            "min_height": null,
            "min_width": null,
            "object_fit": null,
            "object_position": null,
            "order": null,
            "overflow": null,
            "overflow_x": null,
            "overflow_y": null,
            "padding": null,
            "right": null,
            "top": null,
            "visibility": null,
            "width": null
          }
        },
        "08706e8984e44d0b95881bc7ce5c6c83": {
          "model_module": "@jupyter-widgets/controls",
          "model_name": "DescriptionStyleModel",
          "model_module_version": "1.5.0",
          "state": {
            "_model_module": "@jupyter-widgets/controls",
            "_model_module_version": "1.5.0",
            "_model_name": "DescriptionStyleModel",
            "_view_count": null,
            "_view_module": "@jupyter-widgets/base",
            "_view_module_version": "1.2.0",
            "_view_name": "StyleView",
            "description_width": ""
          }
        },
        "781a888f68d64c4b83adc4a18c3b4fba": {
          "model_module": "@jupyter-widgets/controls",
          "model_name": "HBoxModel",
          "model_module_version": "1.5.0",
          "state": {
            "_dom_classes": [],
            "_model_module": "@jupyter-widgets/controls",
            "_model_module_version": "1.5.0",
            "_model_name": "HBoxModel",
            "_view_count": null,
            "_view_module": "@jupyter-widgets/controls",
            "_view_module_version": "1.5.0",
            "_view_name": "HBoxView",
            "box_style": "",
            "children": [
              "IPY_MODEL_71a35e8737154f1d89a8772f9dd15614",
              "IPY_MODEL_eb1e90a21fc14a3d827654a7bc43bb79",
              "IPY_MODEL_41ad586a4d304b869d08e42b217d3421"
            ],
            "layout": "IPY_MODEL_0f1316af34194ca6afe74cc9bebbe722"
          }
        },
        "71a35e8737154f1d89a8772f9dd15614": {
          "model_module": "@jupyter-widgets/controls",
          "model_name": "HTMLModel",
          "model_module_version": "1.5.0",
          "state": {
            "_dom_classes": [],
            "_model_module": "@jupyter-widgets/controls",
            "_model_module_version": "1.5.0",
            "_model_name": "HTMLModel",
            "_view_count": null,
            "_view_module": "@jupyter-widgets/controls",
            "_view_module_version": "1.5.0",
            "_view_name": "HTMLView",
            "description": "",
            "description_tooltip": null,
            "layout": "IPY_MODEL_142781b658fe45d8b5b39e39fd3d7528",
            "placeholder": "​",
            "style": "IPY_MODEL_a5dd09b09308407684a836f91d019d98",
            "value": "Map: 100%"
          }
        },
        "eb1e90a21fc14a3d827654a7bc43bb79": {
          "model_module": "@jupyter-widgets/controls",
          "model_name": "FloatProgressModel",
          "model_module_version": "1.5.0",
          "state": {
            "_dom_classes": [],
            "_model_module": "@jupyter-widgets/controls",
            "_model_module_version": "1.5.0",
            "_model_name": "FloatProgressModel",
            "_view_count": null,
            "_view_module": "@jupyter-widgets/controls",
            "_view_module_version": "1.5.0",
            "_view_name": "ProgressView",
            "bar_style": "success",
            "description": "",
            "description_tooltip": null,
            "layout": "IPY_MODEL_af6e50c54c944a53a6f1ea9a28597a5f",
            "max": 56167,
            "min": 0,
            "orientation": "horizontal",
            "style": "IPY_MODEL_381ebf798d9245f79c2cbfa9085a28f4",
            "value": 56167
          }
        },
        "41ad586a4d304b869d08e42b217d3421": {
          "model_module": "@jupyter-widgets/controls",
          "model_name": "HTMLModel",
          "model_module_version": "1.5.0",
          "state": {
            "_dom_classes": [],
            "_model_module": "@jupyter-widgets/controls",
            "_model_module_version": "1.5.0",
            "_model_name": "HTMLModel",
            "_view_count": null,
            "_view_module": "@jupyter-widgets/controls",
            "_view_module_version": "1.5.0",
            "_view_name": "HTMLView",
            "description": "",
            "description_tooltip": null,
            "layout": "IPY_MODEL_a69fe8c24f4c43b5a00656e26f6291aa",
            "placeholder": "​",
            "style": "IPY_MODEL_f5a0a2c462b941369e58a8b49b6ad296",
            "value": " 56167/56167 [00:08&lt;00:00, 4960.80 examples/s]"
          }
        },
        "0f1316af34194ca6afe74cc9bebbe722": {
          "model_module": "@jupyter-widgets/base",
          "model_name": "LayoutModel",
          "model_module_version": "1.2.0",
          "state": {
            "_model_module": "@jupyter-widgets/base",
            "_model_module_version": "1.2.0",
            "_model_name": "LayoutModel",
            "_view_count": null,
            "_view_module": "@jupyter-widgets/base",
            "_view_module_version": "1.2.0",
            "_view_name": "LayoutView",
            "align_content": null,
            "align_items": null,
            "align_self": null,
            "border": null,
            "bottom": null,
            "display": null,
            "flex": null,
            "flex_flow": null,
            "grid_area": null,
            "grid_auto_columns": null,
            "grid_auto_flow": null,
            "grid_auto_rows": null,
            "grid_column": null,
            "grid_gap": null,
            "grid_row": null,
            "grid_template_areas": null,
            "grid_template_columns": null,
            "grid_template_rows": null,
            "height": null,
            "justify_content": null,
            "justify_items": null,
            "left": null,
            "margin": null,
            "max_height": null,
            "max_width": null,
            "min_height": null,
            "min_width": null,
            "object_fit": null,
            "object_position": null,
            "order": null,
            "overflow": null,
            "overflow_x": null,
            "overflow_y": null,
            "padding": null,
            "right": null,
            "top": null,
            "visibility": null,
            "width": null
          }
        },
        "142781b658fe45d8b5b39e39fd3d7528": {
          "model_module": "@jupyter-widgets/base",
          "model_name": "LayoutModel",
          "model_module_version": "1.2.0",
          "state": {
            "_model_module": "@jupyter-widgets/base",
            "_model_module_version": "1.2.0",
            "_model_name": "LayoutModel",
            "_view_count": null,
            "_view_module": "@jupyter-widgets/base",
            "_view_module_version": "1.2.0",
            "_view_name": "LayoutView",
            "align_content": null,
            "align_items": null,
            "align_self": null,
            "border": null,
            "bottom": null,
            "display": null,
            "flex": null,
            "flex_flow": null,
            "grid_area": null,
            "grid_auto_columns": null,
            "grid_auto_flow": null,
            "grid_auto_rows": null,
            "grid_column": null,
            "grid_gap": null,
            "grid_row": null,
            "grid_template_areas": null,
            "grid_template_columns": null,
            "grid_template_rows": null,
            "height": null,
            "justify_content": null,
            "justify_items": null,
            "left": null,
            "margin": null,
            "max_height": null,
            "max_width": null,
            "min_height": null,
            "min_width": null,
            "object_fit": null,
            "object_position": null,
            "order": null,
            "overflow": null,
            "overflow_x": null,
            "overflow_y": null,
            "padding": null,
            "right": null,
            "top": null,
            "visibility": null,
            "width": null
          }
        },
        "a5dd09b09308407684a836f91d019d98": {
          "model_module": "@jupyter-widgets/controls",
          "model_name": "DescriptionStyleModel",
          "model_module_version": "1.5.0",
          "state": {
            "_model_module": "@jupyter-widgets/controls",
            "_model_module_version": "1.5.0",
            "_model_name": "DescriptionStyleModel",
            "_view_count": null,
            "_view_module": "@jupyter-widgets/base",
            "_view_module_version": "1.2.0",
            "_view_name": "StyleView",
            "description_width": ""
          }
        },
        "af6e50c54c944a53a6f1ea9a28597a5f": {
          "model_module": "@jupyter-widgets/base",
          "model_name": "LayoutModel",
          "model_module_version": "1.2.0",
          "state": {
            "_model_module": "@jupyter-widgets/base",
            "_model_module_version": "1.2.0",
            "_model_name": "LayoutModel",
            "_view_count": null,
            "_view_module": "@jupyter-widgets/base",
            "_view_module_version": "1.2.0",
            "_view_name": "LayoutView",
            "align_content": null,
            "align_items": null,
            "align_self": null,
            "border": null,
            "bottom": null,
            "display": null,
            "flex": null,
            "flex_flow": null,
            "grid_area": null,
            "grid_auto_columns": null,
            "grid_auto_flow": null,
            "grid_auto_rows": null,
            "grid_column": null,
            "grid_gap": null,
            "grid_row": null,
            "grid_template_areas": null,
            "grid_template_columns": null,
            "grid_template_rows": null,
            "height": null,
            "justify_content": null,
            "justify_items": null,
            "left": null,
            "margin": null,
            "max_height": null,
            "max_width": null,
            "min_height": null,
            "min_width": null,
            "object_fit": null,
            "object_position": null,
            "order": null,
            "overflow": null,
            "overflow_x": null,
            "overflow_y": null,
            "padding": null,
            "right": null,
            "top": null,
            "visibility": null,
            "width": null
          }
        },
        "381ebf798d9245f79c2cbfa9085a28f4": {
          "model_module": "@jupyter-widgets/controls",
          "model_name": "ProgressStyleModel",
          "model_module_version": "1.5.0",
          "state": {
            "_model_module": "@jupyter-widgets/controls",
            "_model_module_version": "1.5.0",
            "_model_name": "ProgressStyleModel",
            "_view_count": null,
            "_view_module": "@jupyter-widgets/base",
            "_view_module_version": "1.2.0",
            "_view_name": "StyleView",
            "bar_color": null,
            "description_width": ""
          }
        },
        "a69fe8c24f4c43b5a00656e26f6291aa": {
          "model_module": "@jupyter-widgets/base",
          "model_name": "LayoutModel",
          "model_module_version": "1.2.0",
          "state": {
            "_model_module": "@jupyter-widgets/base",
            "_model_module_version": "1.2.0",
            "_model_name": "LayoutModel",
            "_view_count": null,
            "_view_module": "@jupyter-widgets/base",
            "_view_module_version": "1.2.0",
            "_view_name": "LayoutView",
            "align_content": null,
            "align_items": null,
            "align_self": null,
            "border": null,
            "bottom": null,
            "display": null,
            "flex": null,
            "flex_flow": null,
            "grid_area": null,
            "grid_auto_columns": null,
            "grid_auto_flow": null,
            "grid_auto_rows": null,
            "grid_column": null,
            "grid_gap": null,
            "grid_row": null,
            "grid_template_areas": null,
            "grid_template_columns": null,
            "grid_template_rows": null,
            "height": null,
            "justify_content": null,
            "justify_items": null,
            "left": null,
            "margin": null,
            "max_height": null,
            "max_width": null,
            "min_height": null,
            "min_width": null,
            "object_fit": null,
            "object_position": null,
            "order": null,
            "overflow": null,
            "overflow_x": null,
            "overflow_y": null,
            "padding": null,
            "right": null,
            "top": null,
            "visibility": null,
            "width": null
          }
        },
        "f5a0a2c462b941369e58a8b49b6ad296": {
          "model_module": "@jupyter-widgets/controls",
          "model_name": "DescriptionStyleModel",
          "model_module_version": "1.5.0",
          "state": {
            "_model_module": "@jupyter-widgets/controls",
            "_model_module_version": "1.5.0",
            "_model_name": "DescriptionStyleModel",
            "_view_count": null,
            "_view_module": "@jupyter-widgets/base",
            "_view_module_version": "1.2.0",
            "_view_name": "StyleView",
            "description_width": ""
          }
        },
        "b084eadd718a4f55b743159b70e1cf20": {
          "model_module": "@jupyter-widgets/controls",
          "model_name": "HBoxModel",
          "model_module_version": "1.5.0",
          "state": {
            "_dom_classes": [],
            "_model_module": "@jupyter-widgets/controls",
            "_model_module_version": "1.5.0",
            "_model_name": "HBoxModel",
            "_view_count": null,
            "_view_module": "@jupyter-widgets/controls",
            "_view_module_version": "1.5.0",
            "_view_name": "HBoxView",
            "box_style": "",
            "children": [
              "IPY_MODEL_f5eae486f64f4c768eca2b1e5dc3133e",
              "IPY_MODEL_182a33e28b184dbbaf4a0172b58571e2",
              "IPY_MODEL_a907bc58b58148a3a76d09d52873237b"
            ],
            "layout": "IPY_MODEL_3f9fd9a9d1d14917b0eca74464af46fe"
          }
        },
        "f5eae486f64f4c768eca2b1e5dc3133e": {
          "model_module": "@jupyter-widgets/controls",
          "model_name": "HTMLModel",
          "model_module_version": "1.5.0",
          "state": {
            "_dom_classes": [],
            "_model_module": "@jupyter-widgets/controls",
            "_model_module_version": "1.5.0",
            "_model_name": "HTMLModel",
            "_view_count": null,
            "_view_module": "@jupyter-widgets/controls",
            "_view_module_version": "1.5.0",
            "_view_name": "HTMLView",
            "description": "",
            "description_tooltip": null,
            "layout": "IPY_MODEL_ddda77dd4a1a49dca90dea8490f7f794",
            "placeholder": "​",
            "style": "IPY_MODEL_697ce296ad194f24a17ccfc734853d41",
            "value": "Map: 100%"
          }
        },
        "182a33e28b184dbbaf4a0172b58571e2": {
          "model_module": "@jupyter-widgets/controls",
          "model_name": "FloatProgressModel",
          "model_module_version": "1.5.0",
          "state": {
            "_dom_classes": [],
            "_model_module": "@jupyter-widgets/controls",
            "_model_module_version": "1.5.0",
            "_model_name": "FloatProgressModel",
            "_view_count": null,
            "_view_module": "@jupyter-widgets/controls",
            "_view_module_version": "1.5.0",
            "_view_name": "ProgressView",
            "bar_style": "success",
            "description": "",
            "description_tooltip": null,
            "layout": "IPY_MODEL_e33e554d9af74277bdf616dfc36d8c64",
            "max": 6807,
            "min": 0,
            "orientation": "horizontal",
            "style": "IPY_MODEL_dca868eef62b45e88b6680ecfc5dddb3",
            "value": 6807
          }
        },
        "a907bc58b58148a3a76d09d52873237b": {
          "model_module": "@jupyter-widgets/controls",
          "model_name": "HTMLModel",
          "model_module_version": "1.5.0",
          "state": {
            "_dom_classes": [],
            "_model_module": "@jupyter-widgets/controls",
            "_model_module_version": "1.5.0",
            "_model_name": "HTMLModel",
            "_view_count": null,
            "_view_module": "@jupyter-widgets/controls",
            "_view_module_version": "1.5.0",
            "_view_name": "HTMLView",
            "description": "",
            "description_tooltip": null,
            "layout": "IPY_MODEL_faa10e4e8f09471eba1701cb193512d8",
            "placeholder": "​",
            "style": "IPY_MODEL_98754110bf1246339aab038e12892982",
            "value": " 6807/6807 [00:01&lt;00:00, 4802.79 examples/s]"
          }
        },
        "3f9fd9a9d1d14917b0eca74464af46fe": {
          "model_module": "@jupyter-widgets/base",
          "model_name": "LayoutModel",
          "model_module_version": "1.2.0",
          "state": {
            "_model_module": "@jupyter-widgets/base",
            "_model_module_version": "1.2.0",
            "_model_name": "LayoutModel",
            "_view_count": null,
            "_view_module": "@jupyter-widgets/base",
            "_view_module_version": "1.2.0",
            "_view_name": "LayoutView",
            "align_content": null,
            "align_items": null,
            "align_self": null,
            "border": null,
            "bottom": null,
            "display": null,
            "flex": null,
            "flex_flow": null,
            "grid_area": null,
            "grid_auto_columns": null,
            "grid_auto_flow": null,
            "grid_auto_rows": null,
            "grid_column": null,
            "grid_gap": null,
            "grid_row": null,
            "grid_template_areas": null,
            "grid_template_columns": null,
            "grid_template_rows": null,
            "height": null,
            "justify_content": null,
            "justify_items": null,
            "left": null,
            "margin": null,
            "max_height": null,
            "max_width": null,
            "min_height": null,
            "min_width": null,
            "object_fit": null,
            "object_position": null,
            "order": null,
            "overflow": null,
            "overflow_x": null,
            "overflow_y": null,
            "padding": null,
            "right": null,
            "top": null,
            "visibility": null,
            "width": null
          }
        },
        "ddda77dd4a1a49dca90dea8490f7f794": {
          "model_module": "@jupyter-widgets/base",
          "model_name": "LayoutModel",
          "model_module_version": "1.2.0",
          "state": {
            "_model_module": "@jupyter-widgets/base",
            "_model_module_version": "1.2.0",
            "_model_name": "LayoutModel",
            "_view_count": null,
            "_view_module": "@jupyter-widgets/base",
            "_view_module_version": "1.2.0",
            "_view_name": "LayoutView",
            "align_content": null,
            "align_items": null,
            "align_self": null,
            "border": null,
            "bottom": null,
            "display": null,
            "flex": null,
            "flex_flow": null,
            "grid_area": null,
            "grid_auto_columns": null,
            "grid_auto_flow": null,
            "grid_auto_rows": null,
            "grid_column": null,
            "grid_gap": null,
            "grid_row": null,
            "grid_template_areas": null,
            "grid_template_columns": null,
            "grid_template_rows": null,
            "height": null,
            "justify_content": null,
            "justify_items": null,
            "left": null,
            "margin": null,
            "max_height": null,
            "max_width": null,
            "min_height": null,
            "min_width": null,
            "object_fit": null,
            "object_position": null,
            "order": null,
            "overflow": null,
            "overflow_x": null,
            "overflow_y": null,
            "padding": null,
            "right": null,
            "top": null,
            "visibility": null,
            "width": null
          }
        },
        "697ce296ad194f24a17ccfc734853d41": {
          "model_module": "@jupyter-widgets/controls",
          "model_name": "DescriptionStyleModel",
          "model_module_version": "1.5.0",
          "state": {
            "_model_module": "@jupyter-widgets/controls",
            "_model_module_version": "1.5.0",
            "_model_name": "DescriptionStyleModel",
            "_view_count": null,
            "_view_module": "@jupyter-widgets/base",
            "_view_module_version": "1.2.0",
            "_view_name": "StyleView",
            "description_width": ""
          }
        },
        "e33e554d9af74277bdf616dfc36d8c64": {
          "model_module": "@jupyter-widgets/base",
          "model_name": "LayoutModel",
          "model_module_version": "1.2.0",
          "state": {
            "_model_module": "@jupyter-widgets/base",
            "_model_module_version": "1.2.0",
            "_model_name": "LayoutModel",
            "_view_count": null,
            "_view_module": "@jupyter-widgets/base",
            "_view_module_version": "1.2.0",
            "_view_name": "LayoutView",
            "align_content": null,
            "align_items": null,
            "align_self": null,
            "border": null,
            "bottom": null,
            "display": null,
            "flex": null,
            "flex_flow": null,
            "grid_area": null,
            "grid_auto_columns": null,
            "grid_auto_flow": null,
            "grid_auto_rows": null,
            "grid_column": null,
            "grid_gap": null,
            "grid_row": null,
            "grid_template_areas": null,
            "grid_template_columns": null,
            "grid_template_rows": null,
            "height": null,
            "justify_content": null,
            "justify_items": null,
            "left": null,
            "margin": null,
            "max_height": null,
            "max_width": null,
            "min_height": null,
            "min_width": null,
            "object_fit": null,
            "object_position": null,
            "order": null,
            "overflow": null,
            "overflow_x": null,
            "overflow_y": null,
            "padding": null,
            "right": null,
            "top": null,
            "visibility": null,
            "width": null
          }
        },
        "dca868eef62b45e88b6680ecfc5dddb3": {
          "model_module": "@jupyter-widgets/controls",
          "model_name": "ProgressStyleModel",
          "model_module_version": "1.5.0",
          "state": {
            "_model_module": "@jupyter-widgets/controls",
            "_model_module_version": "1.5.0",
            "_model_name": "ProgressStyleModel",
            "_view_count": null,
            "_view_module": "@jupyter-widgets/base",
            "_view_module_version": "1.2.0",
            "_view_name": "StyleView",
            "bar_color": null,
            "description_width": ""
          }
        },
        "faa10e4e8f09471eba1701cb193512d8": {
          "model_module": "@jupyter-widgets/base",
          "model_name": "LayoutModel",
          "model_module_version": "1.2.0",
          "state": {
            "_model_module": "@jupyter-widgets/base",
            "_model_module_version": "1.2.0",
            "_model_name": "LayoutModel",
            "_view_count": null,
            "_view_module": "@jupyter-widgets/base",
            "_view_module_version": "1.2.0",
            "_view_name": "LayoutView",
            "align_content": null,
            "align_items": null,
            "align_self": null,
            "border": null,
            "bottom": null,
            "display": null,
            "flex": null,
            "flex_flow": null,
            "grid_area": null,
            "grid_auto_columns": null,
            "grid_auto_flow": null,
            "grid_auto_rows": null,
            "grid_column": null,
            "grid_gap": null,
            "grid_row": null,
            "grid_template_areas": null,
            "grid_template_columns": null,
            "grid_template_rows": null,
            "height": null,
            "justify_content": null,
            "justify_items": null,
            "left": null,
            "margin": null,
            "max_height": null,
            "max_width": null,
            "min_height": null,
            "min_width": null,
            "object_fit": null,
            "object_position": null,
            "order": null,
            "overflow": null,
            "overflow_x": null,
            "overflow_y": null,
            "padding": null,
            "right": null,
            "top": null,
            "visibility": null,
            "width": null
          }
        },
        "98754110bf1246339aab038e12892982": {
          "model_module": "@jupyter-widgets/controls",
          "model_name": "DescriptionStyleModel",
          "model_module_version": "1.5.0",
          "state": {
            "_model_module": "@jupyter-widgets/controls",
            "_model_module_version": "1.5.0",
            "_model_name": "DescriptionStyleModel",
            "_view_count": null,
            "_view_module": "@jupyter-widgets/base",
            "_view_module_version": "1.2.0",
            "_view_name": "StyleView",
            "description_width": ""
          }
        },
        "570adfdd82f24a47b83c9c433759b606": {
          "model_module": "@jupyter-widgets/controls",
          "model_name": "HBoxModel",
          "model_module_version": "1.5.0",
          "state": {
            "_dom_classes": [],
            "_model_module": "@jupyter-widgets/controls",
            "_model_module_version": "1.5.0",
            "_model_name": "HBoxModel",
            "_view_count": null,
            "_view_module": "@jupyter-widgets/controls",
            "_view_module_version": "1.5.0",
            "_view_name": "HBoxView",
            "box_style": "",
            "children": [
              "IPY_MODEL_7eaf9b94a8204f1b916c0ea66f664a49",
              "IPY_MODEL_48058595333b489bb82142d961a5d8a4",
              "IPY_MODEL_0a729b58421441398c45c7cc30f8b14e"
            ],
            "layout": "IPY_MODEL_2474190db1014a0ebb456c5ca1e4e842"
          }
        },
        "7eaf9b94a8204f1b916c0ea66f664a49": {
          "model_module": "@jupyter-widgets/controls",
          "model_name": "HTMLModel",
          "model_module_version": "1.5.0",
          "state": {
            "_dom_classes": [],
            "_model_module": "@jupyter-widgets/controls",
            "_model_module_version": "1.5.0",
            "_model_name": "HTMLModel",
            "_view_count": null,
            "_view_module": "@jupyter-widgets/controls",
            "_view_module_version": "1.5.0",
            "_view_name": "HTMLView",
            "description": "",
            "description_tooltip": null,
            "layout": "IPY_MODEL_a7713e0953ab4120b247d5b663f3611a",
            "placeholder": "​",
            "style": "IPY_MODEL_552368d5b16a48d98f727894fe2960f7",
            "value": "Filter: 100%"
          }
        },
        "48058595333b489bb82142d961a5d8a4": {
          "model_module": "@jupyter-widgets/controls",
          "model_name": "FloatProgressModel",
          "model_module_version": "1.5.0",
          "state": {
            "_dom_classes": [],
            "_model_module": "@jupyter-widgets/controls",
            "_model_module_version": "1.5.0",
            "_model_name": "FloatProgressModel",
            "_view_count": null,
            "_view_module": "@jupyter-widgets/controls",
            "_view_module_version": "1.5.0",
            "_view_name": "ProgressView",
            "bar_style": "success",
            "description": "",
            "description_tooltip": null,
            "layout": "IPY_MODEL_5df3fe5cb3744ec78b458929866e6be8",
            "max": 56167,
            "min": 0,
            "orientation": "horizontal",
            "style": "IPY_MODEL_17055d72eb594e7b837c4e03d77b8baf",
            "value": 56167
          }
        },
        "0a729b58421441398c45c7cc30f8b14e": {
          "model_module": "@jupyter-widgets/controls",
          "model_name": "HTMLModel",
          "model_module_version": "1.5.0",
          "state": {
            "_dom_classes": [],
            "_model_module": "@jupyter-widgets/controls",
            "_model_module_version": "1.5.0",
            "_model_name": "HTMLModel",
            "_view_count": null,
            "_view_module": "@jupyter-widgets/controls",
            "_view_module_version": "1.5.0",
            "_view_name": "HTMLView",
            "description": "",
            "description_tooltip": null,
            "layout": "IPY_MODEL_dd9cd5d06db94b0ab90ec00337fe0829",
            "placeholder": "​",
            "style": "IPY_MODEL_9739214bdc544b5880c41cc2b0ae9dbb",
            "value": " 56167/56167 [00:01&lt;00:00, 48030.67 examples/s]"
          }
        },
        "2474190db1014a0ebb456c5ca1e4e842": {
          "model_module": "@jupyter-widgets/base",
          "model_name": "LayoutModel",
          "model_module_version": "1.2.0",
          "state": {
            "_model_module": "@jupyter-widgets/base",
            "_model_module_version": "1.2.0",
            "_model_name": "LayoutModel",
            "_view_count": null,
            "_view_module": "@jupyter-widgets/base",
            "_view_module_version": "1.2.0",
            "_view_name": "LayoutView",
            "align_content": null,
            "align_items": null,
            "align_self": null,
            "border": null,
            "bottom": null,
            "display": null,
            "flex": null,
            "flex_flow": null,
            "grid_area": null,
            "grid_auto_columns": null,
            "grid_auto_flow": null,
            "grid_auto_rows": null,
            "grid_column": null,
            "grid_gap": null,
            "grid_row": null,
            "grid_template_areas": null,
            "grid_template_columns": null,
            "grid_template_rows": null,
            "height": null,
            "justify_content": null,
            "justify_items": null,
            "left": null,
            "margin": null,
            "max_height": null,
            "max_width": null,
            "min_height": null,
            "min_width": null,
            "object_fit": null,
            "object_position": null,
            "order": null,
            "overflow": null,
            "overflow_x": null,
            "overflow_y": null,
            "padding": null,
            "right": null,
            "top": null,
            "visibility": null,
            "width": null
          }
        },
        "a7713e0953ab4120b247d5b663f3611a": {
          "model_module": "@jupyter-widgets/base",
          "model_name": "LayoutModel",
          "model_module_version": "1.2.0",
          "state": {
            "_model_module": "@jupyter-widgets/base",
            "_model_module_version": "1.2.0",
            "_model_name": "LayoutModel",
            "_view_count": null,
            "_view_module": "@jupyter-widgets/base",
            "_view_module_version": "1.2.0",
            "_view_name": "LayoutView",
            "align_content": null,
            "align_items": null,
            "align_self": null,
            "border": null,
            "bottom": null,
            "display": null,
            "flex": null,
            "flex_flow": null,
            "grid_area": null,
            "grid_auto_columns": null,
            "grid_auto_flow": null,
            "grid_auto_rows": null,
            "grid_column": null,
            "grid_gap": null,
            "grid_row": null,
            "grid_template_areas": null,
            "grid_template_columns": null,
            "grid_template_rows": null,
            "height": null,
            "justify_content": null,
            "justify_items": null,
            "left": null,
            "margin": null,
            "max_height": null,
            "max_width": null,
            "min_height": null,
            "min_width": null,
            "object_fit": null,
            "object_position": null,
            "order": null,
            "overflow": null,
            "overflow_x": null,
            "overflow_y": null,
            "padding": null,
            "right": null,
            "top": null,
            "visibility": null,
            "width": null
          }
        },
        "552368d5b16a48d98f727894fe2960f7": {
          "model_module": "@jupyter-widgets/controls",
          "model_name": "DescriptionStyleModel",
          "model_module_version": "1.5.0",
          "state": {
            "_model_module": "@jupyter-widgets/controls",
            "_model_module_version": "1.5.0",
            "_model_name": "DescriptionStyleModel",
            "_view_count": null,
            "_view_module": "@jupyter-widgets/base",
            "_view_module_version": "1.2.0",
            "_view_name": "StyleView",
            "description_width": ""
          }
        },
        "5df3fe5cb3744ec78b458929866e6be8": {
          "model_module": "@jupyter-widgets/base",
          "model_name": "LayoutModel",
          "model_module_version": "1.2.0",
          "state": {
            "_model_module": "@jupyter-widgets/base",
            "_model_module_version": "1.2.0",
            "_model_name": "LayoutModel",
            "_view_count": null,
            "_view_module": "@jupyter-widgets/base",
            "_view_module_version": "1.2.0",
            "_view_name": "LayoutView",
            "align_content": null,
            "align_items": null,
            "align_self": null,
            "border": null,
            "bottom": null,
            "display": null,
            "flex": null,
            "flex_flow": null,
            "grid_area": null,
            "grid_auto_columns": null,
            "grid_auto_flow": null,
            "grid_auto_rows": null,
            "grid_column": null,
            "grid_gap": null,
            "grid_row": null,
            "grid_template_areas": null,
            "grid_template_columns": null,
            "grid_template_rows": null,
            "height": null,
            "justify_content": null,
            "justify_items": null,
            "left": null,
            "margin": null,
            "max_height": null,
            "max_width": null,
            "min_height": null,
            "min_width": null,
            "object_fit": null,
            "object_position": null,
            "order": null,
            "overflow": null,
            "overflow_x": null,
            "overflow_y": null,
            "padding": null,
            "right": null,
            "top": null,
            "visibility": null,
            "width": null
          }
        },
        "17055d72eb594e7b837c4e03d77b8baf": {
          "model_module": "@jupyter-widgets/controls",
          "model_name": "ProgressStyleModel",
          "model_module_version": "1.5.0",
          "state": {
            "_model_module": "@jupyter-widgets/controls",
            "_model_module_version": "1.5.0",
            "_model_name": "ProgressStyleModel",
            "_view_count": null,
            "_view_module": "@jupyter-widgets/base",
            "_view_module_version": "1.2.0",
            "_view_name": "StyleView",
            "bar_color": null,
            "description_width": ""
          }
        },
        "dd9cd5d06db94b0ab90ec00337fe0829": {
          "model_module": "@jupyter-widgets/base",
          "model_name": "LayoutModel",
          "model_module_version": "1.2.0",
          "state": {
            "_model_module": "@jupyter-widgets/base",
            "_model_module_version": "1.2.0",
            "_model_name": "LayoutModel",
            "_view_count": null,
            "_view_module": "@jupyter-widgets/base",
            "_view_module_version": "1.2.0",
            "_view_name": "LayoutView",
            "align_content": null,
            "align_items": null,
            "align_self": null,
            "border": null,
            "bottom": null,
            "display": null,
            "flex": null,
            "flex_flow": null,
            "grid_area": null,
            "grid_auto_columns": null,
            "grid_auto_flow": null,
            "grid_auto_rows": null,
            "grid_column": null,
            "grid_gap": null,
            "grid_row": null,
            "grid_template_areas": null,
            "grid_template_columns": null,
            "grid_template_rows": null,
            "height": null,
            "justify_content": null,
            "justify_items": null,
            "left": null,
            "margin": null,
            "max_height": null,
            "max_width": null,
            "min_height": null,
            "min_width": null,
            "object_fit": null,
            "object_position": null,
            "order": null,
            "overflow": null,
            "overflow_x": null,
            "overflow_y": null,
            "padding": null,
            "right": null,
            "top": null,
            "visibility": null,
            "width": null
          }
        },
        "9739214bdc544b5880c41cc2b0ae9dbb": {
          "model_module": "@jupyter-widgets/controls",
          "model_name": "DescriptionStyleModel",
          "model_module_version": "1.5.0",
          "state": {
            "_model_module": "@jupyter-widgets/controls",
            "_model_module_version": "1.5.0",
            "_model_name": "DescriptionStyleModel",
            "_view_count": null,
            "_view_module": "@jupyter-widgets/base",
            "_view_module_version": "1.2.0",
            "_view_name": "StyleView",
            "description_width": ""
          }
        },
        "70612c6df99a4b6398ffb5fdb6423a5e": {
          "model_module": "@jupyter-widgets/controls",
          "model_name": "HBoxModel",
          "model_module_version": "1.5.0",
          "state": {
            "_dom_classes": [],
            "_model_module": "@jupyter-widgets/controls",
            "_model_module_version": "1.5.0",
            "_model_name": "HBoxModel",
            "_view_count": null,
            "_view_module": "@jupyter-widgets/controls",
            "_view_module_version": "1.5.0",
            "_view_name": "HBoxView",
            "box_style": "",
            "children": [
              "IPY_MODEL_e2a4c550b22541249347a4699f57dfc0",
              "IPY_MODEL_1a71adf5012f4c3883ee9bb023f43a49",
              "IPY_MODEL_6b56b5675d414e19bf82234f1495f8be"
            ],
            "layout": "IPY_MODEL_7ac0de05514b4446a5af41b2e3eb5531"
          }
        },
        "e2a4c550b22541249347a4699f57dfc0": {
          "model_module": "@jupyter-widgets/controls",
          "model_name": "HTMLModel",
          "model_module_version": "1.5.0",
          "state": {
            "_dom_classes": [],
            "_model_module": "@jupyter-widgets/controls",
            "_model_module_version": "1.5.0",
            "_model_name": "HTMLModel",
            "_view_count": null,
            "_view_module": "@jupyter-widgets/controls",
            "_view_module_version": "1.5.0",
            "_view_name": "HTMLView",
            "description": "",
            "description_tooltip": null,
            "layout": "IPY_MODEL_61ea45ef861b4eceacd7e6f6288add59",
            "placeholder": "​",
            "style": "IPY_MODEL_e054571129a14173831ecfa7a47696dd",
            "value": "Filter: 100%"
          }
        },
        "1a71adf5012f4c3883ee9bb023f43a49": {
          "model_module": "@jupyter-widgets/controls",
          "model_name": "FloatProgressModel",
          "model_module_version": "1.5.0",
          "state": {
            "_dom_classes": [],
            "_model_module": "@jupyter-widgets/controls",
            "_model_module_version": "1.5.0",
            "_model_name": "FloatProgressModel",
            "_view_count": null,
            "_view_module": "@jupyter-widgets/controls",
            "_view_module_version": "1.5.0",
            "_view_name": "ProgressView",
            "bar_style": "success",
            "description": "",
            "description_tooltip": null,
            "layout": "IPY_MODEL_07d38f94630848df98548a00250d32df",
            "max": 6807,
            "min": 0,
            "orientation": "horizontal",
            "style": "IPY_MODEL_6da58a2d2a5343118dbd38358a934967",
            "value": 6807
          }
        },
        "6b56b5675d414e19bf82234f1495f8be": {
          "model_module": "@jupyter-widgets/controls",
          "model_name": "HTMLModel",
          "model_module_version": "1.5.0",
          "state": {
            "_dom_classes": [],
            "_model_module": "@jupyter-widgets/controls",
            "_model_module_version": "1.5.0",
            "_model_name": "HTMLModel",
            "_view_count": null,
            "_view_module": "@jupyter-widgets/controls",
            "_view_module_version": "1.5.0",
            "_view_name": "HTMLView",
            "description": "",
            "description_tooltip": null,
            "layout": "IPY_MODEL_4a94adbd055c4f73ae8e08cc67d2a1ca",
            "placeholder": "​",
            "style": "IPY_MODEL_f21aac031ea249f3b4e1874cdaa7de83",
            "value": " 6807/6807 [00:00&lt;00:00, 31887.51 examples/s]"
          }
        },
        "7ac0de05514b4446a5af41b2e3eb5531": {
          "model_module": "@jupyter-widgets/base",
          "model_name": "LayoutModel",
          "model_module_version": "1.2.0",
          "state": {
            "_model_module": "@jupyter-widgets/base",
            "_model_module_version": "1.2.0",
            "_model_name": "LayoutModel",
            "_view_count": null,
            "_view_module": "@jupyter-widgets/base",
            "_view_module_version": "1.2.0",
            "_view_name": "LayoutView",
            "align_content": null,
            "align_items": null,
            "align_self": null,
            "border": null,
            "bottom": null,
            "display": null,
            "flex": null,
            "flex_flow": null,
            "grid_area": null,
            "grid_auto_columns": null,
            "grid_auto_flow": null,
            "grid_auto_rows": null,
            "grid_column": null,
            "grid_gap": null,
            "grid_row": null,
            "grid_template_areas": null,
            "grid_template_columns": null,
            "grid_template_rows": null,
            "height": null,
            "justify_content": null,
            "justify_items": null,
            "left": null,
            "margin": null,
            "max_height": null,
            "max_width": null,
            "min_height": null,
            "min_width": null,
            "object_fit": null,
            "object_position": null,
            "order": null,
            "overflow": null,
            "overflow_x": null,
            "overflow_y": null,
            "padding": null,
            "right": null,
            "top": null,
            "visibility": null,
            "width": null
          }
        },
        "61ea45ef861b4eceacd7e6f6288add59": {
          "model_module": "@jupyter-widgets/base",
          "model_name": "LayoutModel",
          "model_module_version": "1.2.0",
          "state": {
            "_model_module": "@jupyter-widgets/base",
            "_model_module_version": "1.2.0",
            "_model_name": "LayoutModel",
            "_view_count": null,
            "_view_module": "@jupyter-widgets/base",
            "_view_module_version": "1.2.0",
            "_view_name": "LayoutView",
            "align_content": null,
            "align_items": null,
            "align_self": null,
            "border": null,
            "bottom": null,
            "display": null,
            "flex": null,
            "flex_flow": null,
            "grid_area": null,
            "grid_auto_columns": null,
            "grid_auto_flow": null,
            "grid_auto_rows": null,
            "grid_column": null,
            "grid_gap": null,
            "grid_row": null,
            "grid_template_areas": null,
            "grid_template_columns": null,
            "grid_template_rows": null,
            "height": null,
            "justify_content": null,
            "justify_items": null,
            "left": null,
            "margin": null,
            "max_height": null,
            "max_width": null,
            "min_height": null,
            "min_width": null,
            "object_fit": null,
            "object_position": null,
            "order": null,
            "overflow": null,
            "overflow_x": null,
            "overflow_y": null,
            "padding": null,
            "right": null,
            "top": null,
            "visibility": null,
            "width": null
          }
        },
        "e054571129a14173831ecfa7a47696dd": {
          "model_module": "@jupyter-widgets/controls",
          "model_name": "DescriptionStyleModel",
          "model_module_version": "1.5.0",
          "state": {
            "_model_module": "@jupyter-widgets/controls",
            "_model_module_version": "1.5.0",
            "_model_name": "DescriptionStyleModel",
            "_view_count": null,
            "_view_module": "@jupyter-widgets/base",
            "_view_module_version": "1.2.0",
            "_view_name": "StyleView",
            "description_width": ""
          }
        },
        "07d38f94630848df98548a00250d32df": {
          "model_module": "@jupyter-widgets/base",
          "model_name": "LayoutModel",
          "model_module_version": "1.2.0",
          "state": {
            "_model_module": "@jupyter-widgets/base",
            "_model_module_version": "1.2.0",
            "_model_name": "LayoutModel",
            "_view_count": null,
            "_view_module": "@jupyter-widgets/base",
            "_view_module_version": "1.2.0",
            "_view_name": "LayoutView",
            "align_content": null,
            "align_items": null,
            "align_self": null,
            "border": null,
            "bottom": null,
            "display": null,
            "flex": null,
            "flex_flow": null,
            "grid_area": null,
            "grid_auto_columns": null,
            "grid_auto_flow": null,
            "grid_auto_rows": null,
            "grid_column": null,
            "grid_gap": null,
            "grid_row": null,
            "grid_template_areas": null,
            "grid_template_columns": null,
            "grid_template_rows": null,
            "height": null,
            "justify_content": null,
            "justify_items": null,
            "left": null,
            "margin": null,
            "max_height": null,
            "max_width": null,
            "min_height": null,
            "min_width": null,
            "object_fit": null,
            "object_position": null,
            "order": null,
            "overflow": null,
            "overflow_x": null,
            "overflow_y": null,
            "padding": null,
            "right": null,
            "top": null,
            "visibility": null,
            "width": null
          }
        },
        "6da58a2d2a5343118dbd38358a934967": {
          "model_module": "@jupyter-widgets/controls",
          "model_name": "ProgressStyleModel",
          "model_module_version": "1.5.0",
          "state": {
            "_model_module": "@jupyter-widgets/controls",
            "_model_module_version": "1.5.0",
            "_model_name": "ProgressStyleModel",
            "_view_count": null,
            "_view_module": "@jupyter-widgets/base",
            "_view_module_version": "1.2.0",
            "_view_name": "StyleView",
            "bar_color": null,
            "description_width": ""
          }
        },
        "4a94adbd055c4f73ae8e08cc67d2a1ca": {
          "model_module": "@jupyter-widgets/base",
          "model_name": "LayoutModel",
          "model_module_version": "1.2.0",
          "state": {
            "_model_module": "@jupyter-widgets/base",
            "_model_module_version": "1.2.0",
            "_model_name": "LayoutModel",
            "_view_count": null,
            "_view_module": "@jupyter-widgets/base",
            "_view_module_version": "1.2.0",
            "_view_name": "LayoutView",
            "align_content": null,
            "align_items": null,
            "align_self": null,
            "border": null,
            "bottom": null,
            "display": null,
            "flex": null,
            "flex_flow": null,
            "grid_area": null,
            "grid_auto_columns": null,
            "grid_auto_flow": null,
            "grid_auto_rows": null,
            "grid_column": null,
            "grid_gap": null,
            "grid_row": null,
            "grid_template_areas": null,
            "grid_template_columns": null,
            "grid_template_rows": null,
            "height": null,
            "justify_content": null,
            "justify_items": null,
            "left": null,
            "margin": null,
            "max_height": null,
            "max_width": null,
            "min_height": null,
            "min_width": null,
            "object_fit": null,
            "object_position": null,
            "order": null,
            "overflow": null,
            "overflow_x": null,
            "overflow_y": null,
            "padding": null,
            "right": null,
            "top": null,
            "visibility": null,
            "width": null
          }
        },
        "f21aac031ea249f3b4e1874cdaa7de83": {
          "model_module": "@jupyter-widgets/controls",
          "model_name": "DescriptionStyleModel",
          "model_module_version": "1.5.0",
          "state": {
            "_model_module": "@jupyter-widgets/controls",
            "_model_module_version": "1.5.0",
            "_model_name": "DescriptionStyleModel",
            "_view_count": null,
            "_view_module": "@jupyter-widgets/base",
            "_view_module_version": "1.2.0",
            "_view_name": "StyleView",
            "description_width": ""
          }
        },
        "be1b25a2d5d041fdb1fbd6fcdf1785ac": {
          "model_module": "@jupyter-widgets/controls",
          "model_name": "HBoxModel",
          "model_module_version": "1.5.0",
          "state": {
            "_dom_classes": [],
            "_model_module": "@jupyter-widgets/controls",
            "_model_module_version": "1.5.0",
            "_model_name": "HBoxModel",
            "_view_count": null,
            "_view_module": "@jupyter-widgets/controls",
            "_view_module_version": "1.5.0",
            "_view_name": "HBoxView",
            "box_style": "",
            "children": [
              "IPY_MODEL_4f3461c2881143e6a75372f0ad129749",
              "IPY_MODEL_200278a2556e418e8ce13f0f48dd0969",
              "IPY_MODEL_3c389a2d80074e37af104d5f4e5637e1"
            ],
            "layout": "IPY_MODEL_aeaaae04f0034490ae4f71920c4a93b3"
          }
        },
        "4f3461c2881143e6a75372f0ad129749": {
          "model_module": "@jupyter-widgets/controls",
          "model_name": "HTMLModel",
          "model_module_version": "1.5.0",
          "state": {
            "_dom_classes": [],
            "_model_module": "@jupyter-widgets/controls",
            "_model_module_version": "1.5.0",
            "_model_name": "HTMLModel",
            "_view_count": null,
            "_view_module": "@jupyter-widgets/controls",
            "_view_module_version": "1.5.0",
            "_view_name": "HTMLView",
            "description": "",
            "description_tooltip": null,
            "layout": "IPY_MODEL_8df2ded0a5574251aea3d0bb069ffa0e",
            "placeholder": "​",
            "style": "IPY_MODEL_a60fc8cdfae1409abddf390f3bda8f5f",
            "value": "Creating json from Arrow format: 100%"
          }
        },
        "200278a2556e418e8ce13f0f48dd0969": {
          "model_module": "@jupyter-widgets/controls",
          "model_name": "FloatProgressModel",
          "model_module_version": "1.5.0",
          "state": {
            "_dom_classes": [],
            "_model_module": "@jupyter-widgets/controls",
            "_model_module_version": "1.5.0",
            "_model_name": "FloatProgressModel",
            "_view_count": null,
            "_view_module": "@jupyter-widgets/controls",
            "_view_module_version": "1.5.0",
            "_view_name": "ProgressView",
            "bar_style": "success",
            "description": "",
            "description_tooltip": null,
            "layout": "IPY_MODEL_5cb494aeb7834f12ab9a2503d372ab55",
            "max": 41,
            "min": 0,
            "orientation": "horizontal",
            "style": "IPY_MODEL_f7582ee9cd0646eebe5134c5b557b909",
            "value": 41
          }
        },
        "3c389a2d80074e37af104d5f4e5637e1": {
          "model_module": "@jupyter-widgets/controls",
          "model_name": "HTMLModel",
          "model_module_version": "1.5.0",
          "state": {
            "_dom_classes": [],
            "_model_module": "@jupyter-widgets/controls",
            "_model_module_version": "1.5.0",
            "_model_name": "HTMLModel",
            "_view_count": null,
            "_view_module": "@jupyter-widgets/controls",
            "_view_module_version": "1.5.0",
            "_view_name": "HTMLView",
            "description": "",
            "description_tooltip": null,
            "layout": "IPY_MODEL_10ca8b0809ef4db0980b3292a44808af",
            "placeholder": "​",
            "style": "IPY_MODEL_c98ffc9b29d441abaacee88c3067758f",
            "value": " 41/41 [00:01&lt;00:00, 30.35ba/s]"
          }
        },
        "aeaaae04f0034490ae4f71920c4a93b3": {
          "model_module": "@jupyter-widgets/base",
          "model_name": "LayoutModel",
          "model_module_version": "1.2.0",
          "state": {
            "_model_module": "@jupyter-widgets/base",
            "_model_module_version": "1.2.0",
            "_model_name": "LayoutModel",
            "_view_count": null,
            "_view_module": "@jupyter-widgets/base",
            "_view_module_version": "1.2.0",
            "_view_name": "LayoutView",
            "align_content": null,
            "align_items": null,
            "align_self": null,
            "border": null,
            "bottom": null,
            "display": null,
            "flex": null,
            "flex_flow": null,
            "grid_area": null,
            "grid_auto_columns": null,
            "grid_auto_flow": null,
            "grid_auto_rows": null,
            "grid_column": null,
            "grid_gap": null,
            "grid_row": null,
            "grid_template_areas": null,
            "grid_template_columns": null,
            "grid_template_rows": null,
            "height": null,
            "justify_content": null,
            "justify_items": null,
            "left": null,
            "margin": null,
            "max_height": null,
            "max_width": null,
            "min_height": null,
            "min_width": null,
            "object_fit": null,
            "object_position": null,
            "order": null,
            "overflow": null,
            "overflow_x": null,
            "overflow_y": null,
            "padding": null,
            "right": null,
            "top": null,
            "visibility": null,
            "width": null
          }
        },
        "8df2ded0a5574251aea3d0bb069ffa0e": {
          "model_module": "@jupyter-widgets/base",
          "model_name": "LayoutModel",
          "model_module_version": "1.2.0",
          "state": {
            "_model_module": "@jupyter-widgets/base",
            "_model_module_version": "1.2.0",
            "_model_name": "LayoutModel",
            "_view_count": null,
            "_view_module": "@jupyter-widgets/base",
            "_view_module_version": "1.2.0",
            "_view_name": "LayoutView",
            "align_content": null,
            "align_items": null,
            "align_self": null,
            "border": null,
            "bottom": null,
            "display": null,
            "flex": null,
            "flex_flow": null,
            "grid_area": null,
            "grid_auto_columns": null,
            "grid_auto_flow": null,
            "grid_auto_rows": null,
            "grid_column": null,
            "grid_gap": null,
            "grid_row": null,
            "grid_template_areas": null,
            "grid_template_columns": null,
            "grid_template_rows": null,
            "height": null,
            "justify_content": null,
            "justify_items": null,
            "left": null,
            "margin": null,
            "max_height": null,
            "max_width": null,
            "min_height": null,
            "min_width": null,
            "object_fit": null,
            "object_position": null,
            "order": null,
            "overflow": null,
            "overflow_x": null,
            "overflow_y": null,
            "padding": null,
            "right": null,
            "top": null,
            "visibility": null,
            "width": null
          }
        },
        "a60fc8cdfae1409abddf390f3bda8f5f": {
          "model_module": "@jupyter-widgets/controls",
          "model_name": "DescriptionStyleModel",
          "model_module_version": "1.5.0",
          "state": {
            "_model_module": "@jupyter-widgets/controls",
            "_model_module_version": "1.5.0",
            "_model_name": "DescriptionStyleModel",
            "_view_count": null,
            "_view_module": "@jupyter-widgets/base",
            "_view_module_version": "1.2.0",
            "_view_name": "StyleView",
            "description_width": ""
          }
        },
        "5cb494aeb7834f12ab9a2503d372ab55": {
          "model_module": "@jupyter-widgets/base",
          "model_name": "LayoutModel",
          "model_module_version": "1.2.0",
          "state": {
            "_model_module": "@jupyter-widgets/base",
            "_model_module_version": "1.2.0",
            "_model_name": "LayoutModel",
            "_view_count": null,
            "_view_module": "@jupyter-widgets/base",
            "_view_module_version": "1.2.0",
            "_view_name": "LayoutView",
            "align_content": null,
            "align_items": null,
            "align_self": null,
            "border": null,
            "bottom": null,
            "display": null,
            "flex": null,
            "flex_flow": null,
            "grid_area": null,
            "grid_auto_columns": null,
            "grid_auto_flow": null,
            "grid_auto_rows": null,
            "grid_column": null,
            "grid_gap": null,
            "grid_row": null,
            "grid_template_areas": null,
            "grid_template_columns": null,
            "grid_template_rows": null,
            "height": null,
            "justify_content": null,
            "justify_items": null,
            "left": null,
            "margin": null,
            "max_height": null,
            "max_width": null,
            "min_height": null,
            "min_width": null,
            "object_fit": null,
            "object_position": null,
            "order": null,
            "overflow": null,
            "overflow_x": null,
            "overflow_y": null,
            "padding": null,
            "right": null,
            "top": null,
            "visibility": null,
            "width": null
          }
        },
        "f7582ee9cd0646eebe5134c5b557b909": {
          "model_module": "@jupyter-widgets/controls",
          "model_name": "ProgressStyleModel",
          "model_module_version": "1.5.0",
          "state": {
            "_model_module": "@jupyter-widgets/controls",
            "_model_module_version": "1.5.0",
            "_model_name": "ProgressStyleModel",
            "_view_count": null,
            "_view_module": "@jupyter-widgets/base",
            "_view_module_version": "1.2.0",
            "_view_name": "StyleView",
            "bar_color": null,
            "description_width": ""
          }
        },
        "10ca8b0809ef4db0980b3292a44808af": {
          "model_module": "@jupyter-widgets/base",
          "model_name": "LayoutModel",
          "model_module_version": "1.2.0",
          "state": {
            "_model_module": "@jupyter-widgets/base",
            "_model_module_version": "1.2.0",
            "_model_name": "LayoutModel",
            "_view_count": null,
            "_view_module": "@jupyter-widgets/base",
            "_view_module_version": "1.2.0",
            "_view_name": "LayoutView",
            "align_content": null,
            "align_items": null,
            "align_self": null,
            "border": null,
            "bottom": null,
            "display": null,
            "flex": null,
            "flex_flow": null,
            "grid_area": null,
            "grid_auto_columns": null,
            "grid_auto_flow": null,
            "grid_auto_rows": null,
            "grid_column": null,
            "grid_gap": null,
            "grid_row": null,
            "grid_template_areas": null,
            "grid_template_columns": null,
            "grid_template_rows": null,
            "height": null,
            "justify_content": null,
            "justify_items": null,
            "left": null,
            "margin": null,
            "max_height": null,
            "max_width": null,
            "min_height": null,
            "min_width": null,
            "object_fit": null,
            "object_position": null,
            "order": null,
            "overflow": null,
            "overflow_x": null,
            "overflow_y": null,
            "padding": null,
            "right": null,
            "top": null,
            "visibility": null,
            "width": null
          }
        },
        "c98ffc9b29d441abaacee88c3067758f": {
          "model_module": "@jupyter-widgets/controls",
          "model_name": "DescriptionStyleModel",
          "model_module_version": "1.5.0",
          "state": {
            "_model_module": "@jupyter-widgets/controls",
            "_model_module_version": "1.5.0",
            "_model_name": "DescriptionStyleModel",
            "_view_count": null,
            "_view_module": "@jupyter-widgets/base",
            "_view_module_version": "1.2.0",
            "_view_name": "StyleView",
            "description_width": ""
          }
        },
        "351daaae4aad493f8424898917940dee": {
          "model_module": "@jupyter-widgets/controls",
          "model_name": "HBoxModel",
          "model_module_version": "1.5.0",
          "state": {
            "_dom_classes": [],
            "_model_module": "@jupyter-widgets/controls",
            "_model_module_version": "1.5.0",
            "_model_name": "HBoxModel",
            "_view_count": null,
            "_view_module": "@jupyter-widgets/controls",
            "_view_module_version": "1.5.0",
            "_view_name": "HBoxView",
            "box_style": "",
            "children": [
              "IPY_MODEL_869fac765e284cd2b546b40c7200c46a",
              "IPY_MODEL_8859cc8771d340888d47f667518741e7",
              "IPY_MODEL_553ccaf73eec4495b64c771ebb960659"
            ],
            "layout": "IPY_MODEL_47a1013aa21e45f1a8bbb1a43baba6c5"
          }
        },
        "869fac765e284cd2b546b40c7200c46a": {
          "model_module": "@jupyter-widgets/controls",
          "model_name": "HTMLModel",
          "model_module_version": "1.5.0",
          "state": {
            "_dom_classes": [],
            "_model_module": "@jupyter-widgets/controls",
            "_model_module_version": "1.5.0",
            "_model_name": "HTMLModel",
            "_view_count": null,
            "_view_module": "@jupyter-widgets/controls",
            "_view_module_version": "1.5.0",
            "_view_name": "HTMLView",
            "description": "",
            "description_tooltip": null,
            "layout": "IPY_MODEL_2c2681e77e7541008d9fe9cdd7b737af",
            "placeholder": "​",
            "style": "IPY_MODEL_e2ca4b8834e6454d960afe959640d203",
            "value": "Creating json from Arrow format: 100%"
          }
        },
        "8859cc8771d340888d47f667518741e7": {
          "model_module": "@jupyter-widgets/controls",
          "model_name": "FloatProgressModel",
          "model_module_version": "1.5.0",
          "state": {
            "_dom_classes": [],
            "_model_module": "@jupyter-widgets/controls",
            "_model_module_version": "1.5.0",
            "_model_name": "FloatProgressModel",
            "_view_count": null,
            "_view_module": "@jupyter-widgets/controls",
            "_view_module_version": "1.5.0",
            "_view_name": "ProgressView",
            "bar_style": "success",
            "description": "",
            "description_tooltip": null,
            "layout": "IPY_MODEL_9182576eed5a47ca979b14ce78ad4c1e",
            "max": 6,
            "min": 0,
            "orientation": "horizontal",
            "style": "IPY_MODEL_39a91265600e4bb492a70cc225261794",
            "value": 6
          }
        },
        "553ccaf73eec4495b64c771ebb960659": {
          "model_module": "@jupyter-widgets/controls",
          "model_name": "HTMLModel",
          "model_module_version": "1.5.0",
          "state": {
            "_dom_classes": [],
            "_model_module": "@jupyter-widgets/controls",
            "_model_module_version": "1.5.0",
            "_model_name": "HTMLModel",
            "_view_count": null,
            "_view_module": "@jupyter-widgets/controls",
            "_view_module_version": "1.5.0",
            "_view_name": "HTMLView",
            "description": "",
            "description_tooltip": null,
            "layout": "IPY_MODEL_788d8a9cfe8c497c9f609e6f64191271",
            "placeholder": "​",
            "style": "IPY_MODEL_70171068cf3340c6aa20cf19a7370127",
            "value": " 6/6 [00:00&lt;00:00, 23.78ba/s]"
          }
        },
        "47a1013aa21e45f1a8bbb1a43baba6c5": {
          "model_module": "@jupyter-widgets/base",
          "model_name": "LayoutModel",
          "model_module_version": "1.2.0",
          "state": {
            "_model_module": "@jupyter-widgets/base",
            "_model_module_version": "1.2.0",
            "_model_name": "LayoutModel",
            "_view_count": null,
            "_view_module": "@jupyter-widgets/base",
            "_view_module_version": "1.2.0",
            "_view_name": "LayoutView",
            "align_content": null,
            "align_items": null,
            "align_self": null,
            "border": null,
            "bottom": null,
            "display": null,
            "flex": null,
            "flex_flow": null,
            "grid_area": null,
            "grid_auto_columns": null,
            "grid_auto_flow": null,
            "grid_auto_rows": null,
            "grid_column": null,
            "grid_gap": null,
            "grid_row": null,
            "grid_template_areas": null,
            "grid_template_columns": null,
            "grid_template_rows": null,
            "height": null,
            "justify_content": null,
            "justify_items": null,
            "left": null,
            "margin": null,
            "max_height": null,
            "max_width": null,
            "min_height": null,
            "min_width": null,
            "object_fit": null,
            "object_position": null,
            "order": null,
            "overflow": null,
            "overflow_x": null,
            "overflow_y": null,
            "padding": null,
            "right": null,
            "top": null,
            "visibility": null,
            "width": null
          }
        },
        "2c2681e77e7541008d9fe9cdd7b737af": {
          "model_module": "@jupyter-widgets/base",
          "model_name": "LayoutModel",
          "model_module_version": "1.2.0",
          "state": {
            "_model_module": "@jupyter-widgets/base",
            "_model_module_version": "1.2.0",
            "_model_name": "LayoutModel",
            "_view_count": null,
            "_view_module": "@jupyter-widgets/base",
            "_view_module_version": "1.2.0",
            "_view_name": "LayoutView",
            "align_content": null,
            "align_items": null,
            "align_self": null,
            "border": null,
            "bottom": null,
            "display": null,
            "flex": null,
            "flex_flow": null,
            "grid_area": null,
            "grid_auto_columns": null,
            "grid_auto_flow": null,
            "grid_auto_rows": null,
            "grid_column": null,
            "grid_gap": null,
            "grid_row": null,
            "grid_template_areas": null,
            "grid_template_columns": null,
            "grid_template_rows": null,
            "height": null,
            "justify_content": null,
            "justify_items": null,
            "left": null,
            "margin": null,
            "max_height": null,
            "max_width": null,
            "min_height": null,
            "min_width": null,
            "object_fit": null,
            "object_position": null,
            "order": null,
            "overflow": null,
            "overflow_x": null,
            "overflow_y": null,
            "padding": null,
            "right": null,
            "top": null,
            "visibility": null,
            "width": null
          }
        },
        "e2ca4b8834e6454d960afe959640d203": {
          "model_module": "@jupyter-widgets/controls",
          "model_name": "DescriptionStyleModel",
          "model_module_version": "1.5.0",
          "state": {
            "_model_module": "@jupyter-widgets/controls",
            "_model_module_version": "1.5.0",
            "_model_name": "DescriptionStyleModel",
            "_view_count": null,
            "_view_module": "@jupyter-widgets/base",
            "_view_module_version": "1.2.0",
            "_view_name": "StyleView",
            "description_width": ""
          }
        },
        "9182576eed5a47ca979b14ce78ad4c1e": {
          "model_module": "@jupyter-widgets/base",
          "model_name": "LayoutModel",
          "model_module_version": "1.2.0",
          "state": {
            "_model_module": "@jupyter-widgets/base",
            "_model_module_version": "1.2.0",
            "_model_name": "LayoutModel",
            "_view_count": null,
            "_view_module": "@jupyter-widgets/base",
            "_view_module_version": "1.2.0",
            "_view_name": "LayoutView",
            "align_content": null,
            "align_items": null,
            "align_self": null,
            "border": null,
            "bottom": null,
            "display": null,
            "flex": null,
            "flex_flow": null,
            "grid_area": null,
            "grid_auto_columns": null,
            "grid_auto_flow": null,
            "grid_auto_rows": null,
            "grid_column": null,
            "grid_gap": null,
            "grid_row": null,
            "grid_template_areas": null,
            "grid_template_columns": null,
            "grid_template_rows": null,
            "height": null,
            "justify_content": null,
            "justify_items": null,
            "left": null,
            "margin": null,
            "max_height": null,
            "max_width": null,
            "min_height": null,
            "min_width": null,
            "object_fit": null,
            "object_position": null,
            "order": null,
            "overflow": null,
            "overflow_x": null,
            "overflow_y": null,
            "padding": null,
            "right": null,
            "top": null,
            "visibility": null,
            "width": null
          }
        },
        "39a91265600e4bb492a70cc225261794": {
          "model_module": "@jupyter-widgets/controls",
          "model_name": "ProgressStyleModel",
          "model_module_version": "1.5.0",
          "state": {
            "_model_module": "@jupyter-widgets/controls",
            "_model_module_version": "1.5.0",
            "_model_name": "ProgressStyleModel",
            "_view_count": null,
            "_view_module": "@jupyter-widgets/base",
            "_view_module_version": "1.2.0",
            "_view_name": "StyleView",
            "bar_color": null,
            "description_width": ""
          }
        },
        "788d8a9cfe8c497c9f609e6f64191271": {
          "model_module": "@jupyter-widgets/base",
          "model_name": "LayoutModel",
          "model_module_version": "1.2.0",
          "state": {
            "_model_module": "@jupyter-widgets/base",
            "_model_module_version": "1.2.0",
            "_model_name": "LayoutModel",
            "_view_count": null,
            "_view_module": "@jupyter-widgets/base",
            "_view_module_version": "1.2.0",
            "_view_name": "LayoutView",
            "align_content": null,
            "align_items": null,
            "align_self": null,
            "border": null,
            "bottom": null,
            "display": null,
            "flex": null,
            "flex_flow": null,
            "grid_area": null,
            "grid_auto_columns": null,
            "grid_auto_flow": null,
            "grid_auto_rows": null,
            "grid_column": null,
            "grid_gap": null,
            "grid_row": null,
            "grid_template_areas": null,
            "grid_template_columns": null,
            "grid_template_rows": null,
            "height": null,
            "justify_content": null,
            "justify_items": null,
            "left": null,
            "margin": null,
            "max_height": null,
            "max_width": null,
            "min_height": null,
            "min_width": null,
            "object_fit": null,
            "object_position": null,
            "order": null,
            "overflow": null,
            "overflow_x": null,
            "overflow_y": null,
            "padding": null,
            "right": null,
            "top": null,
            "visibility": null,
            "width": null
          }
        },
        "70171068cf3340c6aa20cf19a7370127": {
          "model_module": "@jupyter-widgets/controls",
          "model_name": "DescriptionStyleModel",
          "model_module_version": "1.5.0",
          "state": {
            "_model_module": "@jupyter-widgets/controls",
            "_model_module_version": "1.5.0",
            "_model_name": "DescriptionStyleModel",
            "_view_count": null,
            "_view_module": "@jupyter-widgets/base",
            "_view_module_version": "1.2.0",
            "_view_name": "StyleView",
            "description_width": ""
          }
        }
      }
    }
  },
  "nbformat": 4,
  "nbformat_minor": 0
}